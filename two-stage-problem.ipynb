{
 "cells": [
  {
   "cell_type": "markdown",
   "metadata": {},
   "source": [
    "# A two stage stochastic program\n",
    "\n",
    "Assume that you are warming your house with fuel. Currently fuel is at 750€/1000 liters. \n",
    "You can store up to 1000l for the winter, but you don't know yet how much you will use, and how much it will cost to buy fuel during winter.\n",
    "\n",
    "We assume that there are $4$ scenarios, with probabilities $p$, futur fuel cost $c$ and demand $d$ given afterwards.\n",
    "We want to minimize the expected costs of warming yourself during winter."
   ]
  },
  {
   "cell_type": "code",
   "execution_count": 2,
   "metadata": {},
   "outputs": [
    {
     "data": {
      "text/plain": [
       "1×4 Array{Int64,2}:\n",
       " 500  700  800  1000"
      ]
     },
     "execution_count": 2,
     "metadata": {},
     "output_type": "execute_result"
    }
   ],
   "source": [
    "using JuMP, Clp\n",
    "\n",
    "S = 4 \n",
    "p = [0.1 0.4 0.4 0.1]\n",
    "c0 = 750\n",
    "c1 = [700 770 900 900]\n",
    "d = [500 700 800 1000]"
   ]
  },
  {
   "cell_type": "markdown",
   "metadata": {},
   "source": [
    "## Question 1\n",
    "\n",
    "Solve the corresponding 2 stage program. Give the optimal value, and optimal controls."
   ]
  },
  {
   "cell_type": "code",
   "execution_count": 14,
   "metadata": {},
   "outputs": [
    {
     "name": "stdout",
     "output_type": "stream",
     "text": [
      "Min 0.75 u0 + 0.07 u1[1] + 0.308 u1[2] + 0.36 u1[3] + 0.09 u1[4]\n",
      "Subject to\n",
      " u0 ≥ 0\n",
      " u0 ≤ 1000\n",
      " u1[1] ≥ 0\n",
      " u1[1] + u0 ≤ 1000\n",
      " u1[1] + u0 ≥ 500\n",
      " u1[2] ≥ 0\n",
      " u1[2] + u0 ≤ 1000\n",
      " u1[2] + u0 ≥ 700\n",
      " u1[3] ≥ 0\n",
      " u1[3] + u0 ≤ 1000\n",
      " u1[3] + u0 ≥ 800\n",
      " u1[4] ≥ 0\n",
      " u1[4] + u0 ≤ 1000\n",
      " u1[4] + u0 ≥ 1000\n",
      " u1[i] ∀ i ∈ {1,2,3,4}\n",
      " u0 ≥ 0\n",
      "588.0\n",
      "u0 = 700.0\n",
      "u1_1 = -0.0\n",
      "u1_2 = -0.0\n",
      "u1_3 = 100.0\n",
      "u1_4 = 300.0\n"
     ]
    }
   ],
   "source": [
    "m_2S = Model(solver = ClpSolver())\n",
    "\n",
    "\n",
    "    @variable(m_2S,u0>=0)\n",
    "    @variable(m_2S,u1[1:4])\n",
    "\n",
    "    @objective(m_2S, Min, (c0*u0 + sum(p[i]*u1[i]*c1[i] for i=1:4))/1000)\n",
    "    \n",
    "    @constraint(m_2S, u0 >=0)\n",
    "    @constraint(m_2S, u0 <= 1000)\n",
    "    for i=1:4\n",
    "        @constraint(m_2S, u1[i] >=0)\n",
    "    @constraint(m_2S, u1[i] <=1000-u0)\n",
    "        @constraint(m_2S, u1[i] >=d[i]-u0)\n",
    "            end\n",
    "    \n",
    "     solve(m_2S)\n",
    "#print(m_2S)\n",
    "println(getobjectivevalue(m_2S))\n",
    "println(\"u0 = \",getvalue(u0))\n",
    "println(\"u1 = \",getvalue(u1))"
   ]
  },
  {
   "cell_type": "markdown",
   "metadata": {},
   "source": [
    "## Question 2\n",
    "\n",
    "Solve the open-loop version of this problem. Give the optimal value, and optimal controls.\n",
    "Check the inequality between the value of the open-loop problem and 2-stage problem."
   ]
  },
  {
   "cell_type": "code",
   "execution_count": 15,
   "metadata": {},
   "outputs": [
    {
     "name": "stdout",
     "output_type": "stream",
     "text": [
      "Min 0.75 u0 + 0.828 u1\n",
      "Subject to\n",
      " u0 ≥ 0\n",
      " u0 ≤ 1000\n",
      " u1 ≥ 0\n",
      " u1 + u0 ≤ 1000\n",
      " u1 + u0 ≥ 500\n",
      " u1 + u0 ≥ 700\n",
      " u1 + u0 ≥ 800\n",
      " u1 + u0 ≥ 1000\n",
      " u0 ≥ 0\n",
      " u1\n",
      "750.0\n",
      "u0 = 1000.0\n",
      "u1 = -0.0\n"
     ]
    }
   ],
   "source": [
    "m_OL = Model(solver = ClpSolver())\n",
    "\n",
    "    @variable(m_OL,u0>=0)\n",
    "    @variable(m_OL,u1)\n",
    "\n",
    "    @objective(m_OL, Min, (c0*u0 + sum(p[i]*u1*c1[i] for i=1:4))/1000)\n",
    "    \n",
    "    @constraint(m_OL, u0 >=0)\n",
    "    @constraint(m_OL, u0 <= 1000)\n",
    "       @constraint(m_OL, u1 >=0)\n",
    "    @constraint(m_OL, u1 <=1000-u0)\n",
    "    for i=1:4\n",
    "        @constraint(m_OL, u1 >=d[i]-u0)\n",
    "            end\n",
    "    \n",
    "     solve(m_OL)\n",
    "#print(m_OL)\n",
    "println(getobjectivevalue(m_OL))\n",
    "println(\"u0 = \",getvalue(u0))\n",
    "println(\"u1 = \",getvalue(u1))"
   ]
  },
  {
   "cell_type": "markdown",
   "metadata": {},
   "source": [
    "## Question 3\n",
    "\n",
    "Solve the anticipative version of this problem. Give the optimal value, and optimal controls. Check the inequality between the value of the anticipative problem and 2-stage problem."
   ]
  },
  {
   "cell_type": "code",
   "execution_count": 20,
   "metadata": {},
   "outputs": [
    {
     "name": "stdout",
     "output_type": "stream",
     "text": [
      "Min 0.075 u0[1] + 0.07 u1[1] + 0.3 u0[2] + 0.308 u1[2] + 0.3 u0[3] + 0.36 u1[3] + 0.075 u0[4] + 0.09 u1[4]\n",
      "Subject to\n",
      " u0[1] ≥ 0\n",
      " u0[1] ≤ 1000\n",
      " u1[1] ≥ 0\n",
      " u1[1] + u0[1] ≤ 1000\n",
      " u1[1] + u0[1] ≥ 500\n",
      " u0[2] ≥ 0\n",
      " u0[2] ≤ 1000\n",
      " u1[2] ≥ 0\n",
      " u1[2] + u0[2] ≤ 1000\n",
      " u1[2] + u0[2] ≥ 700\n",
      " u0[3] ≥ 0\n",
      " u0[3] ≤ 1000\n",
      " u1[3] ≥ 0\n",
      " u1[3] + u0[3] ≤ 1000\n",
      " u1[3] + u0[3] ≥ 800\n",
      " u0[4] ≥ 0\n",
      " u0[4] ≤ 1000\n",
      " u1[4] ≥ 0\n",
      " u1[4] + u0[4] ≤ 1000\n",
      " u1[4] + u0[4] ≥ 1000\n",
      " u0[i] ∀ i ∈ {1,2,3,4}\n",
      " u1[i] ∀ i ∈ {1,2,3,4}\n",
      "560.0\n",
      "u0 = [-0.0, 700.0, 800.0, 1000.0]\n",
      "u1 = [500.0, -0.0, -0.0, -0.0]\n"
     ]
    }
   ],
   "source": [
    "m_a = Model(solver = ClpSolver())\n",
    "    @variable(m_a,u0[1:4])\n",
    "    @variable(m_a,u1[1:4])\n",
    "\n",
    "    @objective(m_a, Min, (sum(p[i]*(c0*u0[i] + u1[i]*c1[i]) for i=1:4))/1000)\n",
    "    \n",
    "    for i=1:4\n",
    "    @constraint(m_a, u0[i] >=0)\n",
    "    @constraint(m_a, u0[i] <= 1000)\n",
    "        @constraint(m_a, u1[i] >=0)\n",
    "    @constraint(m_a, u1[i] <=1000-u0[i])\n",
    "        @constraint(m_a, u1[i] >=d[i]-u0[i])\n",
    "            end\n",
    "    \n",
    "     solve(m_a)\n",
    "#print(m_a)\n",
    "println(getobjectivevalue(m_a))\n",
    "println(\"u0 = \",getvalue(u0))\n",
    "println(\"u1 = \",getvalue(u1))"
   ]
  },
  {
   "cell_type": "markdown",
   "metadata": {},
   "source": [
    "## Question 4\n",
    "\n",
    "We call (P_mean) the problem where cost and demand are replaced by their expectation. Solve this problem, giving value and first and second stage optimal control.\n",
    "\n",
    "Evaluate the value of this first stage control, that is the expected cost of using this first stage control with adapted recourse.\n",
    "\n",
    "Compare both values to the precedents problems."
   ]
  },
  {
   "cell_type": "code",
   "execution_count": 10,
   "metadata": {},
   "outputs": [
    {
     "name": "stdout",
     "output_type": "stream",
     "text": [
      "562.5\n",
      "u0 = 750.0\n",
      "u1 = -0.0\n"
     ]
    }
   ],
   "source": [
    "m_mean = Model(solver = ClpSolver())\n",
    "    @variable(m_mean,u0)\n",
    "    @variable(m_mean,u1)\n",
    "\n",
    "    @objective(m_mean, Min, (c0*u0 + u1 * sum(p[i]*c1[i] for i=1:4))/1000)\n",
    "\n",
    "    @constraint(m_mean, u0 >=0)\n",
    "    @constraint(m_mean, u0 <= 1000)\n",
    "        @constraint(m_mean, u1 >=0)\n",
    "    @constraint(m_mean, u1 <=1000-u0)\n",
    "        @constraint(m_mean, u1 >=(sum(d[i]/4 for i=1:4))-u0)\n",
    "            \n",
    "    \n",
    "     solve(m_mean)\n",
    "#print(m_mean)\n",
    "println(getobjectivevalue(m_mean))\n",
    "println(\"u0 = \",getvalue(u0))\n",
    "println(\"u1 = \",getvalue(u1))"
   ]
  },
  {
   "cell_type": "code",
   "execution_count": null,
   "metadata": {},
   "outputs": [],
   "source": []
  }
 ],
 "metadata": {
  "kernelspec": {
   "display_name": "Julia 0.6.0",
   "language": "julia",
   "name": "julia-0.6"
  },
  "language_info": {
   "file_extension": ".jl",
   "mimetype": "application/julia",
   "name": "julia",
   "version": "0.6.0"
  }
 },
 "nbformat": 4,
 "nbformat_minor": 1
}
