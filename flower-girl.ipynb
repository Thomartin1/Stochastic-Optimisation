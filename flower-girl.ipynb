{
 "cells": [
  {
   "cell_type": "markdown",
   "metadata": {},
   "source": [
    "# The flower girl problem\n",
    "\n",
    "Assume that every morning you can buy some flower at cost $c$, during the day you can sell them at price $p$. At the end of the day you can keep the flowers for the next day.\n",
    "During each day the demand is an integer uniformly taken between $1$ and $N$.\n",
    "\n",
    "At the start of your first day you have no flower in stock. At the end of the $T^{th}$ day all stock is lost. You want to minimize your expected loss summed over the $T$ days. We will denote $u_t$ the number of flower bought at the beginning of day $t$. We assume that $u_t\\in [0,M]$ (in particular we assume that it is continuous).\n",
    "\n",
    "The parameters are set as follow."
   ]
  },
  {
   "cell_type": "code",
   "execution_count": 1,
   "metadata": {},
   "outputs": [
    {
     "data": {
      "text/plain": [
       "7"
      ]
     },
     "execution_count": 1,
     "metadata": {},
     "output_type": "execute_result"
    }
   ],
   "source": [
    "using JuMP, Clp\n",
    " \n",
    "c = 1\n",
    "p = 2\n",
    "N = 10\n",
    "M = 7"
   ]
  },
  {
   "cell_type": "markdown",
   "metadata": {},
   "source": [
    "## Question 1\n",
    "\n",
    "If $T=1$, what is the flower girl problem ? "
   ]
  },
  {
   "cell_type": "markdown",
   "metadata": {},
   "source": [
    "The flower-girl for $T=1$ is the newsvendor problem."
   ]
  },
  {
   "cell_type": "code",
   "execution_count": 2,
   "metadata": {},
   "outputs": [
    {
     "data": {
      "text/plain": [
       "-3.0000000000000018"
      ]
     },
     "execution_count": 2,
     "metadata": {},
     "output_type": "execute_result"
    }
   ],
   "source": [
    "T = 1\n",
    "\n",
    "d = zeros(T,N)\n",
    "for s in 1:N\n",
    "    d[:,s] = s\n",
    "end\n",
    "\n",
    "\n",
    "m = Model(solver = ClpSolver())\n",
    "\n",
    "@variable(m,0<= u1 <= M)\n",
    "@variable(m,v1[1:N] >= 0)\n",
    "\n",
    "\n",
    "for s in 1:N\n",
    "    @constraint(m, v1[s] <= d[1,s]) # we sell no more than demand\n",
    "    @constraint(m, v1[s] <= u1)    # we sell no more than stock\n",
    "end\n",
    "\n",
    "\n",
    "@objective(m, Min, c*u1 \n",
    "                    + 1/N*sum( -p*v1[s] for s = 1:N) ) \n",
    "\n",
    "solve(m)\n",
    "getobjectivevalue(m)"
   ]
  },
  {
   "cell_type": "markdown",
   "metadata": {},
   "source": [
    "## Question 2\n",
    "\n",
    "We consider now that $T=2$.\n",
    "\n",
    "### Question 2.1 \n",
    "From Question 1 deduce an upper bound to this problem.\n",
    "\n",
    "Repeating the previous algorithm for the second will give us a solution ( where the stock is lost). Therefore we deduce that -6 is an upper bound of the problem for T=2.\n",
    "\n",
    "### Question 2.2\n",
    "Solve the flower-girl problem with a stochastic programming approach, by solving the associated extensive formulation."
   ]
  },
  {
   "cell_type": "code",
   "execution_count": 3,
   "metadata": {},
   "outputs": [
    {
     "data": {
      "text/plain": [
       "-7.89999999999999"
      ]
     },
     "execution_count": 3,
     "metadata": {},
     "output_type": "execute_result"
    }
   ],
   "source": [
    "T = 2\n",
    "\n",
    "d = zeros(T,N)\n",
    "for s in 1:N\n",
    "    d[:,s] = s\n",
    "end\n",
    "\n",
    "\n",
    "m = Model(solver = ClpSolver())\n",
    "\n",
    "@variable(m,0<= u1 <= M)\n",
    "@variable(m,v1[1:N] >= 0)\n",
    "@variable(m,0 <= u2[1:N] <= M)\n",
    "@variable(m, v2[1:N,1:N] >= 0)\n",
    "\n",
    "for s in 1:N\n",
    "    @constraint(m, v1[s] <= d[1,s]) # we sell no more than demand\n",
    "    @constraint(m, v1[s] <= u1)    # we sell no more than stock\n",
    "    for ss in 1:N # demand on day 2\n",
    "        @constraint(m, v2[s,ss] <= d[2,ss]) # we sell no more than demand\n",
    "        @constraint(m, v1[s] + v2[s,ss] - u1 - u2[s]  <=  0)     # we sell no more than stock\n",
    "    end\n",
    "end\n",
    "\n",
    "\n",
    "@objective(m, Min, c*u1 \n",
    "                    + 1/N*sum( -p*v1[s] + c * u2[s] for s = 1:N) \n",
    "                    + 1/N^2 *  sum(-p *v2[s,ss] for s = 1:N, ss= 1:N )) \n",
    "\n",
    "solve(m)\n",
    "getobjectivevalue(m)"
   ]
  },
  {
   "cell_type": "markdown",
   "metadata": {},
   "source": [
    "## Question 3\n",
    "\n",
    "We assume here that $T=3$\n",
    "\n",
    "### Question 3.1 \n",
    "\n",
    "Solve the flower girl problem with a stochastic programming approach, by solving the associated extensive formulation. \n"
   ]
  },
  {
   "cell_type": "code",
   "execution_count": 4,
   "metadata": {},
   "outputs": [
    {
     "data": {
      "text/plain": [
       "-13.037999999999878"
      ]
     },
     "execution_count": 4,
     "metadata": {},
     "output_type": "execute_result"
    }
   ],
   "source": [
    "T = 3\n",
    "\n",
    "d = zeros(T,N)\n",
    "for s in 1:N\n",
    "    d[:,s] = s\n",
    "end\n",
    "\n",
    "\n",
    "m = Model(solver = ClpSolver())\n",
    "\n",
    "@variable(m,0<= u1 <= M)\n",
    "@variable(m,v1[1:N] >= 0)\n",
    "@variable(m,0 <= u2[1:N] <= M)\n",
    "@variable(m, v2[1:N,1:N] >= 0)\n",
    "@variable(m,0 <= u3[1:N, 1:N] <= M)\n",
    "@variable(m, v3[1:N,1:N, 1:N] >= 0)\n",
    "\n",
    "for s in 1:N\n",
    "    @constraint(m, v1[s] <= d[1,s]) # we sell no more than demand\n",
    "    @constraint(m, v1[s] <= u1)    # we sell no more than stock\n",
    "    for ss in 1:N # demand on day 2\n",
    "        @constraint(m, v2[s,ss] <= d[2,ss]) # we sell no more than demand\n",
    "        @constraint(m, v1[s] + v2[s,ss] - u1 - u2[s]  <=  0)     # we sell no more than stock\n",
    "        for sss in 1:N\n",
    "            @constraint(m, v3[s,ss, sss] <= d[2,sss]) # we sell no more than demand\n",
    "            @constraint(m, v1[s] + v2[s,ss] + v3[s, ss, sss] - u1 - u2[s] - u3[s, ss]  <=  0)     # we sell no more than stock\n",
    "        end\n",
    "    end\n",
    "end\n",
    "\n",
    "\n",
    "@objective(m, Min, c*u1 \n",
    "                    + 1/N*sum( -p*v1[s] + c * u2[s] for s = 1:N) \n",
    "                    + 1/N^2 *  sum(-p *v2[s,ss] for s = 1:N, ss= 1:N )\n",
    "                    + 1/N^2 *  sum( c * u3[s, ss] for s = 1:N, ss = 1:N) \n",
    "                    + 1/N^3 *  sum(-p *v3[s,ss, sss] for s = 1:N, ss= 1:N, sss= 1:N )) \n",
    "\n",
    "solve(m)\n",
    "getobjectivevalue(m)"
   ]
  },
  {
   "cell_type": "markdown",
   "metadata": {},
   "source": [
    "## Question 3.2 \n",
    "\n",
    "Write the flower-girl problem with splitted variables. Check that you obtain the same value as before.  "
   ]
  },
  {
   "cell_type": "code",
   "execution_count": 5,
   "metadata": {},
   "outputs": [
    {
     "name": "stdout",
     "output_type": "stream",
     "text": [
      "getobjectivevalue(m) = -13.037999999999819\n"
     ]
    },
    {
     "data": {
      "text/plain": [
       "-13.037999999999819"
      ]
     },
     "execution_count": 5,
     "metadata": {},
     "output_type": "execute_result"
    }
   ],
   "source": [
    "T = 3\n",
    "\n",
    "d = zeros(T,N,N,N)\n",
    "for s = 1:N, ss = 1:N, sss = 1:N\n",
    "    d[1,s,ss,sss] = s\n",
    "    d[2,s,ss,sss] = ss\n",
    "    d[3,s,ss,sss] = sss\n",
    "end\n",
    "\n",
    "\n",
    "m = Model(solver = ClpSolver())\n",
    "\n",
    "@variable(m,0<= u[1:T,1:N,1:N,1:N] <= M )\n",
    "@variable(m, v[1:T,1:N,1:N,1:N] >= 0)\n",
    "\n",
    "for t = 1:T, s = 1:N, ss = 1:N, sss = 1:N\n",
    "    @constraint(m, v[t,s,ss,sss] <= d[t,s,ss,sss]) # we sell no more than demand\n",
    "    @constraint(m, sum(v[tt,s,ss,sss]-u[tt,s,ss,sss] for tt=1:t) <= 0) # we sell no more than stock\n",
    "end\n",
    "\n",
    "    ### u1 is the same for all scenarios\n",
    "for s = 1:N, ss = 1:N, sss = 1:N\n",
    "    @constraint(m,u[1,s,ss,sss] == 1/N^3 *sum( u[1,t,tt,ttt] for t=1:N, tt=1:N, ttt=1:N))\n",
    "end\n",
    "        \n",
    "        ### u2 and v1 are d1 measurable\n",
    "for s = 1:N, ss = 1:N, sss = 1:N\n",
    "    @constraint(m,u[2,s,ss,sss] == 1/N^2 *sum( u[2,s,tt,ttt] for tt=1:N, ttt=1:N))\n",
    "    @constraint(m,v[1,s,ss,sss] == 1/N^2 *sum( v[1,s,tt,ttt] for tt=1:N, ttt=1:N))\n",
    "end\n",
    "    \n",
    "        ### u3 and v2 are d1,d2 measurable\n",
    "for s = 1:N, ss = 1:N, sss = 1:N\n",
    "    @constraint(m,u[3,s,ss,sss] == 1/N *sum( u[3,s,ss,ttt] for ttt=1:N))\n",
    "    @constraint(m,v[2,s,ss,sss] == 1/N *sum( v[2,s,ss,ttt] for ttt=1:N))\n",
    "end\n",
    "\n",
    "@objective(m, Min, 1/N^3*sum(c*u[t,s,ss,sss]-p*v[t,s,ss,sss] for t = 1:T, s = 1:N, ss = 1:N, sss = 1:N))\n",
    "\n",
    "       \n",
    "solve(m)\n",
    "@show(getobjectivevalue(m))\n",
    "                       "
   ]
  },
  {
   "cell_type": "markdown",
   "metadata": {},
   "source": [
    "### Question 3.3\n",
    "\n",
    "By suppressing constraints in the splitted version, find the lower-bound given by the anticipative approach.\n"
   ]
  },
  {
   "cell_type": "code",
   "execution_count": 6,
   "metadata": {},
   "outputs": [
    {
     "name": "stdout",
     "output_type": "stream",
     "text": [
      "getobjectivevalue(m) = -15.454999999999973\n"
     ]
    },
    {
     "data": {
      "text/plain": [
       "-15.454999999999973"
      ]
     },
     "execution_count": 6,
     "metadata": {},
     "output_type": "execute_result"
    }
   ],
   "source": [
    "                T = 3\n",
    "\n",
    "d = zeros(T,N,N,N)\n",
    "for s = 1:N, ss = 1:N, sss = 1:N\n",
    "    d[1,s,ss,sss] = s\n",
    "    d[2,s,ss,sss] = ss\n",
    "    d[3,s,ss,sss] = sss\n",
    "end\n",
    "\n",
    "\n",
    "m = Model(solver = ClpSolver())\n",
    "\n",
    "@variable(m,0<= u[1:T,1:N,1:N,1:N] <= M )\n",
    "@variable(m, v[1:T,1:N,1:N,1:N] >= 0)\n",
    "\n",
    "for t = 1:T, s = 1:N, ss = 1:N, sss = 1:N\n",
    "    @constraint(m, v[t,s,ss,sss] <= d[t,s,ss,sss]) # we sell no more than demand\n",
    "    @constraint(m, sum(v[tt,s,ss,sss]-u[tt,s,ss,sss] for tt=1:t) <= 0) # we sell no more than stock\n",
    "end\n",
    "\n",
    "@objective(m, Min, 1/N^3*sum(c*u[t,s,ss,sss]-p*v[t,s,ss,sss] for t = 1:T, s = 1:N, ss = 1:N, sss = 1:N))\n",
    "\n",
    "       \n",
    "solve(m)\n",
    "@show(getobjectivevalue(m))\n",
    "                              "
   ]
  },
  {
   "cell_type": "markdown",
   "metadata": {},
   "source": [
    "### Question 3.4\n",
    "\n",
    "By suppressing constraint in the splitted version, find the lower-bound given by the 2 stage-approach."
   ]
  },
  {
   "cell_type": "code",
   "execution_count": 7,
   "metadata": {},
   "outputs": [
    {
     "name": "stdout",
     "output_type": "stream",
     "text": [
      "getobjectivevalue(m) = -15.419999999999918\n"
     ]
    },
    {
     "data": {
      "text/plain": [
       "-15.419999999999918"
      ]
     },
     "execution_count": 7,
     "metadata": {},
     "output_type": "execute_result"
    }
   ],
   "source": [
    "                T = 3\n",
    "\n",
    "d = zeros(T,N,N,N)\n",
    "for s = 1:N, ss = 1:N, sss = 1:N\n",
    "    d[1,s,ss,sss] = s\n",
    "    d[2,s,ss,sss] = ss\n",
    "    d[3,s,ss,sss] = sss\n",
    "end\n",
    "\n",
    "\n",
    "m = Model(solver = ClpSolver())\n",
    "\n",
    "@variable(m,0<= u[1:T,1:N,1:N,1:N] <= M )\n",
    "@variable(m, v[1:T,1:N,1:N,1:N] >= 0)\n",
    "\n",
    "for t = 1:T, s = 1:N, ss = 1:N, sss = 1:N\n",
    "    @constraint(m, v[t,s,ss,sss] <= d[t,s,ss,sss]) # we sell no more than demand\n",
    "    @constraint(m, sum(v[tt,s,ss,sss]-u[tt,s,ss,sss] for tt=1:t) <= 0) # we sell no more than stock\n",
    "end\n",
    "\n",
    "     ##u1 is the same for all scenarios\n",
    "for s = 1:N, ss = 1:N, sss = 1:N\n",
    "    @constraint(m,u[1,s,ss,sss] == 1/N^3 *sum( u[1,t,tt,ttt] for t=1:N, tt=1:N, ttt=1:N))\n",
    "end\n",
    "\n",
    "@objective(m, Min, 1/N^3*sum(c*u[t,s,ss,sss]-p*v[t,s,ss,sss] for t = 1:T, s = 1:N, ss = 1:N, sss = 1:N))\n",
    "\n",
    "       \n",
    "solve(m)\n",
    "@show(getobjectivevalue(m))\n",
    "                              "
   ]
  },
  {
   "cell_type": "markdown",
   "metadata": {},
   "source": [
    "## Question 4\n",
    "\n",
    "We assume now that we work on a week, that is $T=5$. \n",
    "\n",
    "### Question 4.1  \n",
    "how many variables have the extended formulation ? \n",
    "\n",
    "As seen for T=3 , we have s, ss, sss all in $[1:N]$. U and V are of dimention NxNxN\n",
    "this means for T=5 we will have s, ss, sss, ssss, sssss in the same space. \n",
    "Therefore we get $2 * N^{5}= 2 * 10^{5}$ variables. A lot"
   ]
  },
  {
   "cell_type": "markdown",
   "metadata": {},
   "source": [
    "### Question 4.2 (Optional)\n",
    "\n",
    "Estimate the lower-bound given by the anticipative approach."
   ]
  },
  {
   "cell_type": "code",
   "execution_count": 8,
   "metadata": {},
   "outputs": [
    {
     "name": "stdout",
     "output_type": "stream",
     "text": [
      "getobjectivevalue(m) = -26.270979999921202\n"
     ]
    },
    {
     "data": {
      "text/plain": [
       "-26.270979999921202"
      ]
     },
     "execution_count": 8,
     "metadata": {},
     "output_type": "execute_result"
    }
   ],
   "source": [
    "T = 5\n",
    "\n",
    "d = zeros(T,N,N,N, N, N)\n",
    "for s = 1:N, ss = 1:N, sss = 1:N, ssss = 1:N, sssss = 1:N\n",
    "    d[1,s,ss,sss,ssss,sssss] = s\n",
    "    d[2,s,ss,sss,ssss,sssss] = ss\n",
    "    d[3,s,ss,sss,ssss,sssss] = sss\n",
    "    d[4,s,ss,sss,ssss,sssss] = ssss\n",
    "    d[5,s,ss,sss,ssss,sssss] = sssss\n",
    "end\n",
    "\n",
    "\n",
    "m = Model(solver = ClpSolver())\n",
    "\n",
    "@variable(m,0<= u[1:T,1:N,1:N,1:N,1:N,1:N] <= M )\n",
    "@variable(m, v[1:T,1:N,1:N,1:N,1:N,1:N] >= 0)\n",
    "\n",
    "for t = 1:T, s = 1:N, ss = 1:N, sss = 1:N, ssss = 1:N, sssss = 1:N\n",
    "    @constraint(m, v[t,s,ss,sss,ssss,sssss] <= d[t,s,ss,sss,ssss,sssss]) # we sell no more than demand\n",
    "    @constraint(m, sum(v[tt,s,ss,sss,ssss,sssss]-u[tt,s,ss,sss,ssss,sssss] for tt=1:t) <= 0) # we sell no more than stock\n",
    "end\n",
    "\n",
    "@objective(m, Min, 1/N^5*sum(c*u[t,s,ss,sss, ssss, sssss]-p*v[t,s,ss,sss, ssss, sssss] for t = 1:T, s = 1:N, ss = 1:N, sss = 1:N, ssss = 1:N, sssss = 1:N))\n",
    "\n",
    "       \n",
    "solve(m)\n",
    "@show(getobjectivevalue(m))"
   ]
  },
  {
   "cell_type": "markdown",
   "metadata": {},
   "source": [
    "### Question 4.3 (Optional)\n",
    "\n",
    "Evaluate the heuristic consisting in buying the same amount $u$ of flower everyday, for $u = 1..m$, and give an upper bound to the problem."
   ]
  },
  {
   "cell_type": "code",
   "execution_count": 9,
   "metadata": {},
   "outputs": [
    {
     "name": "stdout",
     "output_type": "stream",
     "text": [
      "getobjectivevalue(m) = -4.999999999987299\n",
      "getobjectivevalue(m) = -9.746359999954102\n",
      "getobjectivevalue(m) = -14.056380000077377\n",
      "getobjectivevalue(m) = -17.541959999906425\n",
      "getobjectivevalue(m) = -19.566900000038526\n",
      "getobjectivevalue(m) = -19.56689999999077\n",
      "getobjectivevalue(m) = -17.54195999997461\n",
      "getobjectivevalue(m) = -14.056379999980393\n",
      "getobjectivevalue(m) = -9.74635999998798\n",
      "getobjectivevalue(m) = -4.999999999983437\n"
     ]
    }
   ],
   "source": [
    "\n",
    "for i in 1:10\n",
    "    \n",
    "    T = 5\n",
    "\n",
    "    d = zeros(T,N,N,N, N, N)\n",
    "    for s = 1:N, ss = 1:N, sss = 1:N, ssss = 1:N, sssss = 1:N\n",
    "        d[1,s,ss,sss,ssss,sssss] = s\n",
    "        d[2,s,ss,sss,ssss,sssss] = ss\n",
    "        d[3,s,ss,sss,ssss,sssss] = sss\n",
    "        d[4,s,ss,sss,ssss,sssss] = ssss\n",
    "        d[5,s,ss,sss,ssss,sssss] = sssss\n",
    "    end\n",
    "\n",
    "    u = ones(T,N,N,N, N, N) * i\n",
    "\n",
    "    m = Model(solver = ClpSolver())\n",
    "\n",
    "    @variable(m, v[1:T,1:N,1:N,1:N,1:N,1:N] >= 0)\n",
    "\n",
    "    for t = 1:T, s = 1:N, ss = 1:N, sss = 1:N, ssss = 1:N, sssss = 1:N\n",
    "        @constraint(m, v[t,s,ss,sss,ssss,sssss] <= d[t,s,ss,sss,ssss,sssss]) # we sell no more than demand\n",
    "        @constraint(m, sum(v[tt,s,ss,sss,ssss,sssss]-u[tt,s,ss,sss,ssss,sssss] for tt=1:t) <= 0) # we sell no more than stock\n",
    "    end\n",
    "\n",
    "    @objective(m, Min, 1/N^5*sum(c*u[t,s,ss,sss, ssss, sssss]-p*v[t,s,ss,sss, ssss, sssss] for t = 1:T, s = 1:N, ss = 1:N, sss = 1:N, ssss = 1:N, sssss = 1:N))\n",
    "\n",
    "\n",
    "    solve(m)\n",
    "    @show(getobjectivevalue(m))\n",
    "end"
   ]
  },
  {
   "cell_type": "markdown",
   "metadata": {},
   "source": [
    "Policy results:\n",
    "U = 1  :  objectivevalue(m) = -4.999999999987299 <br />\n",
    "U = 2  :  objectivevalue(m) = -9.746359999954102 <br />\n",
    "U = 3  :  objectivevalue(m) = -14.056380000077377 <br />\n",
    "U = 4  :  objectivevalue(m) = -17.541959999906425 <br />\n",
    "U = 5  :  objectivevalue(m) = -19.566900000038526 <br />\n",
    "U = 6  :  objectivevalue(m) = -19.56689999999077 <br />\n",
    "U = 7  :  objectivevalue(m) = -17.54195999997461 <br />\n",
    "U = 8  :  objectivevalue(m) = -14.056379999980393 <br />\n",
    "U = 9  :  objectivevalue(m) = -9.74635999998798 <br />\n",
    "U = 10 :  objectivevalue(m) = -4.999999999983437 <br />\n",
    "\n",
    "Therefore we deduct that the optimal control using this technique is U= 5 ( the mean demand)   <br />"
   ]
  },
  {
   "cell_type": "markdown",
   "metadata": {},
   "source": [
    "### Question 4.4 (Optional)\n",
    "\n",
    "Evaluate an open-loop feedback approach on the problem."
   ]
  },
  {
   "cell_type": "markdown",
   "metadata": {
    "collapsed": true
   },
   "source": [
    "The demand, which is uniform between 1 and 10 has a mean value of 5.5 . <br />\n",
    "Therefore, we want to solve the determinstic problem where demands have been swaped for their mean value. <br />\n",
    "u1 = 7   || v1 = 5.5 <br />\n",
    "u2 = 7   || v2 = 5.5 <br />\n",
    "u3 = 7   || v3 = 5.5 <br />\n",
    "u4 = 5.5 || v4 = 5.5 <br />\n",
    "u5 = 1   || v5 = 5.5 <br />\n",
    "Payoff = -27.5\n"
   ]
  },
  {
   "cell_type": "markdown",
   "metadata": {},
   "source": [
    "### Question 4.5 (optional)\n",
    "\n",
    "Give a lower bound obtained from a two-stage approximation. "
   ]
  },
  {
   "cell_type": "code",
   "execution_count": null,
   "metadata": {},
   "outputs": [],
   "source": [
    "T = 5\n",
    "\n",
    "d = zeros(T,N,N,N, N, N)\n",
    "for s = 1:N, ss = 1:N, sss = 1:N, ssss = 1:N, sssss = 1:N\n",
    "    d[1,s,ss,sss,ssss,sssss] = s\n",
    "    d[2,s,ss,sss,ssss,sssss] = ss\n",
    "    d[3,s,ss,sss,ssss,sssss] = sss\n",
    "    d[4,s,ss,sss,ssss,sssss] = ssss\n",
    "    d[5,s,ss,sss,ssss,sssss] = sssss\n",
    "end\n",
    "\n",
    "\n",
    "m = Model(solver = ClpSolver())\n",
    "\n",
    "@variable(m,0<= u[1:T,1:N,1:N,1:N,1:N,1:N] <= M )\n",
    "@variable(m, v[1:T,1:N,1:N,1:N,1:N,1:N] >= 0)\n",
    "\n",
    "for t = 1:T, s = 1:N, ss = 1:N, sss = 1:N, ssss = 1:N, sssss = 1:N\n",
    "    @constraint(m, v[t,s,ss,sss,ssss,sssss] <= d[t,s,ss,sss,ssss,sssss]) # we sell no more than demand\n",
    "    @constraint(m, sum(v[tt,s,ss,sss,ssss,sssss]-u[tt,s,ss,sss,ssss,sssss] for tt=1:t) <= 0) # we sell no more than stock\n",
    "end\n",
    "\n",
    "for s = 1:N, ss = 1:N, sss = 1:N, ssss = 1:N, sssss = 1:N\n",
    "    @constraint(m,u[1,s,ss,sss,ssss,sssss] == 1/N^5 * sum( u[1,t,tt,ttt,tttt,ttttt] for t=1:N, tt=1:N, ttt=1:N, tttt=1:N, ttttt=1:N))\n",
    "end\n",
    "\n",
    "@objective(m, Min, 1/N^5*sum(c*u[t,s,ss,sss, ssss, sssss]-p*v[t,s,ss,sss, ssss, sssss] for t = 1:T, s = 1:N, ss = 1:N, sss = 1:N, ssss = 1:N, sssss = 1:N))\n",
    "\n",
    "       \n",
    "solve(m)\n",
    "@show(getobjectivevalue(m))"
   ]
  },
  {
   "cell_type": "code",
   "execution_count": null,
   "metadata": {},
   "outputs": [],
   "source": [
    "Kernel Crashes"
   ]
  },
  {
   "cell_type": "markdown",
   "metadata": {},
   "source": [
    "### Question 4.6 (optional)\n",
    "\n",
    "Evaluate the repeated two-stage approach."
   ]
  },
  {
   "cell_type": "code",
   "execution_count": null,
   "metadata": {
    "collapsed": true
   },
   "outputs": [],
   "source": []
  },
  {
   "cell_type": "markdown",
   "metadata": {},
   "source": [
    "## Question 5\n",
    "\n",
    "Now assume that $T=5$. \n",
    "\n",
    "### Question 5.1\n",
    "Show that the optimal stock at the end of day is integer and no more than $N$.\n",
    "\n",
    "Why can't the optimal stock at the end of a day superior to $N$? Because doing so yield absolutely no advantage. In fact, the maximum demand over a day is N . If the our stock is more than N, then we are sure to have stck at the end of the next day. Intuitively, the greater the stock, the lesser the probability to sell it all. And N happens to be the smallest stock, from day-to-day, that ensures the demand is satisfied no matter what. Therefore, there is no advantage to having a stock $>N$. The optimal will be no more than $N$. Again, this results holds true only because c in constant and there is no incentive to buy at a certain point time.\n",
    "\n",
    "Now, on to the fact this optimal value will be an integer. Again, having a non integer stock yields no advantage so it will never be an optimal solution. \n",
    "The demand is an integer, but it's mean, here, is 5.5. Given the distribution is constant over $1..10$. \n",
    "Since the demand is integer, the only source of non integrity is the buying of the flowers.\n",
    "I have a hard time formalizing the thing on paper but the intuition is that the idea of a non-integer optimal stock stem from the mean demand $5.5$. The idea is that everytime it is possible to sell an non-integer number of flowers, then we can also sell an integer number of flowers that is the integer part of the initial value, rounded to the maximmum. This means, that whenever it is possible to sell a non integer amount,  it is possible to sell an integer amount that will ryse the payoff. Therefore, there is no \n",
    "\n",
    "### Question 5.2 \n",
    "How many operations are required to solve the problem by Dynamic Programming ?\n",
    "\n",
    "First off we need to check if the problem can be resolved using dynamic programming. \n",
    "Here, we have T=5 timesteps, N=10 possible states and the incertitude is in {1,2,3,4,5,6,7,8,9,10}.\n",
    "\n",
    "We can start by checking that the problem can indeed be solved using dynamic programming. In our case, the noise is represented by the demand each day, which is supposed to be uniform between 1 and 10. Therefore de noises are independant. \n",
    "Then, lets look at the complexity of the dynamic programming solution. As mentioned ealier, solving the dynamic programming problem means filling a $T*N$ matrix (V)  from bottom to top.  Here, N refers to the number of states possible ( i.d the stock), here it is 10. \n",
    "\n",
    "First, the row $(5,:) is initialized to 0 as we don't value the stock at the end of the 5th day. (N operations) \n",
    "Then, we will fill each row, from top to bottom ( (T-1 x N )operations).\n",
    "In order to fill each element (t,x) of the matrix, we need to solve the minimization problem : \n",
    "$min_{u\\inB(x) E[V(t+1,max( x + u - w, 0)- p * min(x + u, w) + c * u]$. \n",
    "Here, u is minimised over $B(x)$ which belongs to $[0..10]$ and since we look at a min value over an expectation, we need to additionally loop 9 times because the demand is an integer between 1 and 10. \n",
    "\n",
    "Overall this means that filing the matrix requires N + (T-1)*N*11*10 basic operations. Once this is done, we will have the result of the value function by dynamic programmimg. \n",
    "\n",
    "$10 + (5-1)*10*11*10 = 4410$ Overall, solving the rpoblem via dynamic programming requires 4410 basic operations.\n",
    "\n",
    "### Question 5.3\n",
    "Find the optimal value of the flower-girl problem by Dynamic Programming. \n"
   ]
  },
  {
   "cell_type": "code",
   "execution_count": 2,
   "metadata": {},
   "outputs": [
    {
     "data": {
      "text/plain": [
       "B (generic function with 1 method)"
      ]
     },
     "execution_count": 2,
     "metadata": {},
     "output_type": "execute_result"
    }
   ],
   "source": [
    "function B(stock)\n",
    "    B=0:(10-stock)\n",
    "    return (B)\n",
    "end"
   ]
  },
  {
   "cell_type": "code",
   "execution_count": 38,
   "metadata": {},
   "outputs": [
    {
     "data": {
      "text/plain": [
       "DP (generic function with 1 method)"
      ]
     },
     "execution_count": 38,
     "metadata": {},
     "output_type": "execute_result"
    }
   ],
   "source": [
    "function DP(T)\n",
    "    ## Initialization\n",
    "    c = 1\n",
    "    p = 2\n",
    "    N = 10\n",
    "    M = 7\n",
    "    #Tf=10\n",
    "    #Nx=9\n",
    "    #Ti=1\n",
    "    ## Initialization of the matrix used to store Bellman values\n",
    "    V=ones(T,N+1) * 10000000000\n",
    "    U=zeros(T, N+1)\n",
    "    ## Compute Bellman function at final time\n",
    "    for i in 1:N+1\n",
    "        V[T,i]=0\n",
    "    end\n",
    "    ## make a backward loop on time\n",
    "    #for t in T-1:-1:1\n",
    "    for t in (T-1):-1:1\n",
    "        ## make a loop on possible states\n",
    "        for x in 0:10\n",
    "            cost_x = 10000000000\n",
    "            ##loop on admissible controls to obtain the best possible expected cost sta\n",
    "            for u in B(x)\n",
    "                cost_x_u = 0\n",
    "                ## make a loop on the random perturbation to compute the expected // co\n",
    "                for w in 1:10\n",
    "                    ## for a given perturbation compute the cost associated to\n",
    "                    ## control u and state x using the instantaneous cost and the ## Bellman function at time t+1\n",
    "                    ##cost_x_u_w =(proba)*(le cout que je vais avoir depuis cet endroit + le cout pour y aller)\n",
    "                    cost_x_u_w = 0.1*(V[t+1, (max( x + u - w, 0))+1] - p * min(x + u, w) + c * u)\n",
    "                    ## update cost_x_u with cost_x_u_w\n",
    "                    cost_x_u = cost_x_u + cost_x_u_w\n",
    "                end\n",
    "                ## compare the current cost_x_u to cost_x and\n",
    "                ## update cost_x if cost_x_u is better than the current cost_x\n",
    "                if cost_x_u <= cost_x\n",
    "                    cost_x = cost_x_u\n",
    "                    U[t, x+1] = u\n",
    "\n",
    "                end\n",
    "            end\n",
    "        ## store cost_x in V(t,x)\n",
    "        V[t,x+1] = cost_x\n",
    "        end\n",
    "    end\n",
    "    println(V)\n",
    "end"
   ]
  },
  {
   "cell_type": "code",
   "execution_count": 39,
   "metadata": {},
   "outputs": [
    {
     "name": "stdout",
     "output_type": "stream",
     "text": [
      "[-19.32 -20.32 -21.32 -22.32 -23.32 -24.32 -25.32 -26.32 -27.32 -28.32 -29.32; -13.82 -14.82 -15.82 -16.82 -17.82 -18.82 -19.82 -20.82 -21.82 -22.82 -23.82; -8.32 -9.32 -10.32 -11.32 -12.32 -13.32 -14.32 -15.32 -16.32 -17.32 -18.3; -3.0 -4.0 -5.0 -6.0 -7.0 -8.0 -9.0 -9.8 -10.4 -10.8 -11.0; 0.0 0.0 0.0 0.0 0.0 0.0 0.0 0.0 0.0 0.0 0.0]\n"
     ]
    }
   ],
   "source": [
    "DP(5)"
   ]
  },
  {
   "cell_type": "markdown",
   "metadata": {},
   "source": [
    "The optimlal value of the problem given by the dynamic programming is $-19.32$ The good news is this validates the upper and lower bounds previously computed."
   ]
  },
  {
   "cell_type": "markdown",
   "metadata": {},
   "source": [
    "Now, lets dramaticaly increase the number of timesteps T=30"
   ]
  },
  {
   "cell_type": "code",
   "execution_count": 40,
   "metadata": {},
   "outputs": [
    {
     "name": "stdout",
     "output_type": "stream",
     "text": [
      "[-156.82 -157.82 -158.82 -159.82 -160.82 -161.82 -162.82 -163.82 -164.82 -165.82 -166.82; -151.32 -152.32 -153.32 -154.32 -155.32 -156.32 -157.32 -158.32 -159.32 -160.32 -161.32; -145.82 -146.82 -147.82 -148.82 -149.82 -150.82 -151.82 -152.82 -153.82 -154.82 -155.82; -140.32 -141.32 -142.32 -143.32 -144.32 -145.32 -146.32 -147.32 -148.32 -149.32 -150.32; -134.82 -135.82 -136.82 -137.82 -138.82 -139.82 -140.82 -141.82 -142.82 -143.82 -144.82; -129.32 -130.32 -131.32 -132.32 -133.32 -134.32 -135.32 -136.32 -137.32 -138.32 -139.32; -123.82 -124.82 -125.82 -126.82 -127.82 -128.82 -129.82 -130.82 -131.82 -132.82 -133.82; -118.32 -119.32 -120.32 -121.32 -122.32 -123.32 -124.32 -125.32 -126.32 -127.32 -128.32; -112.82 -113.82 -114.82 -115.82 -116.82 -117.82 -118.82 -119.82 -120.82 -121.82 -122.82; -107.32 -108.32 -109.32 -110.32 -111.32 -112.32 -113.32 -114.32 -115.32 -116.32 -117.32; -101.82 -102.82 -103.82 -104.82 -105.82 -106.82 -107.82 -108.82 -109.82 -110.82 -111.82; -96.32 -97.32 -98.32 -99.32 -100.32 -101.32 -102.32 -103.32 -104.32 -105.32 -106.32; -90.82 -91.82 -92.82 -93.82 -94.82 -95.82 -96.82 -97.82 -98.82 -99.82 -100.82; -85.32 -86.32 -87.32 -88.32 -89.32 -90.32 -91.32 -92.32 -93.32 -94.32 -95.32; -79.82 -80.82 -81.82 -82.82 -83.82 -84.82 -85.82 -86.82 -87.82 -88.82 -89.82; -74.32 -75.32 -76.32 -77.32 -78.32 -79.32 -80.32 -81.32 -82.32 -83.32 -84.32; -68.82 -69.82 -70.82 -71.82 -72.82 -73.82 -74.82 -75.82 -76.82 -77.82 -78.82; -63.32 -64.32 -65.32 -66.32 -67.32 -68.32 -69.32 -70.32 -71.32 -72.32 -73.32; -57.82 -58.82 -59.82 -60.82 -61.82 -62.82 -63.82 -64.82 -65.82 -66.82 -67.82; -52.32 -53.32 -54.32 -55.32 -56.32 -57.32 -58.32 -59.32 -60.32 -61.32 -62.32; -46.82 -47.82 -48.82 -49.82 -50.82 -51.82 -52.82 -53.82 -54.82 -55.82 -56.82; -41.32 -42.32 -43.32 -44.32 -45.32 -46.32 -47.32 -48.32 -49.32 -50.32 -51.32; -35.82 -36.82 -37.82 -38.82 -39.82 -40.82 -41.82 -42.82 -43.82 -44.82 -45.82; -30.32 -31.32 -32.32 -33.32 -34.32 -35.32 -36.32 -37.32 -38.32 -39.32 -40.32; -24.82 -25.82 -26.82 -27.82 -28.82 -29.82 -30.82 -31.82 -32.82 -33.82 -34.82; -19.32 -20.32 -21.32 -22.32 -23.32 -24.32 -25.32 -26.32 -27.32 -28.32 -29.32; -13.82 -14.82 -15.82 -16.82 -17.82 -18.82 -19.82 -20.82 -21.82 -22.82 -23.82; -8.32 -9.32 -10.32 -11.32 -12.32 -13.32 -14.32 -15.32 -16.32 -17.32 -18.3; -3.0 -4.0 -5.0 -6.0 -7.0 -8.0 -9.0 -9.8 -10.4 -10.8 -11.0; 0.0 0.0 0.0 0.0 0.0 0.0 0.0 0.0 0.0 0.0 0.0]\n"
     ]
    }
   ],
   "source": [
    "DP(30)"
   ]
  },
  {
   "cell_type": "markdown",
   "metadata": {},
   "source": [
    "Daily income ~5.2"
   ]
  },
  {
   "cell_type": "code",
   "execution_count": 41,
   "metadata": {},
   "outputs": [
    {
     "name": "stdout",
     "output_type": "stream",
     "text": [
      "[-321.82 -322.82 -323.82 -324.82 -325.82 -326.82 -327.82 -328.82 -329.82 -330.82 -331.82; -316.32 -317.32 -318.32 -319.32 -320.32 -321.32 -322.32 -323.32 -324.32 -325.32 -326.32; -310.82 -311.82 -312.82 -313.82 -314.82 -315.82 -316.82 -317.82 -318.82 -319.82 -320.82; -305.32 -306.32 -307.32 -308.32 -309.32 -310.32 -311.32 -312.32 -313.32 -314.32 -315.32; -299.82 -300.82 -301.82 -302.82 -303.82 -304.82 -305.82 -306.82 -307.82 -308.82 -309.82; -294.32 -295.32 -296.32 -297.32 -298.32 -299.32 -300.32 -301.32 -302.32 -303.32 -304.32; -288.82 -289.82 -290.82 -291.82 -292.82 -293.82 -294.82 -295.82 -296.82 -297.82 -298.82; -283.32 -284.32 -285.32 -286.32 -287.32 -288.32 -289.32 -290.32 -291.32 -292.32 -293.32; -277.82 -278.82 -279.82 -280.82 -281.82 -282.82 -283.82 -284.82 -285.82 -286.82 -287.82; -272.32 -273.32 -274.32 -275.32 -276.32 -277.32 -278.32 -279.32 -280.32 -281.32 -282.32; -266.82 -267.82 -268.82 -269.82 -270.82 -271.82 -272.82 -273.82 -274.82 -275.82 -276.82; -261.32 -262.32 -263.32 -264.32 -265.32 -266.32 -267.32 -268.32 -269.32 -270.32 -271.32; -255.82 -256.82 -257.82 -258.82 -259.82 -260.82 -261.82 -262.82 -263.82 -264.82 -265.82; -250.32 -251.32 -252.32 -253.32 -254.32 -255.32 -256.32 -257.32 -258.32 -259.32 -260.32; -244.82 -245.82 -246.82 -247.82 -248.82 -249.82 -250.82 -251.82 -252.82 -253.82 -254.82; -239.32 -240.32 -241.32 -242.32 -243.32 -244.32 -245.32 -246.32 -247.32 -248.32 -249.32; -233.82 -234.82 -235.82 -236.82 -237.82 -238.82 -239.82 -240.82 -241.82 -242.82 -243.82; -228.32 -229.32 -230.32 -231.32 -232.32 -233.32 -234.32 -235.32 -236.32 -237.32 -238.32; -222.82 -223.82 -224.82 -225.82 -226.82 -227.82 -228.82 -229.82 -230.82 -231.82 -232.82; -217.32 -218.32 -219.32 -220.32 -221.32 -222.32 -223.32 -224.32 -225.32 -226.32 -227.32; -211.82 -212.82 -213.82 -214.82 -215.82 -216.82 -217.82 -218.82 -219.82 -220.82 -221.82; -206.32 -207.32 -208.32 -209.32 -210.32 -211.32 -212.32 -213.32 -214.32 -215.32 -216.32; -200.82 -201.82 -202.82 -203.82 -204.82 -205.82 -206.82 -207.82 -208.82 -209.82 -210.82; -195.32 -196.32 -197.32 -198.32 -199.32 -200.32 -201.32 -202.32 -203.32 -204.32 -205.32; -189.82 -190.82 -191.82 -192.82 -193.82 -194.82 -195.82 -196.82 -197.82 -198.82 -199.82; -184.32 -185.32 -186.32 -187.32 -188.32 -189.32 -190.32 -191.32 -192.32 -193.32 -194.32; -178.82 -179.82 -180.82 -181.82 -182.82 -183.82 -184.82 -185.82 -186.82 -187.82 -188.82; -173.32 -174.32 -175.32 -176.32 -177.32 -178.32 -179.32 -180.32 -181.32 -182.32 -183.32; -167.82 -168.82 -169.82 -170.82 -171.82 -172.82 -173.82 -174.82 -175.82 -176.82 -177.82; -162.32 -163.32 -164.32 -165.32 -166.32 -167.32 -168.32 -169.32 -170.32 -171.32 -172.32; -156.82 -157.82 -158.82 -159.82 -160.82 -161.82 -162.82 -163.82 -164.82 -165.82 -166.82; -151.32 -152.32 -153.32 -154.32 -155.32 -156.32 -157.32 -158.32 -159.32 -160.32 -161.32; -145.82 -146.82 -147.82 -148.82 -149.82 -150.82 -151.82 -152.82 -153.82 -154.82 -155.82; -140.32 -141.32 -142.32 -143.32 -144.32 -145.32 -146.32 -147.32 -148.32 -149.32 -150.32; -134.82 -135.82 -136.82 -137.82 -138.82 -139.82 -140.82 -141.82 -142.82 -143.82 -144.82; -129.32 -130.32 -131.32 -132.32 -133.32 -134.32 -135.32 -136.32 -137.32 -138.32 -139.32; -123.82 -124.82 -125.82 -126.82 -127.82 -128.82 -129.82 -130.82 -131.82 -132.82 -133.82; -118.32 -119.32 -120.32 -121.32 -122.32 -123.32 -124.32 -125.32 -126.32 -127.32 -128.32; -112.82 -113.82 -114.82 -115.82 -116.82 -117.82 -118.82 -119.82 -120.82 -121.82 -122.82; -107.32 -108.32 -109.32 -110.32 -111.32 -112.32 -113.32 -114.32 -115.32 -116.32 -117.32; -101.82 -102.82 -103.82 -104.82 -105.82 -106.82 -107.82 -108.82 -109.82 -110.82 -111.82; -96.32 -97.32 -98.32 -99.32 -100.32 -101.32 -102.32 -103.32 -104.32 -105.32 -106.32; -90.82 -91.82 -92.82 -93.82 -94.82 -95.82 -96.82 -97.82 -98.82 -99.82 -100.82; -85.32 -86.32 -87.32 -88.32 -89.32 -90.32 -91.32 -92.32 -93.32 -94.32 -95.32; -79.82 -80.82 -81.82 -82.82 -83.82 -84.82 -85.82 -86.82 -87.82 -88.82 -89.82; -74.32 -75.32 -76.32 -77.32 -78.32 -79.32 -80.32 -81.32 -82.32 -83.32 -84.32; -68.82 -69.82 -70.82 -71.82 -72.82 -73.82 -74.82 -75.82 -76.82 -77.82 -78.82; -63.32 -64.32 -65.32 -66.32 -67.32 -68.32 -69.32 -70.32 -71.32 -72.32 -73.32; -57.82 -58.82 -59.82 -60.82 -61.82 -62.82 -63.82 -64.82 -65.82 -66.82 -67.82; -52.32 -53.32 -54.32 -55.32 -56.32 -57.32 -58.32 -59.32 -60.32 -61.32 -62.32; -46.82 -47.82 -48.82 -49.82 -50.82 -51.82 -52.82 -53.82 -54.82 -55.82 -56.82; -41.32 -42.32 -43.32 -44.32 -45.32 -46.32 -47.32 -48.32 -49.32 -50.32 -51.32; -35.82 -36.82 -37.82 -38.82 -39.82 -40.82 -41.82 -42.82 -43.82 -44.82 -45.82; -30.32 -31.32 -32.32 -33.32 -34.32 -35.32 -36.32 -37.32 -38.32 -39.32 -40.32; -24.82 -25.82 -26.82 -27.82 -28.82 -29.82 -30.82 -31.82 -32.82 -33.82 -34.82; -19.32 -20.32 -21.32 -22.32 -23.32 -24.32 -25.32 -26.32 -27.32 -28.32 -29.32; -13.82 -14.82 -15.82 -16.82 -17.82 -18.82 -19.82 -20.82 -21.82 -22.82 -23.82; -8.32 -9.32 -10.32 -11.32 -12.32 -13.32 -14.32 -15.32 -16.32 -17.32 -18.3; -3.0 -4.0 -5.0 -6.0 -7.0 -8.0 -9.0 -9.8 -10.4 -10.8 -11.0; 0.0 0.0 0.0 0.0 0.0 0.0 0.0 0.0 0.0 0.0 0.0]\n"
     ]
    }
   ],
   "source": [
    "DP(60)"
   ]
  },
  {
   "cell_type": "markdown",
   "metadata": {},
   "source": [
    "Daily income ~5.2"
   ]
  },
  {
   "cell_type": "code",
   "execution_count": 42,
   "metadata": {},
   "outputs": [
    {
     "name": "stdout",
     "output_type": "stream",
     "text": [
      "[-816.82 -817.82 -818.82 -819.82 -820.82 -821.82 -822.82 -823.82 -824.82 -825.82 -826.82; -811.32 -812.32 -813.32 -814.32 -815.32 -816.32 -817.32 -818.32 -819.32 -820.32 -821.32; -805.82 -806.82 -807.82 -808.82 -809.82 -810.82 -811.82 -812.82 -813.82 -814.82 -815.82; -800.32 -801.32 -802.32 -803.32 -804.32 -805.32 -806.32 -807.32 -808.32 -809.32 -810.32; -794.82 -795.82 -796.82 -797.82 -798.82 -799.82 -800.82 -801.82 -802.82 -803.82 -804.82; -789.32 -790.32 -791.32 -792.32 -793.32 -794.32 -795.32 -796.32 -797.32 -798.32 -799.32; -783.82 -784.82 -785.82 -786.82 -787.82 -788.82 -789.82 -790.82 -791.82 -792.82 -793.82; -778.32 -779.32 -780.32 -781.32 -782.32 -783.32 -784.32 -785.32 -786.32 -787.32 -788.32; -772.82 -773.82 -774.82 -775.82 -776.82 -777.82 -778.82 -779.82 -780.82 -781.82 -782.82; -767.32 -768.32 -769.32 -770.32 -771.32 -772.32 -773.32 -774.32 -775.32 -776.32 -777.32; -761.82 -762.82 -763.82 -764.82 -765.82 -766.82 -767.82 -768.82 -769.82 -770.82 -771.82; -756.32 -757.32 -758.32 -759.32 -760.32 -761.32 -762.32 -763.32 -764.32 -765.32 -766.32; -750.82 -751.82 -752.82 -753.82 -754.82 -755.82 -756.82 -757.82 -758.82 -759.82 -760.82; -745.32 -746.32 -747.32 -748.32 -749.32 -750.32 -751.32 -752.32 -753.32 -754.32 -755.32; -739.82 -740.82 -741.82 -742.82 -743.82 -744.82 -745.82 -746.82 -747.82 -748.82 -749.82; -734.32 -735.32 -736.32 -737.32 -738.32 -739.32 -740.32 -741.32 -742.32 -743.32 -744.32; -728.82 -729.82 -730.82 -731.82 -732.82 -733.82 -734.82 -735.82 -736.82 -737.82 -738.82; -723.32 -724.32 -725.32 -726.32 -727.32 -728.32 -729.32 -730.32 -731.32 -732.32 -733.32; -717.82 -718.82 -719.82 -720.82 -721.82 -722.82 -723.82 -724.82 -725.82 -726.82 -727.82; -712.32 -713.32 -714.32 -715.32 -716.32 -717.32 -718.32 -719.32 -720.32 -721.32 -722.32; -706.82 -707.82 -708.82 -709.82 -710.82 -711.82 -712.82 -713.82 -714.82 -715.82 -716.82; -701.32 -702.32 -703.32 -704.32 -705.32 -706.32 -707.32 -708.32 -709.32 -710.32 -711.32; -695.82 -696.82 -697.82 -698.82 -699.82 -700.82 -701.82 -702.82 -703.82 -704.82 -705.82; -690.32 -691.32 -692.32 -693.32 -694.32 -695.32 -696.32 -697.32 -698.32 -699.32 -700.32; -684.82 -685.82 -686.82 -687.82 -688.82 -689.82 -690.82 -691.82 -692.82 -693.82 -694.82; -679.32 -680.32 -681.32 -682.32 -683.32 -684.32 -685.32 -686.32 -687.32 -688.32 -689.32; -673.82 -674.82 -675.82 -676.82 -677.82 -678.82 -679.82 -680.82 -681.82 -682.82 -683.82; -668.32 -669.32 -670.32 -671.32 -672.32 -673.32 -674.32 -675.32 -676.32 -677.32 -678.32; -662.82 -663.82 -664.82 -665.82 -666.82 -667.82 -668.82 -669.82 -670.82 -671.82 -672.82; -657.32 -658.32 -659.32 -660.32 -661.32 -662.32 -663.32 -664.32 -665.32 -666.32 -667.32; -651.82 -652.82 -653.82 -654.82 -655.82 -656.82 -657.82 -658.82 -659.82 -660.82 -661.82; -646.32 -647.32 -648.32 -649.32 -650.32 -651.32 -652.32 -653.32 -654.32 -655.32 -656.32; -640.82 -641.82 -642.82 -643.82 -644.82 -645.82 -646.82 -647.82 -648.82 -649.82 -650.82; -635.32 -636.32 -637.32 -638.32 -639.32 -640.32 -641.32 -642.32 -643.32 -644.32 -645.32; -629.82 -630.82 -631.82 -632.82 -633.82 -634.82 -635.82 -636.82 -637.82 -638.82 -639.82; -624.32 -625.32 -626.32 -627.32 -628.32 -629.32 -630.32 -631.32 -632.32 -633.32 -634.32; -618.82 -619.82 -620.82 -621.82 -622.82 -623.82 -624.82 -625.82 -626.82 -627.82 -628.82; -613.32 -614.32 -615.32 -616.32 -617.32 -618.32 -619.32 -620.32 -621.32 -622.32 -623.32; -607.82 -608.82 -609.82 -610.82 -611.82 -612.82 -613.82 -614.82 -615.82 -616.82 -617.82; -602.32 -603.32 -604.32 -605.32 -606.32 -607.32 -608.32 -609.32 -610.32 -611.32 -612.32; -596.82 -597.82 -598.82 -599.82 -600.82 -601.82 -602.82 -603.82 -604.82 -605.82 -606.82; -591.32 -592.32 -593.32 -594.32 -595.32 -596.32 -597.32 -598.32 -599.32 -600.32 -601.32; -585.82 -586.82 -587.82 -588.82 -589.82 -590.82 -591.82 -592.82 -593.82 -594.82 -595.82; -580.32 -581.32 -582.32 -583.32 -584.32 -585.32 -586.32 -587.32 -588.32 -589.32 -590.32; -574.82 -575.82 -576.82 -577.82 -578.82 -579.82 -580.82 -581.82 -582.82 -583.82 -584.82; -569.32 -570.32 -571.32 -572.32 -573.32 -574.32 -575.32 -576.32 -577.32 -578.32 -579.32; -563.82 -564.82 -565.82 -566.82 -567.82 -568.82 -569.82 -570.82 -571.82 -572.82 -573.82; -558.32 -559.32 -560.32 -561.32 -562.32 -563.32 -564.32 -565.32 -566.32 -567.32 -568.32; -552.82 -553.82 -554.82 -555.82 -556.82 -557.82 -558.82 -559.82 -560.82 -561.82 -562.82; -547.32 -548.32 -549.32 -550.32 -551.32 -552.32 -553.32 -554.32 -555.32 -556.32 -557.32; -541.82 -542.82 -543.82 -544.82 -545.82 -546.82 -547.82 -548.82 -549.82 -550.82 -551.82; -536.32 -537.32 -538.32 -539.32 -540.32 -541.32 -542.32 -543.32 -544.32 -545.32 -546.32; -530.82 -531.82 -532.82 -533.82 -534.82 -535.82 -536.82 -537.82 -538.82 -539.82 -540.82; -525.32 -526.32 -527.32 -528.32 -529.32 -530.32 -531.32 -532.32 -533.32 -534.32 -535.32; -519.82 -520.82 -521.82 -522.82 -523.82 -524.82 -525.82 -526.82 -527.82 -528.82 -529.82; -514.32 -515.32 -516.32 -517.32 -518.32 -519.32 -520.32 -521.32 -522.32 -523.32 -524.32; -508.82 -509.82 -510.82 -511.82 -512.82 -513.82 -514.82 -515.82 -516.82 -517.82 -518.82; -503.32 -504.32 -505.32 -506.32 -507.32 -508.32 -509.32 -510.32 -511.32 -512.32 -513.32; -497.82 -498.82 -499.82 -500.82 -501.82 -502.82 -503.82 -504.82 -505.82 -506.82 -507.82; -492.32 -493.32 -494.32 -495.32 -496.32 -497.32 -498.32 -499.32 -500.32 -501.32 -502.32; -486.82 -487.82 -488.82 -489.82 -490.82 -491.82 -492.82 -493.82 -494.82 -495.82 -496.82; -481.32 -482.32 -483.32 -484.32 -485.32 -486.32 -487.32 -488.32 -489.32 -490.32 -491.32; -475.82 -476.82 -477.82 -478.82 -479.82 -480.82 -481.82 -482.82 -483.82 -484.82 -485.82; -470.32 -471.32 -472.32 -473.32 -474.32 -475.32 -476.32 -477.32 -478.32 -479.32 -480.32; -464.82 -465.82 -466.82 -467.82 -468.82 -469.82 -470.82 -471.82 -472.82 -473.82 -474.82; -459.32 -460.32 -461.32 -462.32 -463.32 -464.32 -465.32 -466.32 -467.32 -468.32 -469.32; -453.82 -454.82 -455.82 -456.82 -457.82 -458.82 -459.82 -460.82 -461.82 -462.82 -463.82; -448.32 -449.32 -450.32 -451.32 -452.32 -453.32 -454.32 -455.32 -456.32 -457.32 -458.32; -442.82 -443.82 -444.82 -445.82 -446.82 -447.82 -448.82 -449.82 -450.82 -451.82 -452.82; -437.32 -438.32 -439.32 -440.32 -441.32 -442.32 -443.32 -444.32 -445.32 -446.32 -447.32; -431.82 -432.82 -433.82 -434.82 -435.82 -436.82 -437.82 -438.82 -439.82 -440.82 -441.82; -426.32 -427.32 -428.32 -429.32 -430.32 -431.32 -432.32 -433.32 -434.32 -435.32 -436.32; -420.82 -421.82 -422.82 -423.82 -424.82 -425.82 -426.82 -427.82 -428.82 -429.82 -430.82; -415.32 -416.32 -417.32 -418.32 -419.32 -420.32 -421.32 -422.32 -423.32 -424.32 -425.32; -409.82 -410.82 -411.82 -412.82 -413.82 -414.82 -415.82 -416.82 -417.82 -418.82 -419.82; -404.32 -405.32 -406.32 -407.32 -408.32 -409.32 -410.32 -411.32 -412.32 -413.32 -414.32; -398.82 -399.82 -400.82 -401.82 -402.82 -403.82 -404.82 -405.82 -406.82 -407.82 -408.82; -393.32 -394.32 -395.32 -396.32 -397.32 -398.32 -399.32 -400.32 -401.32 -402.32 -403.32; -387.82 -388.82 -389.82 -390.82 -391.82 -392.82 -393.82 -394.82 -395.82 -396.82 -397.82; -382.32 -383.32 -384.32 -385.32 -386.32 -387.32 -388.32 -389.32 -390.32 -391.32 -392.32; -376.82 -377.82 -378.82 -379.82 -380.82 -381.82 -382.82 -383.82 -384.82 -385.82 -386.82; -371.32 -372.32 -373.32 -374.32 -375.32 -376.32 -377.32 -378.32 -379.32 -380.32 -381.32; -365.82 -366.82 -367.82 -368.82 -369.82 -370.82 -371.82 -372.82 -373.82 -374.82 -375.82; -360.32 -361.32 -362.32 -363.32 -364.32 -365.32 -366.32 -367.32 -368.32 -369.32 -370.32; -354.82 -355.82 -356.82 -357.82 -358.82 -359.82 -360.82 -361.82 -362.82 -363.82 -364.82; -349.32 -350.32 -351.32 -352.32 -353.32 -354.32 -355.32 -356.32 -357.32 -358.32 -359.32; -343.82 -344.82 -345.82 -346.82 -347.82 -348.82 -349.82 -350.82 -351.82 -352.82 -353.82; -338.32 -339.32 -340.32 -341.32 -342.32 -343.32 -344.32 -345.32 -346.32 -347.32 -348.32; -332.82 -333.82 -334.82 -335.82 -336.82 -337.82 -338.82 -339.82 -340.82 -341.82 -342.82; -327.32 -328.32 -329.32 -330.32 -331.32 -332.32 -333.32 -334.32 -335.32 -336.32 -337.32; -321.82 -322.82 -323.82 -324.82 -325.82 -326.82 -327.82 -328.82 -329.82 -330.82 -331.82; -316.32 -317.32 -318.32 -319.32 -320.32 -321.32 -322.32 -323.32 -324.32 -325.32 -326.32; -310.82 -311.82 -312.82 -313.82 -314.82 -315.82 -316.82 -317.82 -318.82 -319.82 -320.82; -305.32 -306.32 -307.32 -308.32 -309.32 -310.32 -311.32 -312.32 -313.32 -314.32 -315.32; -299.82 -300.82 -301.82 -302.82 -303.82 -304.82 -305.82 -306.82 -307.82 -308.82 -309.82; -294.32 -295.32 -296.32 -297.32 -298.32 -299.32 -300.32 -301.32 -302.32 -303.32 -304.32; -288.82 -289.82 -290.82 -291.82 -292.82 -293.82 -294.82 -295.82 -296.82 -297.82 -298.82; -283.32 -284.32 -285.32 -286.32 -287.32 -288.32 -289.32 -290.32 -291.32 -292.32 -293.32; -277.82 -278.82 -279.82 -280.82 -281.82 -282.82 -283.82 -284.82 -285.82 -286.82 -287.82; -272.32 -273.32 -274.32 -275.32 -276.32 -277.32 -278.32 -279.32 -280.32 -281.32 -282.32; -266.82 -267.82 -268.82 -269.82 -270.82 -271.82 -272.82 -273.82 -274.82 -275.82 -276.82; -261.32 -262.32 -263.32 -264.32 -265.32 -266.32 -267.32 -268.32 -269.32 -270.32 -271.32; -255.82 -256.82 -257.82 -258.82 -259.82 -260.82 -261.82 -262.82 -263.82 -264.82 -265.82; -250.32 -251.32 -252.32 -253.32 -254.32 -255.32 -256.32 -257.32 -258.32 -259.32 -260.32; -244.82 -245.82 -246.82 -247.82 -248.82 -249.82 -250.82 -251.82 -252.82 -253.82 -254.82; -239.32 -240.32 -241.32 -242.32 -243.32 -244.32 -245.32 -246.32 -247.32 -248.32 -249.32; -233.82 -234.82 -235.82 -236.82 -237.82 -238.82 -239.82 -240.82 -241.82 -242.82 -243.82; -228.32 -229.32 -230.32 -231.32 -232.32 -233.32 -234.32 -235.32 -236.32 -237.32 -238.32; -222.82 -223.82 -224.82 -225.82 -226.82 -227.82 -228.82 -229.82 -230.82 -231.82 -232.82; -217.32 -218.32 -219.32 -220.32 -221.32 -222.32 -223.32 -224.32 -225.32 -226.32 -227.32; -211.82 -212.82 -213.82 -214.82 -215.82 -216.82 -217.82 -218.82 -219.82 -220.82 -221.82; -206.32 -207.32 -208.32 -209.32 -210.32 -211.32 -212.32 -213.32 -214.32 -215.32 -216.32; -200.82 -201.82 -202.82 -203.82 -204.82 -205.82 -206.82 -207.82 -208.82 -209.82 -210.82; -195.32 -196.32 -197.32 -198.32 -199.32 -200.32 -201.32 -202.32 -203.32 -204.32 -205.32; -189.82 -190.82 -191.82 -192.82 -193.82 -194.82 -195.82 -196.82 -197.82 -198.82 -199.82; -184"
     ]
    },
    {
     "name": "stdout",
     "output_type": "stream",
     "text": [
      ".32 -185.32 -186.32 -187.32 -188.32 -189.32 -190.32 -191.32 -192.32 -193.32 -194.32; -178.82 -179.82 -180.82 -181.82 -182.82 -183.82 -184.82 -185.82 -186.82 -187.82 -188.82; -173.32 -174.32 -175.32 -176.32 -177.32 -178.32 -179.32 -180.32 -181.32 -182.32 -183.32; -167.82 -168.82 -169.82 -170.82 -171.82 -172.82 -173.82 -174.82 -175.82 -176.82 -177.82; -162.32 -163.32 -164.32 -165.32 -166.32 -167.32 -168.32 -169.32 -170.32 -171.32 -172.32; -156.82 -157.82 -158.82 -159.82 -160.82 -161.82 -162.82 -163.82 -164.82 -165.82 -166.82; -151.32 -152.32 -153.32 -154.32 -155.32 -156.32 -157.32 -158.32 -159.32 -160.32 -161.32; -145.82 -146.82 -147.82 -148.82 -149.82 -150.82 -151.82 -152.82 -153.82 -154.82 -155.82; -140.32 -141.32 -142.32 -143.32 -144.32 -145.32 -146.32 -147.32 -148.32 -149.32 -150.32; -134.82 -135.82 -136.82 -137.82 -138.82 -139.82 -140.82 -141.82 -142.82 -143.82 -144.82; -129.32 -130.32 -131.32 -132.32 -133.32 -134.32 -135.32 -136.32 -137.32 -138.32 -139.32; -123.82 -124.82 -125.82 -126.82 -127.82 -128.82 -129.82 -130.82 -131.82 -132.82 -133.82; -118.32 -119.32 -120.32 -121.32 -122.32 -123.32 -124.32 -125.32 -126.32 -127.32 -128.32; -112.82 -113.82 -114.82 -115.82 -116.82 -117.82 -118.82 -119.82 -120.82 -121.82 -122.82; -107.32 -108.32 -109.32 -110.32 -111.32 -112.32 -113.32 -114.32 -115.32 -116.32 -117.32; -101.82 -102.82 -103.82 -104.82 -105.82 -106.82 -107.82 -108.82 -109.82 -110.82 -111.82; -96.32 -97.32 -98.32 -99.32 -100.32 -101.32 -102.32 -103.32 -104.32 -105.32 -106.32; -90.82 -91.82 -92.82 -93.82 -94.82 -95.82 -96.82 -97.82 -98.82 -99.82 -100.82; -85.32 -86.32 -87.32 -88.32 -89.32 -90.32 -91.32 -92.32 -93.32 -94.32 -95.32; -79.82 -80.82 -81.82 -82.82 -83.82 -84.82 -85.82 -86.82 -87.82 -88.82 -89.82; -74.32 -75.32 -76.32 -77.32 -78.32 -79.32 -80.32 -81.32 -82.32 -83.32 -84.32; -68.82 -69.82 -70.82 -71.82 -72.82 -73.82 -74.82 -75.82 -76.82 -77.82 -78.82; -63.32 -64.32 -65.32 -66.32 -67.32 -68.32 -69.32 -70.32 -71.32 -72.32 -73.32; -57.82 -58.82 -59.82 -60.82 -61.82 -62.82 -63.82 -64.82 -65.82 -66.82 -67.82; -52.32 -53.32 -54.32 -55.32 -56.32 -57.32 -58.32 -59.32 -60.32 -61.32 -62.32; -46.82 -47.82 -48.82 -49.82 -50.82 -51.82 -52.82 -53.82 -54.82 -55.82 -56.82; -41.32 -42.32 -43.32 -44.32 -45.32 -46.32 -47.32 -48.32 -49.32 -50.32 -51.32; -35.82 -36.82 -37.82 -38.82 -39.82 -40.82 -41.82 -42.82 -43.82 -44.82 -45.82; -30.32 -31.32 -32.32 -33.32 -34.32 -35.32 -36.32 -37.32 -38.32 -39.32 -40.32; -24.82 -25.82 -26.82 -27.82 -28.82 -29.82 -30.82 -31.82 -32.82 -33.82 -34.82; -19.32 -20.32 -21.32 -22.32 -23.32 -24.32 -25.32 -26.32 -27.32 -28.32 -29.32; -13.82 -14.82 -15.82 -16.82 -17.82 -18.82 -19.82 -20.82 -21.82 -22.82 -23.82; -8.32 -9.32 -10.32 -11.32 -12.32 -13.32 -14.32 -15.32 -16.32 -17.32 -18.3; -3.0 -4.0 -5.0 -6.0 -7.0 -8.0 -9.0 -9.8 -10.4 -10.8 -11.0; 0.0 0.0 0.0 0.0 0.0 0.0 0.0 0.0 0.0 0.0 0.0]\n"
     ]
    }
   ],
   "source": [
    "DP(150)"
   ]
  },
  {
   "cell_type": "markdown",
   "metadata": {},
   "source": [
    "Daily income ~5.44"
   ]
  },
  {
   "cell_type": "code",
   "execution_count": 43,
   "metadata": {},
   "outputs": [
    {
     "name": "stdout",
     "output_type": "stream",
     "text": [
      "[-5491.82 -5492.82 -5493.82 -5494.82 -5495.82 -5496.82 -5497.82 -5498.82 -5499.82 -5500.82 -5501.82; -5486.32 -5487.32 -5488.32 -5489.32 -5490.32 -5491.32 -5492.32 -5493.32 -5494.32 -5495.32 -5496.32; -5480.82 -5481.82 -5482.82 -5483.82 -5484.82 -5485.82 -5486.82 -5487.82 -5488.82 -5489.82 -5490.82; -5475.32 -5476.32 -5477.32 -5478.32 -5479.32 -5480.32 -5481.32 -5482.32 -5483.32 -5484.32 -5485.32; -5469.82 -5470.82 -5471.82 -5472.82 -5473.82 -5474.82 -5475.82 -5476.82 -5477.82 -5478.82 -5479.82; -5464.32 -5465.32 -5466.32 -5467.32 -5468.32 -5469.32 -5470.32 -5471.32 -5472.32 -5473.32 -5474.32; -5458.82 -5459.82 -5460.82 -5461.82 -5462.82 -5463.82 -5464.82 -5465.82 -5466.82 -5467.82 -5468.82; -5453.32 -5454.32 -5455.32 -5456.32 -5457.32 -5458.32 -5459.32 -5460.32 -5461.32 -5462.32 -5463.32; -5447.82 -5448.82 -5449.82 -5450.82 -5451.82 -5452.82 -5453.82 -5454.82 -5455.82 -5456.82 -5457.82; -5442.32 -5443.32 -5444.32 -5445.32 -5446.32 -5447.32 -5448.32 -5449.32 -5450.32 -5451.32 -5452.32; -5436.82 -5437.82 -5438.82 -5439.82 -5440.82 -5441.82 -5442.82 -5443.82 -5444.82 -5445.82 -5446.82; -5431.32 -5432.32 -5433.32 -5434.32 -5435.32 -5436.32 -5437.32 -5438.32 -5439.32 -5440.32 -5441.32; -5425.82 -5426.82 -5427.82 -5428.82 -5429.82 -5430.82 -5431.82 -5432.82 -5433.82 -5434.82 -5435.82; -5420.32 -5421.32 -5422.32 -5423.32 -5424.32 -5425.32 -5426.32 -5427.32 -5428.32 -5429.32 -5430.32; -5414.82 -5415.82 -5416.82 -5417.82 -5418.82 -5419.82 -5420.82 -5421.82 -5422.82 -5423.82 -5424.82; -5409.32 -5410.32 -5411.32 -5412.32 -5413.32 -5414.32 -5415.32 -5416.32 -5417.32 -5418.32 -5419.32; -5403.82 -5404.82 -5405.82 -5406.82 -5407.82 -5408.82 -5409.82 -5410.82 -5411.82 -5412.82 -5413.82; -5398.32 -5399.32 -5400.32 -5401.32 -5402.32 -5403.32 -5404.32 -5405.32 -5406.32 -5407.32 -5408.32; -5392.82 -5393.82 -5394.82 -5395.82 -5396.82 -5397.82 -5398.82 -5399.82 -5400.82 -5401.82 -5402.82; -5387.32 -5388.32 -5389.32 -5390.32 -5391.32 -5392.32 -5393.32 -5394.32 -5395.32 -5396.32 -5397.32; -5381.82 -5382.82 -5383.82 -5384.82 -5385.82 -5386.82 -5387.82 -5388.82 -5389.82 -5390.82 -5391.82; -5376.32 -5377.32 -5378.32 -5379.32 -5380.32 -5381.32 -5382.32 -5383.32 -5384.32 -5385.32 -5386.32; -5370.82 -5371.82 -5372.82 -5373.82 -5374.82 -5375.82 -5376.82 -5377.82 -5378.82 -5379.82 -5380.82; -5365.32 -5366.32 -5367.32 -5368.32 -5369.32 -5370.32 -5371.32 -5372.32 -5373.32 -5374.32 -5375.32; -5359.82 -5360.82 -5361.82 -5362.82 -5363.82 -5364.82 -5365.82 -5366.82 -5367.82 -5368.82 -5369.82; -5354.32 -5355.32 -5356.32 -5357.32 -5358.32 -5359.32 -5360.32 -5361.32 -5362.32 -5363.32 -5364.32; -5348.82 -5349.82 -5350.82 -5351.82 -5352.82 -5353.82 -5354.82 -5355.82 -5356.82 -5357.82 -5358.82; -5343.32 -5344.32 -5345.32 -5346.32 -5347.32 -5348.32 -5349.32 -5350.32 -5351.32 -5352.32 -5353.32; -5337.82 -5338.82 -5339.82 -5340.82 -5341.82 -5342.82 -5343.82 -5344.82 -5345.82 -5346.82 -5347.82; -5332.32 -5333.32 -5334.32 -5335.32 -5336.32 -5337.32 -5338.32 -5339.32 -5340.32 -5341.32 -5342.32; -5326.82 -5327.82 -5328.82 -5329.82 -5330.82 -5331.82 -5332.82 -5333.82 -5334.82 -5335.82 -5336.82; -5321.32 -5322.32 -5323.32 -5324.32 -5325.32 -5326.32 -5327.32 -5328.32 -5329.32 -5330.32 -5331.32; -5315.82 -5316.82 -5317.82 -5318.82 -5319.82 -5320.82 -5321.82 -5322.82 -5323.82 -5324.82 -5325.82; -5310.32 -5311.32 -5312.32 -5313.32 -5314.32 -5315.32 -5316.32 -5317.32 -5318.32 -5319.32 -5320.32; -5304.82 -5305.82 -5306.82 -5307.82 -5308.82 -5309.82 -5310.82 -5311.82 -5312.82 -5313.82 -5314.82; -5299.32 -5300.32 -5301.32 -5302.32 -5303.32 -5304.32 -5305.32 -5306.32 -5307.32 -5308.32 -5309.32; -5293.82 -5294.82 -5295.82 -5296.82 -5297.82 -5298.82 -5299.82 -5300.82 -5301.82 -5302.82 -5303.82; -5288.32 -5289.32 -5290.32 -5291.32 -5292.32 -5293.32 -5294.32 -5295.32 -5296.32 -5297.32 -5298.32; -5282.82 -5283.82 -5284.82 -5285.82 -5286.82 -5287.82 -5288.82 -5289.82 -5290.82 -5291.82 -5292.82; -5277.32 -5278.32 -5279.32 -5280.32 -5281.32 -5282.32 -5283.32 -5284.32 -5285.32 -5286.32 -5287.32; -5271.82 -5272.82 -5273.82 -5274.82 -5275.82 -5276.82 -5277.82 -5278.82 -5279.82 -5280.82 -5281.82; -5266.32 -5267.32 -5268.32 -5269.32 -5270.32 -5271.32 -5272.32 -5273.32 -5274.32 -5275.32 -5276.32; -5260.82 -5261.82 -5262.82 -5263.82 -5264.82 -5265.82 -5266.82 -5267.82 -5268.82 -5269.82 -5270.82; -5255.32 -5256.32 -5257.32 -5258.32 -5259.32 -5260.32 -5261.32 -5262.32 -5263.32 -5264.32 -5265.32; -5249.82 -5250.82 -5251.82 -5252.82 -5253.82 -5254.82 -5255.82 -5256.82 -5257.82 -5258.82 -5259.82; -5244.32 -5245.32 -5246.32 -5247.32 -5248.32 -5249.32 -5250.32 -5251.32 -5252.32 -5253.32 -5254.32; -5238.82 -5239.82 -5240.82 -5241.82 -5242.82 -5243.82 -5244.82 -5245.82 -5246.82 -5247.82 -5248.82; -5233.32 -5234.32 -5235.32 -5236.32 -5237.32 -5238.32 -5239.32 -5240.32 -5241.32 -5242.32 -5243.32; -5227.82 -5228.82 -5229.82 -5230.82 -5231.82 -5232.82 -5233.82 -5234.82 -5235.82 -5236.82 -5237.82; -5222.32 -5223.32 -5224.32 -5225.32 -5226.32 -5227.32 -5228.32 -5229.32 -5230.32 -5231.32 -5232.32; -5216.82 -5217.82 -5218.82 -5219.82 -5220.82 -5221.82 -5222.82 -5223.82 -5224.82 -5225.82 -5226.82; -5211.32 -5212.32 -5213.32 -5214.32 -5215.32 -5216.32 -5217.32 -5218.32 -5219.32 -5220.32 -5221.32; -5205.82 -5206.82 -5207.82 -5208.82 -5209.82 -5210.82 -5211.82 -5212.82 -5213.82 -5214.82 -5215.82; -5200.32 -5201.32 -5202.32 -5203.32 -5204.32 -5205.32 -5206.32 -5207.32 -5208.32 -5209.32 -5210.32; -5194.82 -5195.82 -5196.82 -5197.82 -5198.82 -5199.82 -5200.82 -5201.82 -5202.82 -5203.82 -5204.82; -5189.32 -5190.32 -5191.32 -5192.32 -5193.32 -5194.32 -5195.32 -5196.32 -5197.32 -5198.32 -5199.32; -5183.82 -5184.82 -5185.82 -5186.82 -5187.82 -5188.82 -5189.82 -5190.82 -5191.82 -5192.82 -5193.82; -5178.32 -5179.32 -5180.32 -5181.32 -5182.32 -5183.32 -5184.32 -5185.32 -5186.32 -5187.32 -5188.32; -5172.82 -5173.82 -5174.82 -5175.82 -5176.82 -5177.82 -5178.82 -5179.82 -5180.82 -5181.82 -5182.82; -5167.32 -5168.32 -5169.32 -5170.32 -5171.32 -5172.32 -5173.32 -5174.32 -5175.32 -5176.32 -5177.32; -5161.82 -5162.82 -5163.82 -5164.82 -5165.82 -5166.82 -5167.82 -5168.82 -5169.82 -5170.82 -5171.82; -5156.32 -5157.32 -5158.32 -5159.32 -5160.32 -5161.32 -5162.32 -5163.32 -5164.32 -5165.32 -5166.32; -5150.82 -5151.82 -5152.82 -5153.82 -5154.82 -5155.82 -5156.82 -5157.82 -5158.82 -5159.82 -5160.82; -5145.32 -5146.32 -5147.32 -5148.32 -5149.32 -5150.32 -5151.32 -5152.32 -5153.32 -5154.32 -5155.32; -5139.82 -5140.82 -5141.82 -5142.82 -5143.82 -5144.82 -5145.82 -5146.82 -5147.82 -5148.82 -5149.82; -5134.32 -5135.32 -5136.32 -5137.32 -5138.32 -5139.32 -5140.32 -5141.32 -5142.32 -5143.32 -5144.32; -5128.82 -5129.82 -5130.82 -5131.82 -5132.82 -5133.82 -5134.82 -5135.82 -5136.82 -5137.82 -5138.82; -5123.32 -5124.32 -5125.32 -5126.32 -5127.32 -5128.32 -5129.32 -5130.32 -5131.32 -5132.32 -5133.32; -5117.82 -5118.82 -5119.82 -5120.82 -5121.82 -5122.82 -5123.82 -5124.82 -5125.82 -5126.82 -5127.82; -5112.32 -5113.32 -5114.32 -5115.32 -5116.32 -5117.32 -5118.32 -5119.32 -5120.32 -5121.32 -5122.32; -5106.82 -5107.82 -5108.82 -5109.82 -5110.82 -5111.82 -5112.82 -5113.82 -5114.82 -5115.82 -5116.82; -5101.32 -5102.32 -5103.32 -5104.32 -5105.32 -5106.32 -5107.32 -5108.32 -5109.32 -5110.32 -5111.32; -5095.82 -5096.82 -5097.82 -5098.82 -5099.82 -5100.82 -5101.82 -5102.82 -5103.82 -5104.82 -5105.82; -5090.32 -5091.32 -5092.32 -5093.32 -5094.32 -5095.32 -5096.32 -5097.32 -5098.32 -5099.32 -5100.32; -5084.82 -5085.82 -5086.82 -5087.82 -5088.82 -5089.82 -5090.82 -5091.82 -5092.82 -5093.82 -5094.82; -5079.32 -5080.32 -5081.32 -5082.32 -5083.32 -5084.32 -5085.32 -5086.32 -5087.32 -5088.32 -5089.32; -5073.82 -5074.82 -5075.82 -5076.82 -5077.82 -5078.82 -5079.82 -5080.82 -5081.82 -5082.82 -5083.82; -5068.32 -5069.32 -5070.32 -5071.32 -5072.32 -5073.32 -5074.32 -5075.32 -5076.32 -5077.32 -5078.32; -5062.82 -5063.82 -5064.82 -5065.82 -5066.82 -5067.82 -5068.82 -5069.82 -5070.82 -5071.82 -5072.82; -5057.32 -5058.32 -5059.32 -5060.32 -5061.32 -5062.32 -5063.32 -5064.32 -5065.32 -5066.32 -5067.32; -5051.82 -5052.82 -5053.82 -5054.82 -5055.82 -5056.82 -5057.82 -5058.82 -5059.82 -5060.82 -5061.82; -5046.32 -5047.32 -5048.32 -5049.32 -5050.32 -5051.32 -5052.32 -5053.32 -5054.32 -5055.32 -5056.32; -5040.82 -5041.82 -5042.82 -5043.82 -5044.82 -5045.82 -5046.82 -5047.82 -5048.82 -5049.82 -5050.82; -5035.32 -5036.32 -5037.32 -5038.32 -5039.32 -5040.32 -5041.32 -5042.32 -5043.32 -5044.32 -5045.32; -5029.82 -5030.82 -5031.82 -5032.82 -5033.82 -5034.82 -5035.82 -5036.82 -5037.82 -5038.82 -5039.82; -5024.32 -5025.32 -5026.32 -5027.32 -5028.32 -5029.32 -5030.32 -5031.32 -5032.32 -5033.32 -5034.32; -5018.82 -5019.82 -5020.82 -5021.82 -5022.82 -5023.82 -5024.82 -5025.82 -5026.82 -5027.82 -5028.82; -5013.32 -5014.32 -5015.32 -5016.32 -5017.32 -5018.32 -5019.32 -5020.32 -5021.32 -5022.32 -5023.32; -5007.82 -5008.82 -5009.82 -5010.82 -5011.82 -5012.82 -5013.82 -5014.82 -5015.82 -5016.82 -5017.82; -5002.32 -5003.32 -5004.32 -5005.32 -5006.32 -5007.32 -5008.32 -5009.32 -5010.32 -5011.32 -5012.32; -4996.82 -4997.82 -4998.82 -4999.82 -5000.82 -5001.82 -5002.82 -5003.82 -5004.82 -5005.82 -5006.82; -4991.32 -4992.32 -4993.32 -4994.32 -4995.32 -4996.32 -4997.32 -4998.32 -4999.32 -5000.32 -5001.32; -4985.82 -4986.82 -4987.82 -4988.82 -4989.82 -4990.82 -4991.82 -4992.82 -4993.82 -4994.82 -4995.82; -4980.32 -4981.32 -4982.32 -4983.32 -4984.32 -4985.32 -4986.32 -4987.32 -4988.32 -4989.32 -4990.32; -4974.82 -4975.82 -4976.82 -4977.82 -4978.82 -4979.82 -4980.82 -4981.82 -4982.82 -4983.82 -4984.82; -4969.32 -4970.32 -4971.32 -4972.32 -4973.32 -4974.32 -4975.32 -4976.32 -4977.32 -4978.32 -4979.32; -4963.82 -4964.82 -4965.82 -4966.82 -4967.82 -4968.82 -4969.82 -4970.82 -4971.82 -4972.82 -4973.82; -4958.32 -4959.32 -4960.32 -4961.32 -4962.32 -4963.32 -4964.32 -4965.32 -4966.32 -4967.32 -4968.32; -4952.82 -4953.82 -4954.82 -4955.82 -4956.82 -4957.82 -4958.82 -4959.82 -4960.82 -4961.82 -4962.82; -4947.32 -4948.32 -4949.32 -4950.32 -4951.32 -4952.32 -4953.32 -4954.32 -4955.32 -4956.32 -4957.32; -4941.82 -4942.82 -4943.82 -4944.82 -4945.82 -4946.82 -4947.82 -4948.82 -4949.82 -4950.82 -4951.82; -4936.32 -4937.32 -4938.32 -4939.32 -4940.32 -4941.32 -4942.32 -4943.32 -4944.32 -4945.32 -4946.32; -4930.82 -4931.82 -4932.82 -4933.82 -4934."
     ]
    },
    {
     "name": "stdout",
     "output_type": "stream",
     "text": [
      "82 -4935.82 -4936.82 -4937.82 -4938.82 -4939.82 -4940.82; -4925.32 -4926.32 -4927.32 -4928.32 -4929.32 -4930.32 -4931.32 -4932.32 -4933.32 -4934.32 -4935.32; -4919.82 -4920.82 -4921.82 -4922.82 -4923.82 -4924.82 -4925.82 -4926.82 -4927.82 -4928.82 -4929.82; -4914.32 -4915.32 -4916.32 -4917.32 -4918.32 -4919.32 -4920.32 -4921.32 -4922.32 -4923.32 -4924.32; -4908.82 -4909.82 -4910.82 -4911.82 -4912.82 -4913.82 -4914.82 -4915.82 -4916.82 -4917.82 -4918.82; -4903.32 -4904.32 -4905.32 -4906.32 -4907.32 -4908.32 -4909.32 -4910.32 -4911.32 -4912.32 -4913.32; -4897.82 -4898.82 -4899.82 -4900.82 -4901.82 -4902.82 -4903.82 -4904.82 -4905.82 -4906.82 -4907.82; -4892.32 -4893.32 -4894.32 -4895.32 -4896.32 -4897.32 -4898.32 -4899.32 -4900.32 -4901.32 -4902.32; -4886.82 -4887.82 -4888.82 -4889.82 -4890.82 -4891.82 -4892.82 -4893.82 -4894.82 -4895.82 -4896.82; -4881.32 -4882.32 -4883.32 -4884.32 -4885.32 -4886.32 -4887.32 -4888.32 -4889.32 -4890.32 -4891.32; -4875.82 -4876.82 -4877.82 -4878.82 -4879.82 -4880.82 -4881.82 -4882.82 -4883.82 -4884.82 -4885.82; -4870.32 -4871.32 -4872.32 -4873.32 -4874.32 -4875.32 -4876.32 -4877.32 -4878.32 -4879.32 -4880.32; -4864.82 -4865.82 -4866.82 -4867.82 -4868.82 -4869.82 -4870.82 -4871.82 -4872.82 -4873.82 -4874.82; -4859.32 -4860.32 -4861.32 -4862.32 -4863.32 -4864.32 -4865.32 -4866.32 -4867.32 -4868.32 -4869.32; -4853.82 -4854.82 -4855.82 -4856.82 -4857.82 -4858.82 -4859.82 -4860.82 -4861.82 -4862.82 -4863.82; -4848.32 -4849.32 -4850.32 -4851.32 -4852.32 -4853.32 -4854.32 -4855.32 -4856.32 -4857.32 -4858.32; -4842.82 -4843.82 -4844.82 -4845.82 -4846.82 -4847.82 -4848.82 -4849.82 -4850.82 -4851.82 -4852.82; -4837.32 -4838.32 -4839.32 -4840.32 -4841.32 -4842.32 -4843.32 -4844.32 -4845.32 -4846.32 -4847.32; -4831.82 -4832.82 -4833.82 -4834.82 -4835.82 -4836.82 -4837.82 -4838.82 -4839.82 -4840.82 -4841.82; -4826.32 -4827.32 -4828.32 -4829.32 -4830.32 -4831.32 -4832.32 -4833.32 -4834.32 -4835.32 -4836.32; -4820.82 -4821.82 -4822.82 -4823.82 -4824.82 -4825.82 -4826.82 -4827.82 -4828.82 -4829.82 -4830.82; -4815.32 -4816.32 -4817.32 -4818.32 -4819.32 -4820.32 -4821.32 -4822.32 -4823.32 -4824.32 -4825.32; -4809.82 -4810.82 -4811.82 -4812.82 -4813.82 -4814.82 -4815.82 -4816.82 -4817.82 -4818.82 -4819.82; -4804.32 -4805.32 -4806.32 -4807.32 -4808.32 -4809.32 -4810.32 -4811.32 -4812.32 -4813.32 -4814.32; -4798.82 -4799.82 -4800.82 -4801.82 -4802.82 -4803.82 -4804.82 -4805.82 -4806.82 -4807.82 -4808.82; -4793.32 -4794.32 -4795.32 -4796.32 -4797.32 -4798.32 -4799.32 -4800.32 -4801.32 -4802.32 -4803.32; -4787.82 -4788.82 -4789.82 -4790.82 -4791.82 -4792.82 -4793.82 -4794.82 -4795.82 -4796.82 -4797.82; -4782.32 -4783.32 -4784.32 -4785.32 -4786.32 -4787.32 -4788.32 -4789.32 -4790.32 -4791.32 -4792.32; -4776.82 -4777.82 -4778.82 -4779.82 -4780.82 -4781.82 -4782.82 -4783.82 -4784.82 -4785.82 -4786.82; -4771.32 -4772.32 -4773.32 -4774.32 -4775.32 -4776.32 -4777.32 -4778.32 -4779.32 -4780.32 -4781.32; -4765.82 -4766.82 -4767.82 -4768.82 -4769.82 -4770.82 -4771.82 -4772.82 -4773.82 -4774.82 -4775.82; -4760.32 -4761.32 -4762.32 -4763.32 -4764.32 -4765.32 -4766.32 -4767.32 -4768.32 -4769.32 -4770.32; -4754.82 -4755.82 -4756.82 -4757.82 -4758.82 -4759.82 -4760.82 -4761.82 -4762.82 -4763.82 -4764.82; -4749.32 -4750.32 -4751.32 -4752.32 -4753.32 -4754.32 -4755.32 -4756.32 -4757.32 -4758.32 -4759.32; -4743.82 -4744.82 -4745.82 -4746.82 -4747.82 -4748.82 -4749.82 -4750.82 -4751.82 -4752.82 -4753.82; -4738.32 -4739.32 -4740.32 -4741.32 -4742.32 -4743.32 -4744.32 -4745.32 -4746.32 -4747.32 -4748.32; -4732.82 -4733.82 -4734.82 -4735.82 -4736.82 -4737.82 -4738.82 -4739.82 -4740.82 -4741.82 -4742.82; -4727.32 -4728.32 -4729.32 -4730.32 -4731.32 -4732.32 -4733.32 -4734.32 -4735.32 -4736.32 -4737.32; -4721.82 -4722.82 -4723.82 -4724.82 -4725.82 -4726.82 -4727.82 -4728.82 -4729.82 -4730.82 -4731.82; -4716.32 -4717.32 -4718.32 -4719.32 -4720.32 -4721.32 -4722.32 -4723.32 -4724.32 -4725.32 -4726.32; -4710.82 -4711.82 -4712.82 -4713.82 -4714.82 -4715.82 -4716.82 -4717.82 -4718.82 -4719.82 -4720.82; -4705.32 -4706.32 -4707.32 -4708.32 -4709.32 -4710.32 -4711.32 -4712.32 -4713.32 -4714.32 -4715.32; -4699.82 -4700.82 -4701.82 -4702.82 -4703.82 -4704.82 -4705.82 -4706.82 -4707.82 -4708.82 -4709.82; -4694.32 -4695.32 -4696.32 -4697.32 -4698.32 -4699.32 -4700.32 -4701.32 -4702.32 -4703.32 -4704.32; -4688.82 -4689.82 -4690.82 -4691.82 -4692.82 -4693.82 -4694.82 -4695.82 -4696.82 -4697.82 -4698.82; -4683.32 -4684.32 -4685.32 -4686.32 -4687.32 -4688.32 -4689.32 -4690.32 -4691.32 -4692.32 -4693.32; -4677.82 -4678.82 -4679.82 -4680.82 -4681.82 -4682.82 -4683.82 -4684.82 -4685.82 -4686.82 -4687.82; -4672.32 -4673.32 -4674.32 -4675.32 -4676.32 -4677.32 -4678.32 -4679.32 -4680.32 -4681.32 -4682.32; -4666.82 -4667.82 -4668.82 -4669.82 -4670.82 -4671.82 -4672.82 -4673.82 -4674.82 -4675.82 -4676.82; -4661.32 -4662.32 -4663.32 -4664.32 -4665.32 -4666.32 -4667.32 -4668.32 -4669.32 -4670.32 -4671.32; -4655.82 -4656.82 -4657.82 -4658.82 -4659.82 -4660.82 -4661.82 -4662.82 -4663.82 -4664.82 -4665.82; -4650.32 -4651.32 -4652.32 -4653.32 -4654.32 -4655.32 -4656.32 -4657.32 -4658.32 -4659.32 -4660.32; -4644.82 -4645.82 -4646.82 -4647.82 -4648.82 -4649.82 -4650.82 -4651.82 -4652.82 -4653.82 -4654.82; -4639.32 -4640.32 -4641.32 -4642.32 -4643.32 -4644.32 -4645.32 -4646.32 -4647.32 -4648.32 -4649.32; -4633.82 -4634.82 -4635.82 -4636.82 -4637.82 -4638.82 -4639.82 -4640.82 -4641.82 -4642.82 -4643.82; -4628.32 -4629.32 -4630.32 -4631.32 -4632.32 -4633.32 -4634.32 -4635.32 -4636.32 -4637.32 -4638.32; -4622.82 -4623.82 -4624.82 -4625.82 -4626.82 -4627.82 -4628.82 -4629.82 -4630.82 -4631.82 -4632.82; -4617.32 -4618.32 -4619.32 -4620.32 -4621.32 -4622.32 -4623.32 -4624.32 -4625.32 -4626.32 -4627.32; -4611.82 -4612.82 -4613.82 -4614.82 -4615.82 -4616.82 -4617.82 -4618.82 -4619.82 -4620.82 -4621.82; -4606.32 -4607.32 -4608.32 -4609.32 -4610.32 -4611.32 -4612.32 -4613.32 -4614.32 -4615.32 -4616.32; -4600.82 -4601.82 -4602.82 -4603.82 -4604.82 -4605.82 -4606.82 -4607.82 -4608.82 -4609.82 -4610.82; -4595.32 -4596.32 -4597.32 -4598.32 -4599.32 -4600.32 -4601.32 -4602.32 -4603.32 -4604.32 -4605.32; -4589.82 -4590.82 -4591.82 -4592.82 -4593.82 -4594.82 -4595.82 -4596.82 -4597.82 -4598.82 -4599.82; -4584.32 -4585.32 -4586.32 -4587.32 -4588.32 -4589.32 -4590.32 -4591.32 -4592.32 -4593.32 -4594.32; -4578.82 -4579.82 -4580.82 -4581.82 -4582.82 -4583.82 -4584.82 -4585.82 -4586.82 -4587.82 -4588.82; -4573.32 -4574.32 -4575.32 -4576.32 -4577.32 -4578.32 -4579.32 -4580.32 -4581.32 -4582.32 -4583.32; -4567.82 -4568.82 -4569.82 -4570.82 -4571.82 -4572.82 -4573.82 -4574.82 -4575.82 -4576.82 -4577.82; -4562.32 -4563.32 -4564.32 -4565.32 -4566.32 -4567.32 -4568.32 -4569.32 -4570.32 -4571.32 -4572.32; -4556.82 -4557.82 -4558.82 -4559.82 -4560.82 -4561.82 -4562.82 -4563.82 -4564.82 -4565.82 -4566.82; -4551.32 -4552.32 -4553.32 -4554.32 -4555.32 -4556.32 -4557.32 -4558.32 -4559.32 -4560.32 -4561.32; -4545.82 -4546.82 -4547.82 -4548.82 -4549.82 -4550.82 -4551.82 -4552.82 -4553.82 -4554.82 -4555.82; -4540.32 -4541.32 -4542.32 -4543.32 -4544.32 -4545.32 -4546.32 -4547.32 -4548.32 -4549.32 -4550.32; -4534.82 -4535.82 -4536.82 -4537.82 -4538.82 -4539.82 -4540.82 -4541.82 -4542.82 -4543.82 -4544.82; -4529.32 -4530.32 -4531.32 -4532.32 -4533.32 -4534.32 -4535.32 -4536.32 -4537.32 -4538.32 -4539.32; -4523.82 -4524.82 -4525.82 -4526.82 -4527.82 -4528.82 -4529.82 -4530.82 -4531.82 -4532.82 -4533.82; -4518.32 -4519.32 -4520.32 -4521.32 -4522.32 -4523.32 -4524.32 -4525.32 -4526.32 -4527.32 -4528.32; -4512.82 -4513.82 -4514.82 -4515.82 -4516.82 -4517.82 -4518.82 -4519.82 -4520.82 -4521.82 -4522.82; -4507.32 -4508.32 -4509.32 -4510.32 -4511.32 -4512.32 -4513.32 -4514.32 -4515.32 -4516.32 -4517.32; -4501.82 -4502.82 -4503.82 -4504.82 -4505.82 -4506.82 -4507.82 -4508.82 -4509.82 -4510.82 -4511.82; -4496.32 -4497.32 -4498.32 -4499.32 -4500.32 -4501.32 -4502.32 -4503.32 -4504.32 -4505.32 -4506.32; -4490.82 -4491.82 -4492.82 -4493.82 -4494.82 -4495.82 -4496.82 -4497.82 -4498.82 -4499.82 -4500.82; -4485.32 -4486.32 -4487.32 -4488.32 -4489.32 -4490.32 -4491.32 -4492.32 -4493.32 -4494.32 -4495.32; -4479.82 -4480.82 -4481.82 -4482.82 -4483.82 -4484.82 -4485.82 -4486.82 -4487.82 -4488.82 -4489.82; -4474.32 -4475.32 -4476.32 -4477.32 -4478.32 -4479.32 -4480.32 -4481.32 -4482.32 -4483.32 -4484.32; -4468.82 -4469.82 -4470.82 -4471.82 -4472.82 -4473.82 -4474.82 -4475.82 -4476.82 -4477.82 -4478.82; -4463.32 -4464.32 -4465.32 -4466.32 -4467.32 -4468.32 -4469.32 -4470.32 -4471.32 -4472.32 -4473.32; -4457.82 -4458.82 -4459.82 -4460.82 -4461.82 -4462.82 -4463.82 -4464.82 -4465.82 -4466.82 -4467.82; -4452.32 -4453.32 -4454.32 -4455.32 -4456.32 -4457.32 -4458.32 -4459.32 -4460.32 -4461.32 -4462.32; -4446.82 -4447.82 -4448.82 -4449.82 -4450.82 -4451.82 -4452.82 -4453.82 -4454.82 -4455.82 -4456.82; -4441.32 -4442.32 -4443.32 -4444.32 -4445.32 -4446.32 -4447.32 -4448.32 -4449.32 -4450.32 -4451.32; -4435.82 -4436.82 -4437.82 -4438.82 -4439.82 -4440.82 -4441.82 -4442.82 -4443.82 -4444.82 -4445.82; -4430.32 -4431.32 -4432.32 -4433.32 -4434.32 -4435.32 -4436.32 -4437.32 -4438.32 -4439.32 -4440.32; -4424.82 -4425.82 -4426.82 -4427.82 -4428.82 -4429.82 -4430.82 -4431.82 -4432.82 -4433.82 -4434.82; -4419.32 -4420.32 -4421.32 -4422.32 -4423.32 -4424.32 -4425.32 -4426.32 -4427.32 -4428.32 -4429.32; -4413.82 -4414.82 -4415.82 -4416.82 -4417.82 -4418.82 -4419.82 -4420.82 -4421.82 -4422.82 -4423.82; -4408.32 -4409.32 -4410.32 -4411.32 -4412.32 -4413.32 -4414.32 -4415.32 -4416.32 -4417.32 -4418.32; -4402.82 -4403.82 -4404.82 -4405.82 -4406.82 -4407.82 -4408.82 -4409.82 -4410.82 -4411.82 -4412.82; -4397.32 -4398.32 -4399.32 -4400.32 -4401.32 -4402.32 -4403.32 -4404.32 -4405.32 -4406.32 -4407.32; -4391.82 -4392.82 -4393.82 -4394.82 -4395.82 -4396.82 -4397.82 -4398.82 -4399.82 -4400.82 -4401.82; -4386.32 -4387.32 -4388.32 -4389.32 -4390.32 -4391.32 -4392.32 -4393.32 -4394.32 -4395.32 -4396.32; -4380.82 -4381.82 -4382.82 -4383.82 -4384.82 -4385.82 -4386.82 -4387.82 -4388.82 -4389.82 -4390.82; -4375.32 -4376.32 -4377.32 -4378.32 -4379.32 -4380.32 -4381.32 -4382.32 -4383.32 -4384.32 -4385.32; -4369.82 -4370.82 -4371.82 -4372.82 -4373.82 -4374.82 -4375.82 -4376.82 -4377.82 -4378.82 -4379.82; -4364.32 -4365.32 -4366.32 -4367.32 -4368.32 -4369.32 -4370.32 -4371.32 -4372.32 -4373.32 -4374.32; -4358.82 -4359.82 -4360.82 -4361.82 -4362.82 -4363.82 -4364.82 -4365.82 -4366.82 -4367.82 -4368.82; -4353.32 -4354.32 -4355.32 -4356.32 -4357.32 -4358.32 -4359.32 -4360.32 -4361.32 -4362.32 -4363.32; -4347.82 -4348.82 -4349.82 -4350.82 -4351.82 -4352.82 -4353.82 -4354.82 -4355.82 -4356.82 -4357.82; -4342.32 -4343.32 -4344.32 -4345.32 -4346.32 -4347.32 -4348.32 -4349.32 -4350.32 -4351.32 -4352.32; -4336.82 -4337.82 -4338.82 -4339.82 -4340.82 -4341.82 -4342.82 -4343.82 -4344.82 -4345.82 -4346.82; -4331.32 -4332.32 -4333.32 -4334.32 -4335.32 -4336.32 -4337.32 -4338.32 -4339.32 -4340.32 -4341.32; -4325.82 -4326.82 -4327.82 -4328.82 -4329.82 -4330.82 -4331.82 -4332.82 -4333.82 -4334.82 -4335.82; -4320.32 -4321.32 -4322.32 -4323.32 -4324.32 -4325.32 -4326.32 -4327.32 -4328.32 -4329.32 -4330.32; -4314.82 -4315.82 -4316.82 -4317.82 -4318.82 -4319.82 -4320.82 -4321.82 -4322.82 -4323.82 -4324.82; -4309.32 -4310.32 -4311.32 -4312.32 -4313.32 -4314.32 -4315.32 -4316.32 -4317.32 -4318.32 -4319.32; -4303.82 -4304.82 -4305.82 -4306.82 -4307.82 -4308.82 -4309.82 -4310.82 -4311.82 -4312.82 -4313.82; -4298.32 -4299.32 -4300.32 -4301.32 -4302.32 -4303.32 -4304.32 -4305.32 -4306.32 -4307.32 -4308.32; -4292.82 -4293.82 -4294.82 -4295.82 -4296.82 -4297.82 -4298.82 -4299.82 -4300.82 -4301.82 -4302.82; -4287.32 -4288.32 -4289.32 -4290.32 -4291.32 -4292.32 -4293.32 -4294.32 -4295.32 -4296.32 -4297.32; -4281.82 -4282.82 -4283.82 -4284.82 -4285.82 -4286.82 -4287.82 -4288.82 -4289.82 -4290.82 -4291.82; -4276.32 -4277.32 -4278.32 -4279.32 -4280.32 -4281.32 -4282.32 -4283.32 -4284.32 -4285.32 -4286.32; -4270.82 -4271.82 -4272.82 -4273.82 -4274.82 -4275.82 -4276.82 -4277.82 -4278.82 -4279.82 -4280.82; -4265.32 -4266.32 -4267.32 -4268.32 -4269.32 -4270.32 -4271.32 -4272.32 -4273.32 -4274.32 -4275.32; -4259.82 -4260.82 -4261.82 -4262.82 -4263.82 -4264.82 -4265.82 -4266.82 -4267.82 -4268.82 -4269.82; -4254.32 -4255.32 -4256.32 -4257.32 -4258.32 -4259.32 -4260.32 -4261.32 -4262.32 -4263.32 -4264.32; -4248.82 -4249.82 -4250.82 -4251.82 -4252.82 -4253.82 -4254.82 -4255.82 -4256.82 -4257.82 -4258.82; -4243.32 -4244.32 -4245.32 -4246.32 -4247.32 -4248.32 -4249.32 -4250.32 -4251.32 -4252.32 -4253.32; -4237.82 -4238.82 -4239.82 -4240.82 -4241.82 -4242.82 -4243.82 -4244.82 -4245.82 -4246.82 -4247.82; -4232.32 -4233.32 -4234.32 -4235.32 -4236.32 -4237.32 -4238.32 -4239.32 -4240.32 -4241.32 -4242.32; -4226.82 -4227.82 -4228.82 -4229.82 -4230.82 -4231.82 -4232.82 -4233.82 -4234.82 -4235.82 -4236.82; -4221.32 -4222."
     ]
    },
    {
     "name": "stdout",
     "output_type": "stream",
     "text": [
      "32 -4223.32 -4224.32 -4225.32 -4226.32 -4227.32 -4228.32 -4229.32 -4230.32 -4231.32; -4215.82 -4216.82 -4217.82 -4218.82 -4219.82 -4220.82 -4221.82 -4222.82 -4223.82 -4224.82 -4225.82; -4210.32 -4211.32 -4212.32 -4213.32 -4214.32 -4215.32 -4216.32 -4217.32 -4218.32 -4219.32 -4220.32; -4204.82 -4205.82 -4206.82 -4207.82 -4208.82 -4209.82 -4210.82 -4211.82 -4212.82 -4213.82 -4214.82; -4199.32 -4200.32 -4201.32 -4202.32 -4203.32 -4204.32 -4205.32 -4206.32 -4207.32 -4208.32 -4209.32; -4193.82 -4194.82 -4195.82 -4196.82 -4197.82 -4198.82 -4199.82 -4200.82 -4201.82 -4202.82 -4203.82; -4188.32 -4189.32 -4190.32 -4191.32 -4192.32 -4193.32 -4194.32 -4195.32 -4196.32 -4197.32 -4198.32; -4182.82 -4183.82 -4184.82 -4185.82 -4186.82 -4187.82 -4188.82 -4189.82 -4190.82 -4191.82 -4192.82; -4177.32 -4178.32 -4179.32 -4180.32 -4181.32 -4182.32 -4183.32 -4184.32 -4185.32 -4186.32 -4187.32; -4171.82 -4172.82 -4173.82 -4174.82 -4175.82 -4176.82 -4177.82 -4178.82 -4179.82 -4180.82 -4181.82; -4166.32 -4167.32 -4168.32 -4169.32 -4170.32 -4171.32 -4172.32 -4173.32 -4174.32 -4175.32 -4176.32; -4160.82 -4161.82 -4162.82 -4163.82 -4164.82 -4165.82 -4166.82 -4167.82 -4168.82 -4169.82 -4170.82; -4155.32 -4156.32 -4157.32 -4158.32 -4159.32 -4160.32 -4161.32 -4162.32 -4163.32 -4164.32 -4165.32; -4149.82 -4150.82 -4151.82 -4152.82 -4153.82 -4154.82 -4155.82 -4156.82 -4157.82 -4158.82 -4159.82; -4144.32 -4145.32 -4146.32 -4147.32 -4148.32 -4149.32 -4150.32 -4151.32 -4152.32 -4153.32 -4154.32; -4138.82 -4139.82 -4140.82 -4141.82 -4142.82 -4143.82 -4144.82 -4145.82 -4146.82 -4147.82 -4148.82; -4133.32 -4134.32 -4135.32 -4136.32 -4137.32 -4138.32 -4139.32 -4140.32 -4141.32 -4142.32 -4143.32; -4127.82 -4128.82 -4129.82 -4130.82 -4131.82 -4132.82 -4133.82 -4134.82 -4135.82 -4136.82 -4137.82; -4122.32 -4123.32 -4124.32 -4125.32 -4126.32 -4127.32 -4128.32 -4129.32 -4130.32 -4131.32 -4132.32; -4116.82 -4117.82 -4118.82 -4119.82 -4120.82 -4121.82 -4122.82 -4123.82 -4124.82 -4125.82 -4126.82; -4111.32 -4112.32 -4113.32 -4114.32 -4115.32 -4116.32 -4117.32 -4118.32 -4119.32 -4120.32 -4121.32; -4105.82 -4106.82 -4107.82 -4108.82 -4109.82 -4110.82 -4111.82 -4112.82 -4113.82 -4114.82 -4115.82; -4100.32 -4101.32 -4102.32 -4103.32 -4104.32 -4105.32 -4106.32 -4107.32 -4108.32 -4109.32 -4110.32; -4094.82 -4095.82 -4096.82 -4097.82 -4098.82 -4099.82 -4100.82 -4101.82 -4102.82 -4103.82 -4104.82; -4089.32 -4090.32 -4091.32 -4092.32 -4093.32 -4094.32 -4095.32 -4096.32 -4097.32 -4098.32 -4099.32; -4083.82 -4084.82 -4085.82 -4086.82 -4087.82 -4088.82 -4089.82 -4090.82 -4091.82 -4092.82 -4093.82; -4078.32 -4079.32 -4080.32 -4081.32 -4082.32 -4083.32 -4084.32 -4085.32 -4086.32 -4087.32 -4088.32; -4072.82 -4073.82 -4074.82 -4075.82 -4076.82 -4077.82 -4078.82 -4079.82 -4080.82 -4081.82 -4082.82; -4067.32 -4068.32 -4069.32 -4070.32 -4071.32 -4072.32 -4073.32 -4074.32 -4075.32 -4076.32 -4077.32; -4061.82 -4062.82 -4063.82 -4064.82 -4065.82 -4066.82 -4067.82 -4068.82 -4069.82 -4070.82 -4071.82; -4056.32 -4057.32 -4058.32 -4059.32 -4060.32 -4061.32 -4062.32 -4063.32 -4064.32 -4065.32 -4066.32; -4050.82 -4051.82 -4052.82 -4053.82 -4054.82 -4055.82 -4056.82 -4057.82 -4058.82 -4059.82 -4060.82; -4045.32 -4046.32 -4047.32 -4048.32 -4049.32 -4050.32 -4051.32 -4052.32 -4053.32 -4054.32 -4055.32; -4039.82 -4040.82 -4041.82 -4042.82 -4043.82 -4044.82 -4045.82 -4046.82 -4047.82 -4048.82 -4049.82; -4034.32 -4035.32 -4036.32 -4037.32 -4038.32 -4039.32 -4040.32 -4041.32 -4042.32 -4043.32 -4044.32; -4028.82 -4029.82 -4030.82 -4031.82 -4032.82 -4033.82 -4034.82 -4035.82 -4036.82 -4037.82 -4038.82; -4023.32 -4024.32 -4025.32 -4026.32 -4027.32 -4028.32 -4029.32 -4030.32 -4031.32 -4032.32 -4033.32; -4017.82 -4018.82 -4019.82 -4020.82 -4021.82 -4022.82 -4023.82 -4024.82 -4025.82 -4026.82 -4027.82; -4012.32 -4013.32 -4014.32 -4015.32 -4016.32 -4017.32 -4018.32 -4019.32 -4020.32 -4021.32 -4022.32; -4006.82 -4007.82 -4008.82 -4009.82 -4010.82 -4011.82 -4012.82 -4013.82 -4014.82 -4015.82 -4016.82; -4001.32 -4002.32 -4003.32 -4004.32 -4005.32 -4006.32 -4007.32 -4008.32 -4009.32 -4010.32 -4011.32; -3995.82 -3996.82 -3997.82 -3998.82 -3999.82 -4000.82 -4001.82 -4002.82 -4003.82 -4004.82 -4005.82; -3990.32 -3991.32 -3992.32 -3993.32 -3994.32 -3995.32 -3996.32 -3997.32 -3998.32 -3999.32 -4000.32; -3984.82 -3985.82 -3986.82 -3987.82 -3988.82 -3989.82 -3990.82 -3991.82 -3992.82 -3993.82 -3994.82; -3979.32 -3980.32 -3981.32 -3982.32 -3983.32 -3984.32 -3985.32 -3986.32 -3987.32 -3988.32 -3989.32; -3973.82 -3974.82 -3975.82 -3976.82 -3977.82 -3978.82 -3979.82 -3980.82 -3981.82 -3982.82 -3983.82; -3968.32 -3969.32 -3970.32 -3971.32 -3972.32 -3973.32 -3974.32 -3975.32 -3976.32 -3977.32 -3978.32; -3962.82 -3963.82 -3964.82 -3965.82 -3966.82 -3967.82 -3968.82 -3969.82 -3970.82 -3971.82 -3972.82; -3957.32 -3958.32 -3959.32 -3960.32 -3961.32 -3962.32 -3963.32 -3964.32 -3965.32 -3966.32 -3967.32; -3951.82 -3952.82 -3953.82 -3954.82 -3955.82 -3956.82 -3957.82 -3958.82 -3959.82 -3960.82 -3961.82; -3946.32 -3947.32 -3948.32 -3949.32 -3950.32 -3951.32 -3952.32 -3953.32 -3954.32 -3955.32 -3956.32; -3940.82 -3941.82 -3942.82 -3943.82 -3944.82 -3945.82 -3946.82 -3947.82 -3948.82 -3949.82 -3950.82; -3935.32 -3936.32 -3937.32 -3938.32 -3939.32 -3940.32 -3941.32 -3942.32 -3943.32 -3944.32 -3945.32; -3929.82 -3930.82 -3931.82 -3932.82 -3933.82 -3934.82 -3935.82 -3936.82 -3937.82 -3938.82 -3939.82; -3924.32 -3925.32 -3926.32 -3927.32 -3928.32 -3929.32 -3930.32 -3931.32 -3932.32 -3933.32 -3934.32; -3918.82 -3919.82 -3920.82 -3921.82 -3922.82 -3923.82 -3924.82 -3925.82 -3926.82 -3927.82 -3928.82; -3913.32 -3914.32 -3915.32 -3916.32 -3917.32 -3918.32 -3919.32 -3920.32 -3921.32 -3922.32 -3923.32; -3907.82 -3908.82 -3909.82 -3910.82 -3911.82 -3912.82 -3913.82 -3914.82 -3915.82 -3916.82 -3917.82; -3902.32 -3903.32 -3904.32 -3905.32 -3906.32 -3907.32 -3908.32 -3909.32 -3910.32 -3911.32 -3912.32; -3896.82 -3897.82 -3898.82 -3899.82 -3900.82 -3901.82 -3902.82 -3903.82 -3904.82 -3905.82 -3906.82; -3891.32 -3892.32 -3893.32 -3894.32 -3895.32 -3896.32 -3897.32 -3898.32 -3899.32 -3900.32 -3901.32; -3885.82 -3886.82 -3887.82 -3888.82 -3889.82 -3890.82 -3891.82 -3892.82 -3893.82 -3894.82 -3895.82; -3880.32 -3881.32 -3882.32 -3883.32 -3884.32 -3885.32 -3886.32 -3887.32 -3888.32 -3889.32 -3890.32; -3874.82 -3875.82 -3876.82 -3877.82 -3878.82 -3879.82 -3880.82 -3881.82 -3882.82 -3883.82 -3884.82; -3869.32 -3870.32 -3871.32 -3872.32 -3873.32 -3874.32 -3875.32 -3876.32 -3877.32 -3878.32 -3879.32; -3863.82 -3864.82 -3865.82 -3866.82 -3867.82 -3868.82 -3869.82 -3870.82 -3871.82 -3872.82 -3873.82; -3858.32 -3859.32 -3860.32 -3861.32 -3862.32 -3863.32 -3864.32 -3865.32 -3866.32 -3867.32 -3868.32; -3852.82 -3853.82 -3854.82 -3855.82 -3856.82 -3857.82 -3858.82 -3859.82 -3860.82 -3861.82 -3862.82; -3847.32 -3848.32 -3849.32 -3850.32 -3851.32 -3852.32 -3853.32 -3854.32 -3855.32 -3856.32 -3857.32; -3841.82 -3842.82 -3843.82 -3844.82 -3845.82 -3846.82 -3847.82 -3848.82 -3849.82 -3850.82 -3851.82; -3836.32 -3837.32 -3838.32 -3839.32 -3840.32 -3841.32 -3842.32 -3843.32 -3844.32 -3845.32 -3846.32; -3830.82 -3831.82 -3832.82 -3833.82 -3834.82 -3835.82 -3836.82 -3837.82 -3838.82 -3839.82 -3840.82; -3825.32 -3826.32 -3827.32 -3828.32 -3829.32 -3830.32 -3831.32 -3832.32 -3833.32 -3834.32 -3835.32; -3819.82 -3820.82 -3821.82 -3822.82 -3823.82 -3824.82 -3825.82 -3826.82 -3827.82 -3828.82 -3829.82; -3814.32 -3815.32 -3816.32 -3817.32 -3818.32 -3819.32 -3820.32 -3821.32 -3822.32 -3823.32 -3824.32; -3808.82 -3809.82 -3810.82 -3811.82 -3812.82 -3813.82 -3814.82 -3815.82 -3816.82 -3817.82 -3818.82; -3803.32 -3804.32 -3805.32 -3806.32 -3807.32 -3808.32 -3809.32 -3810.32 -3811.32 -3812.32 -3813.32; -3797.82 -3798.82 -3799.82 -3800.82 -3801.82 -3802.82 -3803.82 -3804.82 -3805.82 -3806.82 -3807.82; -3792.32 -3793.32 -3794.32 -3795.32 -3796.32 -3797.32 -3798.32 -3799.32 -3800.32 -3801.32 -3802.32; -3786.82 -3787.82 -3788.82 -3789.82 -3790.82 -3791.82 -3792.82 -3793.82 -3794.82 -3795.82 -3796.82; -3781.32 -3782.32 -3783.32 -3784.32 -3785.32 -3786.32 -3787.32 -3788.32 -3789.32 -3790.32 -3791.32; -3775.82 -3776.82 -3777.82 -3778.82 -3779.82 -3780.82 -3781.82 -3782.82 -3783.82 -3784.82 -3785.82; -3770.32 -3771.32 -3772.32 -3773.32 -3774.32 -3775.32 -3776.32 -3777.32 -3778.32 -3779.32 -3780.32; -3764.82 -3765.82 -3766.82 -3767.82 -3768.82 -3769.82 -3770.82 -3771.82 -3772.82 -3773.82 -3774.82; -3759.32 -3760.32 -3761.32 -3762.32 -3763.32 -3764.32 -3765.32 -3766.32 -3767.32 -3768.32 -3769.32; -3753.82 -3754.82 -3755.82 -3756.82 -3757.82 -3758.82 -3759.82 -3760.82 -3761.82 -3762.82 -3763.82; -3748.32 -3749.32 -3750.32 -3751.32 -3752.32 -3753.32 -3754.32 -3755.32 -3756.32 -3757.32 -3758.32; -3742.82 -3743.82 -3744.82 -3745.82 -3746.82 -3747.82 -3748.82 -3749.82 -3750.82 -3751.82 -3752.82; -3737.32 -3738.32 -3739.32 -3740.32 -3741.32 -3742.32 -3743.32 -3744.32 -3745.32 -3746.32 -3747.32; -3731.82 -3732.82 -3733.82 -3734.82 -3735.82 -3736.82 -3737.82 -3738.82 -3739.82 -3740.82 -3741.82; -3726.32 -3727.32 -3728.32 -3729.32 -3730.32 -3731.32 -3732.32 -3733.32 -3734.32 -3735.32 -3736.32; -3720.82 -3721.82 -3722.82 -3723.82 -3724.82 -3725.82 -3726.82 -3727.82 -3728.82 -3729.82 -3730.82; -3715.32 -3716.32 -3717.32 -3718.32 -3719.32 -3720.32 -3721.32 -3722.32 -3723.32 -3724.32 -3725.32; -3709.82 -3710.82 -3711.82 -3712.82 -3713.82 -3714.82 -3715.82 -3716.82 -3717.82 -3718.82 -3719.82; -3704.32 -3705.32 -3706.32 -3707.32 -3708.32 -3709.32 -3710.32 -3711.32 -3712.32 -3713.32 -3714.32; -3698.82 -3699.82 -3700.82 -3701.82 -3702.82 -3703.82 -3704.82 -3705.82 -3706.82 -3707.82 -3708.82; -3693.32 -3694.32 -3695.32 -3696.32 -3697.32 -3698.32 -3699.32 -3700.32 -3701.32 -3702.32 -3703.32; -3687.82 -3688.82 -3689.82 -3690.82 -3691.82 -3692.82 -3693.82 -3694.82 -3695.82 -3696.82 -3697.82; -3682.32 -3683.32 -3684.32 -3685.32 -3686.32 -3687.32 -3688.32 -3689.32 -3690.32 -3691.32 -3692.32; -3676.82 -3677.82 -3678.82 -3679.82 -3680.82 -3681.82 -3682.82 -3683.82 -3684.82 -3685.82 -3686.82; -3671.32 -3672.32 -3673.32 -3674.32 -3675.32 -3676.32 -3677.32 -3678.32 -3679.32 -3680.32 -3681.32; -3665.82 -3666.82 -3667.82 -3668.82 -3669.82 -3670.82 -3671.82 -3672.82 -3673.82 -3674.82 -3675.82; -3660.32 -3661.32 -3662.32 -3663.32 -3664.32 -3665.32 -3666"
     ]
    },
    {
     "name": "stdout",
     "output_type": "stream",
     "text": [
      ".32 -3667.32 -3668.32 -3669.32 -3670.32; -3654.82 -3655.82 -3656.82 -3657.82 -3658.82 -3659.82 -3660.82 -3661.82 -3662.82 -3663.82 -3664.82; -3649.32 -3650.32 -3651.32 -3652.32 -3653.32 -3654.32 -3655.32 -3656.32 -3657.32 -3658.32 -3659.32; -3643.82 -3644.82 -3645.82 -3646.82 -3647.82 -3648.82 -3649.82 -3650.82 -3651.82 -3652.82 -3653.82; -3638.32 -3639.32 -3640.32 -3641.32 -3642.32 -3643.32 -3644.32 -3645.32 -3646.32 -3647.32 -3648.32; -3632.82 -3633.82 -3634.82 -3635.82 -3636.82 -3637.82 -3638.82 -3639.82 -3640.82 -3641.82 -3642.82; -3627.32 -3628.32 -3629.32 -3630.32 -3631.32 -3632.32 -3633.32 -3634.32 -3635.32 -3636.32 -3637.32; -3621.82 -3622.82 -3623.82 -3624.82 -3625.82 -3626.82 -3627.82 -3628.82 -3629.82 -3630.82 -3631.82; -3616.32 -3617.32 -3618.32 -3619.32 -3620.32 -3621.32 -3622.32 -3623.32 -3624.32 -3625.32 -3626.32; -3610.82 -3611.82 -3612.82 -3613.82 -3614.82 -3615.82 -3616.82 -3617.82 -3618.82 -3619.82 -3620.82; -3605.32 -3606.32 -3607.32 -3608.32 -3609.32 -3610.32 -3611.32 -3612.32 -3613.32 -3614.32 -3615.32; -3599.82 -3600.82 -3601.82 -3602.82 -3603.82 -3604.82 -3605.82 -3606.82 -3607.82 -3608.82 -3609.82; -3594.32 -3595.32 -3596.32 -3597.32 -3598.32 -3599.32 -3600.32 -3601.32 -3602.32 -3603.32 -3604.32; -3588.82 -3589.82 -3590.82 -3591.82 -3592.82 -3593.82 -3594.82 -3595.82 -3596.82 -3597.82 -3598.82; -3583.32 -3584.32 -3585.32 -3586.32 -3587.32 -3588.32 -3589.32 -3590.32 -3591.32 -3592.32 -3593.32; -3577.82 -3578.82 -3579.82 -3580.82 -3581.82 -3582.82 -3583.82 -3584.82 -3585.82 -3586.82 -3587.82; -3572.32 -3573.32 -3574.32 -3575.32 -3576.32 -3577.32 -3578.32 -3579.32 -3580.32 -3581.32 -3582.32; -3566.82 -3567.82 -3568.82 -3569.82 -3570.82 -3571.82 -3572.82 -3573.82 -3574.82 -3575.82 -3576.82; -3561.32 -3562.32 -3563.32 -3564.32 -3565.32 -3566.32 -3567.32 -3568.32 -3569.32 -3570.32 -3571.32; -3555.82 -3556.82 -3557.82 -3558.82 -3559.82 -3560.82 -3561.82 -3562.82 -3563.82 -3564.82 -3565.82; -3550.32 -3551.32 -3552.32 -3553.32 -3554.32 -3555.32 -3556.32 -3557.32 -3558.32 -3559.32 -3560.32; -3544.82 -3545.82 -3546.82 -3547.82 -3548.82 -3549.82 -3550.82 -3551.82 -3552.82 -3553.82 -3554.82; -3539.32 -3540.32 -3541.32 -3542.32 -3543.32 -3544.32 -3545.32 -3546.32 -3547.32 -3548.32 -3549.32; -3533.82 -3534.82 -3535.82 -3536.82 -3537.82 -3538.82 -3539.82 -3540.82 -3541.82 -3542.82 -3543.82; -3528.32 -3529.32 -3530.32 -3531.32 -3532.32 -3533.32 -3534.32 -3535.32 -3536.32 -3537.32 -3538.32; -3522.82 -3523.82 -3524.82 -3525.82 -3526.82 -3527.82 -3528.82 -3529.82 -3530.82 -3531.82 -3532.82; -3517.32 -3518.32 -3519.32 -3520.32 -3521.32 -3522.32 -3523.32 -3524.32 -3525.32 -3526.32 -3527.32; -3511.82 -3512.82 -3513.82 -3514.82 -3515.82 -3516.82 -3517.82 -3518.82 -3519.82 -3520.82 -3521.82; -3506.32 -3507.32 -3508.32 -3509.32 -3510.32 -3511.32 -3512.32 -3513.32 -3514.32 -3515.32 -3516.32; -3500.82 -3501.82 -3502.82 -3503.82 -3504.82 -3505.82 -3506.82 -3507.82 -3508.82 -3509.82 -3510.82; -3495.32 -3496.32 -3497.32 -3498.32 -3499.32 -3500.32 -3501.32 -3502.32 -3503.32 -3504.32 -3505.32; -3489.82 -3490.82 -3491.82 -3492.82 -3493.82 -3494.82 -3495.82 -3496.82 -3497.82 -3498.82 -3499.82; -3484.32 -3485.32 -3486.32 -3487.32 -3488.32 -3489.32 -3490.32 -3491.32 -3492.32 -3493.32 -3494.32; -3478.82 -3479.82 -3480.82 -3481.82 -3482.82 -3483.82 -3484.82 -3485.82 -3486.82 -3487.82 -3488.82; -3473.32 -3474.32 -3475.32 -3476.32 -3477.32 -3478.32 -3479.32 -3480.32 -3481.32 -3482.32 -3483.32; -3467.82 -3468.82 -3469.82 -3470.82 -3471.82 -3472.82 -3473.82 -3474.82 -3475.82 -3476.82 -3477.82; -3462.32 -3463.32 -3464.32 -3465.32 -3466.32 -3467.32 -3468.32 -3469.32 -3470.32 -3471.32 -3472.32; -3456.82 -3457.82 -3458.82 -3459.82 -3460.82 -3461.82 -3462.82 -3463.82 -3464.82 -3465.82 -3466.82; -3451.32 -3452.32 -3453.32 -3454.32 -3455.32 -3456.32 -3457.32 -3458.32 -3459.32 -3460.32 -3461.32; -3445.82 -3446.82 -3447.82 -3448.82 -3449.82 -3450.82 -3451.82 -3452.82 -3453.82 -3454.82 -3455.82; -3440.32 -3441.32 -3442.32 -3443.32 -3444.32 -3445.32 -3446.32 -3447.32 -3448.32 -3449.32 -3450.32; -3434.82 -3435.82 -3436.82 -3437.82 -3438.82 -3439.82 -3440.82 -3441.82 -3442.82 -3443.82 -3444.82; -3429.32 -3430.32 -3431.32 -3432.32 -3433.32 -3434.32 -3435.32 -3436.32 -3437.32 -3438.32 -3439.32; -3423.82 -3424.82 -3425.82 -3426.82 -3427.82 -3428.82 -3429.82 -3430.82 -3431.82 -3432.82 -3433.82; -3418.32 -3419.32 -3420.32 -3421.32 -3422.32 -3423.32 -3424.32 -3425.32 -3426.32 -3427.32 -3428.32; -3412.82 -3413.82 -3414.82 -3415.82 -3416.82 -3417.82 -3418.82 -3419.82 -3420.82 -3421.82 -3422.82; -3407.32 -3408.32 -3409.32 -3410.32 -3411.32 -3412.32 -3413.32 -3414.32 -3415.32 -3416.32 -3417.32; -3401.82 -3402.82 -3403.82 -3404.82 -3405.82 -3406.82 -3407.82 -3408.82 -3409.82 -3410.82 -3411.82; -3396.32 -3397.32 -3398.32 -3399.32 -3400.32 -3401.32 -3402.32 -3403.32 -3404.32 -3405.32 -3406.32; -3390.82 -3391.82 -3392.82 -3393.82 -3394.82 -3395.82 -3396.82 -3397.82 -3398.82 -3399.82 -3400.82; -3385.32 -3386.32 -3387.32 -3388.32 -3389.32 -3390.32 -3391.32 -3392.32 -3393.32 -3394.32 -3395.32; -3379.82 -3380.82 -3381.82 -3382.82 -3383.82 -3384.82 -3385.82 -3386.82 -3387.82 -3388.82 -3389.82; -3374.32 -3375.32 -3376.32 -3377.32 -3378.32 -3379.32 -3380.32 -3381.32 -3382.32 -3383.32 -3384.32; -3368.82 -3369.82 -3370.82 -3371.82 -3372.82 -3373.82 -3374.82 -3375.82 -3376.82 -3377.82 -3378.82; -3363.32 -3364.32 -3365.32 -3366.32 -3367.32 -3368.32 -3369.32 -3370.32 -3371.32 -3372.32 -3373.32; -3357.82 -3358.82 -3359.82 -3360.82 -3361.82 -3362.82 -3363.82 -3364.82 -3365.82 -3366.82 -3367.82; -3352.32 -3353.32 -3354.32 -3355.32 -3356.32 -3357.32 -3358.32 -3359.32 -3360.32 -3361.32 -3362.32; -3346.82 -3347.82 -3348.82 -3349.82 -3350.82 -3351.82 -3352.82 -3353.82 -3354.82 -3355.82 -3356.82; -3341.32 -3342.32 -3343.32 -3344.32 -3345.32 -3346.32 -3347.32 -3348.32 -3349.32 -3350.32 -3351.32; -3335.82 -3336.82 -3337.82 -3338.82 -3339.82 -3340.82 -3341.82 -3342.82 -3343.82 -3344.82 -3345.82; -3330.32 -3331.32 -3332.32 -3333.32 -3334.32 -3335.32 -3336.32 -3337.32 -3338.32 -3339.32 -3340.32; -3324.82 -3325.82 -3326.82 -3327.82 -3328.82 -3329.82 -3330.82 -3331.82 -3332.82 -3333.82 -3334.82; -3319.32 -3320.32 -3321.32 -3322.32 -3323.32 -3324.32 -3325.32 -3326.32 -3327.32 -3328.32 -3329.32; -3313.82 -3314.82 -3315.82 -3316.82 -3317.82 -3318.82 -3319.82 -3320.82 -3321.82 -3322.82 -3323.82; -3308.32 -3309.32 -3310.32 -3311.32 -3312.32 -3313.32 -3314.32 -3315.32 -3316.32 -3317.32 -3318.32; -3302.82 -3303.82 -3304.82 -3305.82 -3306.82 -3307.82 -3308.82 -3309.82 -3310.82 -3311.82 -3312.82; -3297.32 -3298.32 -3299.32 -3300.32 -3301.32 -3302.32 -3303.32 -3304.32 -3305.32 -3306.32 -3307.32; -3291.82 -3292.82 -3293.82 -3294.82 -3295.82 -3296.82 -3297.82 -3298.82 -3299.82 -3300.82 -3301.82; -3286.32 -3287.32 -3288.32 -3289.32 -3290.32 -3291.32 -3292.32 -3293.32 -3294.32 -3295.32 -3296.32; -3280.82 -3281.82 -3282.82 -3283.82 -3284.82 -3285.82 -3286.82 -3287.82 -3288.82 -3289.82 -3290.82; -3275.32 -3276.32 -3277.32 -3278.32 -3279.32 -3280.32 -3281.32 -3282.32 -3283.32 -3284.32 -3285.32; -3269.82 -3270.82 -3271.82 -3272.82 -3273.82 -3274.82 -3275.82 -3276.82 -3277.82 -3278.82 -3279.82; -3264.32 -3265.32 -3266.32 -3267.32 -3268.32 -3269.32 -3270.32 -3271.32 -3272.32 -3273.32 -3274.32; -3258.82 -3259.82 -3260.82 -3261.82 -3262.82 -3263.82 -3264.82 -3265.82 -3266.82 -3267.82 -3268.82; -3253.32 -3254.32 -3255.32 -3256.32 -3257.32 -3258.32 -3259.32 -3260.32 -3261.32 -3262.32 -3263.32; -3247.82 -3248.82 -3249.82 -3250.82 -3251.82 -3252.82 -3253.82 -3254.82 -3255.82 -3256.82 -3257.82; -3242.32 -3243.32 -3244.32 -3245.32 -3246.32 -3247.32 -3248.32 -3249.32 -3250.32 -3251.32 -3252.32; -3236.82 -3237.82 -3238.82 -3239.82 -3240.82 -3241.82 -3242.82 -3243.82 -3244.82 -3245.82 -3246.82; -3231.32 -3232.32 -3233.32 -3234.32 -3235.32 -3236.32 -3237.32 -3238.32 -3239.32 -3240.32 -3241.32; -3225.82 -3226.82 -3227.82 -3228.82 -3229.82 -3230.82 -3231.82 -3232.82 -3233.82 -3234.82 -3235.82; -3220.32 -3221.32 -3222.32 -3223.32 -3224.32 -3225.32 -3226.32 -3227.32 -3228.32 -3229.32 -3230.32; -3214.82 -3215.82 -3216.82 -3217.82 -3218.82 -3219.82 -3220.82 -3221.82 -3222.82 -3223.82 -3224.82; -3209.32 -3210.32 -3211.32 -3212.32 -3213.32 -3214.32 -3215.32 -3216.32 -3217.32 -3218.32 -3219.32; -3203.82 -3204.82 -3205.82 -3206.82 -3207.82 -3208.82 -3209.82 -3210.82 -3211.82 -3212.82 -3213.82; -3198.32 -3199.32 -3200.32 -3201.32 -3202.32 -3203.32 -3204.32 -3205.32 -3206.32 -3207.32 -3208.32; -3192.82 -3193.82 -3194.82 -3195.82 -3196.82 -3197.82 -3198.82 -3199.82 -3200.82 -3201.82 -3202.82; -3187.32 -3188.32 -3189.32 -3190.32 -3191.32 -3192.32 -3193.32 -3194.32 -3195.32 -3196.32 -3197.32; -3181.82 -3182.82 -3183.82 -3184.82 -3185.82 -3186.82 -3187.82 -3188.82 -3189.82 -3190.82 -3191.82; -3176.32 -3177.32 -3178.32 -3179.32 -3180.32 -3181.32 -3182.32 -3183.32 -3184.32 -3185.32 -3186.32; -3170.82 -3171.82 -3172.82 -3173.82 -3174.82 -3175.82 -3176.82 -3177.82 -3178.82 -3179.82 -3180.82; -3165.32 -3166.32 -3167.32 -3168.32 -3169.32 -3170.32 -3171.32 -3172.32 -3173.32 -3174.32 -3175.32; -3159.82 -3160.82 -3161.82 -3162.82 -3163.82 -3164.82 -3165.82 -3166.82 -3167.82 -3168.82 -3169.82; -3154.32 -3155.32 -3156.32 -3157.32 -3158.32 -3159.32 -3160.32 -3161.32 -3162.32 -3163.32 -3164.32; -3148.82 -3149.82 -3150.82 -3151.82 -3152.82 -3153.82 -3154.82 -3155.82 -3156.82 -3157.82 -3158.82; -3143.32 -3144.32 -3145.32 -3146.32 -3147.32 -3148.32 -3149.32 -3150.32 -3151.32 -3152.32 -3153.32; -3137.82 -3138.82 -3139.82 -3140.82 -3141.82 -3142.82 -3143.82 -3144.82 -3145.82 -3146.82 -3147.82; -3132.32 -3133.32 -3134.32 -3135.32 -3136.32 -3137.32 -3138.32 -3139.32 -3140.32 -3141.32 -3142.32; -3126.82 -3127.82 -3128.82 -3129.82 -3130.82 -3131.82 -3132.82 -3133.82 -3134.82 -3135.82 -3136.82; -3121.32 -3122.32 -3123.32 -3124.32 -3125.32 -3126.32 -3127.32 -3128.32 -3129.32 -3130.32 -3131.32; -3115.82 -3116.82 -3117.82 -3118.82 -3119.82 -3120.82 -3121.82 -3122.82 -3123.82 -3124.82 -3125.82; -3110.32 -3111.32 -3112.32 -3113.32 -3114.32 -3115.32 -3116.32 -3117.32 -3118.32 -3119.32 -3120.32; -3104.82 -3105.82 -3106.82 -3107.82 -3108.82 -3109.82 -3110.82 -3111.82 -3112.82 -3113.82 -3114.82; -3099.32 -3100.32 -3101.32 -3102.32 -3103.32 -3104.32 -3105.32 -3106.32 -3107.32 -3108.32 -3109.32; -"
     ]
    },
    {
     "name": "stdout",
     "output_type": "stream",
     "text": [
      "3093.82 -3094.82 -3095.82 -3096.82 -3097.82 -3098.82 -3099.82 -3100.82 -3101.82 -3102.82 -3103.82; -3088.32 -3089.32 -3090.32 -3091.32 -3092.32 -3093.32 -3094.32 -3095.32 -3096.32 -3097.32 -3098.32; -3082.82 -3083.82 -3084.82 -3085.82 -3086.82 -3087.82 -3088.82 -3089.82 -3090.82 -3091.82 -3092.82; -3077.32 -3078.32 -3079.32 -3080.32 -3081.32 -3082.32 -3083.32 -3084.32 -3085.32 -3086.32 -3087.32; -3071.82 -3072.82 -3073.82 -3074.82 -3075.82 -3076.82 -3077.82 -3078.82 -3079.82 -3080.82 -3081.82; -3066.32 -3067.32 -3068.32 -3069.32 -3070.32 -3071.32 -3072.32 -3073.32 -3074.32 -3075.32 -3076.32; -3060.82 -3061.82 -3062.82 -3063.82 -3064.82 -3065.82 -3066.82 -3067.82 -3068.82 -3069.82 -3070.82; -3055.32 -3056.32 -3057.32 -3058.32 -3059.32 -3060.32 -3061.32 -3062.32 -3063.32 -3064.32 -3065.32; -3049.82 -3050.82 -3051.82 -3052.82 -3053.82 -3054.82 -3055.82 -3056.82 -3057.82 -3058.82 -3059.82; -3044.32 -3045.32 -3046.32 -3047.32 -3048.32 -3049.32 -3050.32 -3051.32 -3052.32 -3053.32 -3054.32; -3038.82 -3039.82 -3040.82 -3041.82 -3042.82 -3043.82 -3044.82 -3045.82 -3046.82 -3047.82 -3048.82; -3033.32 -3034.32 -3035.32 -3036.32 -3037.32 -3038.32 -3039.32 -3040.32 -3041.32 -3042.32 -3043.32; -3027.82 -3028.82 -3029.82 -3030.82 -3031.82 -3032.82 -3033.82 -3034.82 -3035.82 -3036.82 -3037.82; -3022.32 -3023.32 -3024.32 -3025.32 -3026.32 -3027.32 -3028.32 -3029.32 -3030.32 -3031.32 -3032.32; -3016.82 -3017.82 -3018.82 -3019.82 -3020.82 -3021.82 -3022.82 -3023.82 -3024.82 -3025.82 -3026.82; -3011.32 -3012.32 -3013.32 -3014.32 -3015.32 -3016.32 -3017.32 -3018.32 -3019.32 -3020.32 -3021.32; -3005.82 -3006.82 -3007.82 -3008.82 -3009.82 -3010.82 -3011.82 -3012.82 -3013.82 -3014.82 -3015.82; -3000.32 -3001.32 -3002.32 -3003.32 -3004.32 -3005.32 -3006.32 -3007.32 -3008.32 -3009.32 -3010.32; -2994.82 -2995.82 -2996.82 -2997.82 -2998.82 -2999.82 -3000.82 -3001.82 -3002.82 -3003.82 -3004.82; -2989.32 -2990.32 -2991.32 -2992.32 -2993.32 -2994.32 -2995.32 -2996.32 -2997.32 -2998.32 -2999.32; -2983.82 -2984.82 -2985.82 -2986.82 -2987.82 -2988.82 -2989.82 -2990.82 -2991.82 -2992.82 -2993.82; -2978.32 -2979.32 -2980.32 -2981.32 -2982.32 -2983.32 -2984.32 -2985.32 -2986.32 -2987.32 -2988.32; -2972.82 -2973.82 -2974.82 -2975.82 -2976.82 -2977.82 -2978.82 -2979.82 -2980.82 -2981.82 -2982.82; -2967.32 -2968.32 -2969.32 -2970.32 -2971.32 -2972.32 -2973.32 -2974.32 -2975.32 -2976.32 -2977.32; -2961.82 -2962.82 -2963.82 -2964.82 -2965.82 -2966.82 -2967.82 -2968.82 -2969.82 -2970.82 -2971.82; -2956.32 -2957.32 -2958.32 -2959.32 -2960.32 -2961.32 -2962.32 -2963.32 -2964.32 -2965.32 -2966.32; -2950.82 -2951.82 -2952.82 -2953.82 -2954.82 -2955.82 -2956.82 -2957.82 -2958.82 -2959.82 -2960.82; -2945.32 -2946.32 -2947.32 -2948.32 -2949.32 -2950.32 -2951.32 -2952.32 -2953.32 -2954.32 -2955.32; -2939.82 -2940.82 -2941.82 -2942.82 -2943.82 -2944.82 -2945.82 -2946.82 -2947.82 -2948.82 -2949.82; -2934.32 -2935.32 -2936.32 -2937.32 -2938.32 -2939.32 -2940.32 -2941.32 -2942.32 -2943.32 -2944.32; -2928.82 -2929.82 -2930.82 -2931.82 -2932.82 -2933.82 -2934.82 -2935.82 -2936.82 -2937.82 -2938.82; -2923.32 -2924.32 -2925.32 -2926.32 -2927.32 -2928.32 -2929.32 -2930.32 -2931.32 -2932.32 -2933.32; -2917.82 -2918.82 -2919.82 -2920.82 -2921.82 -2922.82 -2923.82 -2924.82 -2925.82 -2926.82 -2927.82; -2912.32 -2913.32 -2914.32 -2915.32 -2916.32 -2917.32 -2918.32 -2919.32 -2920.32 -2921.32 -2922.32; -2906.82 -2907.82 -2908.82 -2909.82 -2910.82 -2911.82 -2912.82 -2913.82 -2914.82 -2915.82 -2916.82; -2901.32 -2902.32 -2903.32 -2904.32 -2905.32 -2906.32 -2907.32 -2908.32 -2909.32 -2910.32 -2911.32; -2895.82 -2896.82 -2897.82 -2898.82 -2899.82 -2900.82 -2901.82 -2902.82 -2903.82 -2904.82 -2905.82; -2890.32 -2891.32 -2892.32 -2893.32 -2894.32 -2895.32 -2896.32 -2897.32 -2898.32 -2899.32 -2900.32; -2884.82 -2885.82 -2886.82 -2887.82 -2888.82 -2889.82 -2890.82 -2891.82 -2892.82 -2893.82 -2894.82; -2879.32 -2880.32 -2881.32 -2882.32 -2883.32 -2884.32 -2885.32 -2886.32 -2887.32 -2888.32 -2889.32; -2873.82 -2874.82 -2875.82 -2876.82 -2877.82 -2878.82 -2879.82 -2880.82 -2881.82 -2882.82 -2883.82; -2868.32 -2869.32 -2870.32 -2871.32 -2872.32 -2873.32 -2874.32 -2875.32 -2876.32 -2877.32 -2878.32; -2862.82 -2863.82 -2864.82 -2865.82 -2866.82 -2867.82 -2868.82 -2869.82 -2870.82 -2871.82 -2872.82; -2857.32 -2858.32 -2859.32 -2860.32 -2861.32 -2862.32 -2863.32 -2864.32 -2865.32 -2866.32 -2867.32; -2851.82 -2852.82 -2853.82 -2854.82 -2855.82 -2856.82 -2857.82 -2858.82 -2859.82 -2860.82 -2861.82; -2846.32 -2847.32 -2848.32 -2849.32 -2850.32 -2851.32 -2852.32 -2853.32 -2854.32 -2855.32 -2856.32; -2840.82 -2841.82 -2842.82 -2843.82 -2844.82 -2845.82 -2846.82 -2847.82 -2848.82 -2849.82 -2850.82; -2835.32 -2836.32 -2837.32 -2838.32 -2839.32 -2840.32 -2841.32 -2842.32 -2843.32 -2844.32 -2845.32; -2829.82 -2830.82 -2831.82 -2832.82 -2833.82 -2834.82 -2835.82 -2836.82 -2837.82 -2838.82 -2839.82; -2824.32 -2825.32 -2826.32 -2827.32 -2828.32 -2829.32 -2830.32 -2831.32 -2832.32 -2833.32 -2834.32; -2818.82 -2819.82 -2820.82 -2821.82 -2822.82 -2823.82 -2824.82 -2825.82 -2826.82 -2827.82 -2828.82; -2813.32 -2814.32 -2815.32 -2816.32 -2817.32 -2818.32 -2819.32 -2820.32 -2821.32 -2822.32 -2823.32; -2807.82 -2808.82 -2809.82 -2810.82 -2811.82 -2812.82 -2813.82 -2814.82 -2815.82 -2816.82 -2817.82; -2802.32 -2803.32 -2804.32 -2805.32 -2806.32 -2807.32 -2808.32 -2809.32 -2810.32 -2811.32 -2812.32; -2796.82 -2797.82 -2798.82 -2799.82 -2800.82 -2801.82 -2802.82 -2803.82 -2804.82 -2805.82 -2806.82; -2791.32 -2792.32 -2793.32 -2794.32 -2795.32 -2796.32 -2797.32 -2798.32 -2799.32 -2800.32 -2801.32; -2785.82 -2786.82 -2787.82 -2788.82 -2789.82 -2790.82 -2791.82 -2792.82 -2793.82 -2794.82 -2795.82; -2780.32 -2781.32 -2782.32 -2783.32 -2784.32 -2785.32 -2786.32 -2787.32 -2788.32 -2789.32 -2790.32; -2774.82 -2775.82 -2776.82 -2777.82 -2778.82 -2779.82 -2780.82 -2781.82 -2782.82 -2783.82 -2784.82; -2769.32 -2770.32 -2771.32 -2772.32 -2773.32 -2774.32 -2775.32 -2776.32 -2777.32 -2778.32 -2779.32; -2763.82 -2764.82 -2765.82 -2766.82 -2767.82 -2768.82 -2769.82 -2770.82 -2771.82 -2772.82 -2773.82; -2758.32 -2759.32 -2760.32 -2761.32 -2762.32 -2763.32 -2764.32 -2765.32 -2766.32 -2767.32 -2768.32; -2752.82 -2753.82 -2754.82 -2755.82 -2756.82 -2757.82 -2758.82 -2759.82 -2760.82 -2761.82 -2762.82; -2747.32 -2748.32 -2749.32 -2750.32 -2751.32 -2752.32 -2753.32 -2754.32 -2755.32 -2756.32 -2757.32; -2741.82 -2742.82 -2743.82 -2744.82 -2745.82 -2746.82 -2747.82 -2748.82 -2749.82 -2750.82 -2751.82; -2736.32 -2737.32 -2738.32 -2739.32 -2740.32 -2741.32 -2742.32 -2743.32 -2744.32 -2745.32 -2746.32; -2730.82 -2731.82 -2732.82 -2733.82 -2734.82 -2735.82 -2736.82 -2737.82 -2738.82 -2739.82 -2740.82; -2725.32 -2726.32 -2727.32 -2728.32 -2729.32 -2730.32 -2731.32 -2732.32 -2733.32 -2734.32 -2735.32; -2719.82 -2720.82 -2721.82 -2722.82 -2723.82 -2724.82 -2725.82 -2726.82 -2727.82 -2728.82 -2729.82; -2714.32 -2715.32 -2716.32 -2717.32 -2718.32 -2719.32 -2720.32 -2721.32 -2722.32 -2723.32 -2724.32; -2708.82 -2709.82 -2710.82 -2711.82 -2712.82 -2713.82 -2714.82 -2715.82 -2716.82 -2717.82 -2718.82; -2703.32 -2704.32 -2705.32 -2706.32 -2707.32 -2708.32 -2709.32 -2710.32 -2711.32 -2712.32 -2713.32; -2697.82 -2698.82 -2699.82 -2700.82 -2701.82 -2702.82 -2703.82 -2704.82 -2705.82 -2706.82 -2707.82; -2692.32 -2693.32 -2694.32 -2695.32 -2696.32 -2697.32 -2698.32 -2699.32 -2700.32 -2701.32 -2702.32; -2686.82 -2687.82 -2688.82 -2689.82 -2690.82 -2691.82 -2692.82 -2693.82 -2694.82 -2695.82 -2696.82; -2681.32 -2682.32 -2683.32 -2684.32 -2685.32 -2686.32 -2687.32 -2688.32 -2689.32 -2690.32 -2691.32; -2675.82 -2676.82 -2677.82 -2678.82 -2679.82 -2680.82 -2681.82 -2682.82 -2683.82 -2684.82 -2685.82; -2670.32 -2671.32 -2672.32 -2673.32 -2674.32 -2675.32 -2676.32 -2677.32 -2678.32 -2679.32 -2680.32; -2664.82 -2665.82 -2666.82 -2667.82 -2668.82 -2669.82 -2670.82 -2671.82 -2672.82 -2673.82 -2674.82; -2659.32 -2660.32 -2661.32 -2662.32 -2663.32 -2664.32 -2665.32 -2666.32 -2667.32 -2668.32 -2669.32; -2653.82 -2654.82 -2655.82 -2656.82 -2657.82 -2658.82 -2659.82 -2660.82 -2661.82 -2662.82 -2663.82; -2648.32 -2649.32 -2650.32 -2651.32 -2652.32 -2653.32 -2654.32 -2655.32 -2656.32 -2657.32 -2658.32; -2642.82 -2643.82 -2644.82 -2645.82 -2646.82 -2647.82 -2648.82 -2649.82 -2650.82 -2651.82 -2652.82; -2637.32 -2638.32 -2639.32 -2640.32 -2641.32 -2642.32 -2643.32 -2644.32 -2645.32 -2646.32 -2647.32; -2631.82 -2632.82 -2633.82 -2634.82 -2635.82 -2636.82 -2637.82 -2638.82 -2639.82 -2640.82 -2641.82; -2626.32 -2627.32 -2628.32 -2629.32 -2630.32 -2631.32 -2632.32 -2633.32 -2634.32 -2635.32 -2636.32; -2620.82 -2621.82 -2622.82 -2623.82 -2624.82 -2625.82 -2626.82 -2627.82 -2628.82 -2629.82 -2630.82; -2615.32 -2616.32 -2617.32 -2618.32 -2619.32 -2620.32 -2621.32 -2622.32 -2623.32 -2624.32 -2625.32; -2609.82 -2610.82 -2611.82 -2612.82 -2613.82 -2614.82 -2615.82 -2616.82 -2617.82 -2618.82 -2619.82; -2604.32 -2605.32 -2606.32 -2607.32 -2608.32 -2609.32 -2610.32 -2611.32 -2612.32 -2613.32 -2614.32; -2598.82 -2599.82 -2600.82 -2601.82 -2602.82 -2603.82 -2604.82 -2605.82 -2606.82 -2607.82 -2608.82; -2593.32 -2594.32 -2595.32 -2596.32 -2597.32 -2598.32 -2599.32 -2600.32 -2601.32 -2602.32 -2603.32; -2587.82 -2588.82 -2589.82 -2590.82 -2591.82 -2592.82 -2593.82 -2594.82 -2595.82 -2596.82 -2597.82; -2582.32 -2583.32 -2584.32 -2585.32 -2586.32 -2587.32 -2588.32 -2589.32 -2590.32 -2591.32 -2592.32; -2576.82 -2577.82 -2578.82 -2579.82 -2580.82 -2581.82 -2582.82 -2583.82 -2584.82 -2585.82 -2586.82; -2571.32 -2572.32 -2573.32 -2574.32 -2575.32 -2576.32 -2577.32 -2578.32 -2579.32 -2580.32 -2581.32; -2565.82 -2566.82 -2567.82 -2568.82 -2569.82 -2570.82 -2571.82 -2572.82 -2573.82 -2574.82 -2575.82; -2560.32 -2561.32 -2562.32 -2563.32 -2564.32 -2565.32 -2566.32 -2567.32 -2568.32 -2569.32 -2570.32; -2554.82 -2555.82 -2556.82 -2557.82 -2558.82 -2559.82 -2560.82 -2561.82 -2562.82 -2563.82 -2564.82; -2549.32 -2550.32 -2551.32 -2552.32 -2553.32 -2554.32 -2555.32 -2556.32 -2557.32 -2558.32 -2559.32; -2543.82 -2544.82 -2545.82 -2546.82 -2547.82 -2548.82 -2549.82 -2550.82 -2551.82 -2552.82 -2553.82; -2538.32 -2539.32 -2540.32 -2541.32 -2542.32 -2543.32 -2544.32 -2545.32 -2546.32 -2547.32 -2548.32; -2532.82 -2533.82 -2534.82 -2535.82 -2536.82 -2537.82 -2538.82 -2539.82 -2540.82 -2541.82 -2542.82; -2527.32 -2528.32 -2529.32 -2530.32 -2531.32 -2532.32 -2533.32 -2534.32 -2535.32 -2536.32 -2537.32; -2521.82 -2522.82 -2523.82 -2524.82 -2525.82 -2526.82 -2527.82 -2528.82 -2529.82 -2530.82 -2531.82; -2516.32 -2517.32 -2518.32 -2519.32 -2520.32 -2521.32 -2522.32 -2523.32 -2524.32 -2525.32 -2526.32; -2510.82 -2511.82 -2512.82 -2513.82 -2514.82 -2515.82 -2516.82 -2517.82 -2518.82 -2519.82 -2520.82; -2505.32 -2506.32 -2507.32 -2508.32 -2509.32 -2510.32 -2511.32 -2512.32 -2513.32 -2514.32 -2515.32; -2499.82 -2500.82 -2501.82 -2502.82 -2503.82 -2504.82 -2505.82 -2506.82 -2507.82 -2508.82 -2509.82; -2494.32 -2495.32 -2496.32 -2497.32 -2498.32 -2499.32 -2500.32 -2501.32 -2502.32 -2503.32 -2504.32; -2488.82 -2489.82 -2490.82 -2491.82 -2492.82 -2493.82 -2494.82 -2495.82 -2496.82 -2497.82 -2498.82; -2483.32 -2484.32 -2485.32 -2486.32 -2487.32 -2488.32 -2489.32 -2490.32 -2491.32 -2492.32 -2493.32; -2477.82 -2478.82 -2479.82 -2480.82 -2481.82 -2482.82 -2483.82 -2484.82 -2485.82 -2486.82 -2487.82; -2472.32 -2473.32 -2474.32 -2475.32 -2476.32 -2477.32 -2478.32 -2479.32 -2480.32 -2481.32 -2482.32; -2466.82 -2467.82 -2468.82 -2469.82 -2470.82 -2471.82 -2472.82 -2473.82 -2474.82 -2475.82 -2476.82; -2461.32 -2462.32 -2463.32 -2464.32 -2465.32 -2466.32 -2467.32 -2468.32 -2469.32 -2470.32 -2471.32; -2455.82 -2456.82 -2457.82 -2458.82 -2459.82 -2460.82 -2461.82 -2462.82 -2463.82 -2464.82 -2465.82; -2450.32 -2451.32 -2452.32 -2453.32 -2454.32 -2455.32 -2456.32 -2457.32 -2458.32 -2459.32 -2460.32; -2444.82 -2445.82 -2446.82 -2447.82 -2448.82 -2449.82 -2450.82 -2451.82 -2452.82 -2453.82 -2454.82; -2439.32 -2440.32 -2441.32 -2442.32 -2443.32 -2444.32 -2445.32 -2446.32 -2447.32 -2448.32 -2449.32; -2433.82 -2434.82 -2435.82 -2436.82 -2437.82 -2438.82 -2439.82 -2440.82 -2441.82 -2442.82 -2443.82; -2428.32 -2429.32 -2430.32 -2431.32 -2432.32 -2433.32 -2434.32 -2435.32 -2436.32 -2437.32 -2438.32; -2422.82 -2423.82 -2424.82 -2425.82 -2426.82 -2427.82 -2428.82 -2429.82 -2430.82 -2431.82 -2432.82; -2417.32 -2418.32 -2419.32 -2420.32 -2421.32 -2422.32 -2423.32 -2424.32 -2425.32 -2426.32 -2427.32; -2411.82 -2412.82 -2413.82 -2414.82 -2415.82 -2416.82 -2417.82 -2418.82 -2419.82 -2420.82 -2421.82; -2406.32 -2407.32 -2408.32 -2409.32 -2410.32 -2411.32 -2412.32 -2413.32 -2414.32 -2415.32 -2416.32; -2400.82 -2401.82 -2402.82 -2403.82 -2404.82 -2405.82 -2406.82 -2407.82 -2408.82 -2409.82 -2410.82; -2395.32 -2396.32 -2397.32 -2398.32 -2399.32 -2400.32 -2401.32 -2402.32 -2403.32 -2404.32 -2405.32; -2389.82 -2390.82 -2391.82 -2392.82 -2393.82 -2394.82 -2395.82 -2396.82 -2397.82 -2398.82 -2399.82; -2384.32 -2385.32 -2386.32 -2387.32 -2388.32 -2389.32 -2390.32 -2391.32 -2392.32 -2393.32 -2394.32; -2378.82 -2379.82 -2380.82 -2381.82 -2382.82 -2383.82 -2384.82 -2385.82 -2386.82 -2387.82 -2388.82; -2373.32 -2374.32 -2375.32 -2376.32 -2377.32 -2378.32 -2379.32 -2380.32 -2381.32 -2382.32 -2383.32; -2367.82 -2368.82 -2369.82 -2370.82 -2371.82 -2372.82 -2373.82 -2374.82 -2375.82 -2376.82 -2377.82; -2362.32 -2363.32 -2364.32 -2365.32 -2366.32 -2367.32 -2368.32 -2369.32 -2370.32 -2371.32 -2372.32; -2356.82 -2357.82 -2358.82 -2359.82 -2360.82 -2361.82 -2362.82 -2363.82 -2364.82 -2365.82 -2366.82; -2351.32 -2352.32 -2353.32 -2354.32 -2355.32 -2356.32 -2357.32 -2358.32 -2359.32 -2360.32 -2361.32; -2345.82 -2346.82 -2347.82 -2348.82 -2349.82 -2350.82 -2351.82 -2352.82 -2353.82 -2354.82 -2355.82; -2340.32 -2341.32 -2342.32 -2343.32 -2344.32 -2345.32 -2346.32 -2347.32 -2348.32 -2349.32 -2350.32; -2334.82 -2335.82 -2336.82 -2337.82 -2338.82 -2339.82 -2340.82 -2341.82 -2342.82 -2343.82 -2344.82; -2329.32 -2330.32 -2331.32 -2332.32 -2333.32 -2334.32 -2335.32 -2336.32 -2337.32 -2338.32 -2339.32; -2323.82 -2324.82 -2325.82 -2326.82 -2327.82 -2328.82 -2329.82 -2330.82 -2331.82 -2332.82 -2333.82; -2318.32 -2319.32 -2320.32 -2321.32 -2322.32 -2323.32 -2324.32 -2325.32 -2326.32 -2327.32 -2328.32; -2312.82 -2313.82 -2314.82 -2315.82 -2316.82 -2317.82 -2318.82 -2319.82 -2320.82 -2321.82 -2322.82; -2307.32 -2308.32 -2309.32 -2310.32 -2311.32 -2312.32 -2313.32 -2314.32 -2315.32 -2316.32 -2317.32; -2301.82 -2302.82 -2303.82 -2304.82 -2305.82 -2306.82 -2307.82 -2308.82 -2309.82 -2310.82 -2311.82; -2296.32 -2297.32 -2298.32 -2299.32 -2300.32 -2301.32 -2302.32 -2303.32 -2304.32 -2305.32 -2306.32; -2290.82 -2291.82 -2292.82 -2293.82 -2294.82 -2295.82 -2296.82 -2297.82 -2298.82 -2299.82 -2300.82; -2285.32 -2286.32 -2287.32 -2288.32 -2289.32 -2290.32 -2291.32 -2292.32 -2293.32 -2294.32 -2295.32; -2279.82 -2280.82 -2281.82 -2282.82 -2283.82 -2284.82 -2285.82 -2286.82 -2287.82 -2288.82 -2289.82; -2274.32 -2275.32 -2276.32 -2277.32 -2278.32 -2279.32 -2280.32 -2281.32 -2282.32 -2283.32 -2284.32; -2268.82 -2269.82 -2270.82 -2271.82 -2272.82 -2273.82 -2274.82 -2275.82 -2276.82 -2277.82 -2278.82; -2263.32 -2264.32 -2265.32 -2266.32 -2267.32 -2268.32 -2269.32 -2270.32 -2271.32 -2272.32 -2273.32; -2257.82 -2258.82 -2259.82 -2260.82 -2261.82 -2262.82 -2263.82 -2264.82 -2265.82 -2266.82 -2267.82; -2252.32 -2253.32 -2254.32 -2255.32 -2256.32 -2257.32 -2258.32 -2259.32 -2260.32 -2261.32 -2262.32; -2246.82 -2247.82 -2248.82 -2249.82 -2250.82 -2251.82 -2252.82 -2253.82 -2254.82 -2255.82 -2256.82; -2241.32 -2242.32 -2243.32 -2244.32 -2245.32 -2246.32 -2247.32 -2248.32 -2249.32 -2250.32 -2251.32; -2235.82 -2236.82 -2237.82 -2238.82 -2239.82 -2240.82 -2241.82 -2242.82 -2243.82 -2244.82 -2245.82; -2230.32 -2231.32 -2232.32 -2233.32 -2234.32 -2235.32 -2236.32 -2237.32 -2238.32 -2239.32 -2240.32; -2224.82 -2225.82 -2226.82 -2227.82 -2228.82 -2229.82 -2230.82 -2231.82 -2232.82 -2233.82 -2234.82; -2219.32 -2220.32 -2221.32 -2222.32 -2223.32 -2224.32 -2225.32 -2226.32 -2227.32 -2228.32 -2229.32; -2213.82 -2214.82 -2215.82 -2216.82 -2217.82 -2218.82 -2219.82 -2220.82 -2221.82 -2222.82 -2223.82; -2208.32 -2209.32 -2210.32 -2211.32 -2212.32 -2213.32 -2214.32 -2215.32 -2216.32 -2217.32 -2218.32; -2202.82 -2203.82 -2204.82 -2205.82 -2206.82 -2207.82 -2208.82 -2209.82 -2210.82 -2211.82 -2212.82; -2197.32 -2198.32 -2199.32 -2200.32 -2201.32 -2202.32 -2203.32 -2204.32 -2205.32 -2206.32 -2207.32; -2191.82 -2192.82 -2193.82 -2194.82 -2195.82 -2196.82 -2197.82 -2198.82 -2199.82 -2200.82 -2201.82; -2186.32 -2187.32 -2188.32 -2189.32 -2190.32 -2191.32 -2192.32 -2193.32 -2194.32 -2195.32 -2196.32; -2180.82 -2181.82 -2182.82 -2183.82 -2184.82 -2185.82 -2186.82 -2187.82 -2188.82 -2189.82 -2190.82; -2175.32 -2176.32 -2177.32 -2178.32 -2179.32 -2180.32 -2181.32 -2182.32 -2183.32 -2184.32 -2185.32; -2169.82 -2170.82 -2171.82 -2172.82 -2173.82 -2174.82 -2175.82 -2176.82 -2177.82 -2178.82 -2179.82; -2164.32 -2165.32 -2166.32 -2167.32 -2168.32 -2169.32 -2170.32 -2171.32 -2172.32 -2173.32 -2174.32; -2158.82 -2159.82 -2160.82 -2161.82 -2162.82 -2163.82 -2164.82 -2165.82 -2166.82 -2167.82 -2168.82; -2153.32 -2154.32 -2155.32 -2156.32 -2157.32 -2158.32 -2159.32 -2160.32 -2161.32 -2162.32 -2163.32; -2147.82 -2148.82 -2149.82 -2150.82 -2151.82 -2152.82 -2153.82 -2154.82 -2155.82 -2156.82 -2157.82; -2142.32 -2143.32 -2144.32 -2145.32 -2146.32 -2147.32 -2148.32 -2149.32 -2150.32 -2151.32 -2152.32; -2136.82 -2137.82 -2138.82 -2139.82 -2140.82 -2141.82 -2142.82 -2143.82 -2144.82 -2145.82 -2146.82; -2131.32 -2132.32 -2133.32 -2134.32 -2135.32 -2136.32 -2137.32 -2138.32 -2139.32 -2140.32 -2141.32; -2125.82 -2126.82 -2127.82 -2128.82 -2129.82 -2130.82 -2131.82 -2132.82 -2133.82 -2134.82 -2135.82; -2120.32 -2121.32 -2122.32 -2123.32 -2124.32 -2125.32 -2126.32 -2127.32 -2128.32 -2129.32 -2130.32; -2114.82 -2115.82 -2116.82 -2117.82 -2118.82 -2119.82 -2120.82 -2121.82 -2122.82 -2123.82 -2124.82; -2109.32 -2110.32 -2111.32 -2112.32 -2113.32 -2114.32 -2115.32 -2116.32 -2117.32 -2118.32 -2119.32; -2103."
     ]
    },
    {
     "name": "stdout",
     "output_type": "stream",
     "text": [
      "82 -2104.82 -2105.82 -2106.82 -2107.82 -2108.82 -2109.82 -2110.82 -2111.82 -2112.82 -2113.82; -2098.32 -2099.32 -2100.32 -2101.32 -2102.32 -2103.32 -2104.32 -2105.32 -2106.32 -2107.32 -2108.32; -2092.82 -2093.82 -2094.82 -2095.82 -2096.82 -2097.82 -2098.82 -2099.82 -2100.82 -2101.82 -2102.82; -2087.32 -2088.32 -2089.32 -2090.32 -2091.32 -2092.32 -2093.32 -2094.32 -2095.32 -2096.32 -2097.32; -2081.82 -2082.82 -2083.82 -2084.82 -2085.82 -2086.82 -2087.82 -2088.82 -2089.82 -2090.82 -2091.82; -2076.32 -2077.32 -2078.32 -2079.32 -2080.32 -2081.32 -2082.32 -2083.32 -2084.32 -2085.32 -2086.32; -2070.82 -2071.82 -2072.82 -2073.82 -2074.82 -2075.82 -2076.82 -2077.82 -2078.82 -2079.82 -2080.82; -2065.32 -2066.32 -2067.32 -2068.32 -2069.32 -2070.32 -2071.32 -2072.32 -2073.32 -2074.32 -2075.32; -2059.82 -2060.82 -2061.82 -2062.82 -2063.82 -2064.82 -2065.82 -2066.82 -2067.82 -2068.82 -2069.82; -2054.32 -2055.32 -2056.32 -2057.32 -2058.32 -2059.32 -2060.32 -2061.32 -2062.32 -2063.32 -2064.32; -2048.82 -2049.82 -2050.82 -2051.82 -2052.82 -2053.82 -2054.82 -2055.82 -2056.82 -2057.82 -2058.82; -2043.32 -2044.32 -2045.32 -2046.32 -2047.32 -2048.32 -2049.32 -2050.32 -2051.32 -2052.32 -2053.32; -2037.82 -2038.82 -2039.82 -2040.82 -2041.82 -2042.82 -2043.82 -2044.82 -2045.82 -2046.82 -2047.82; -2032.32 -2033.32 -2034.32 -2035.32 -2036.32 -2037.32 -2038.32 -2039.32 -2040.32 -2041.32 -2042.32; -2026.82 -2027.82 -2028.82 -2029.82 -2030.82 -2031.82 -2032.82 -2033.82 -2034.82 -2035.82 -2036.82; -2021.32 -2022.32 -2023.32 -2024.32 -2025.32 -2026.32 -2027.32 -2028.32 -2029.32 -2030.32 -2031.32; -2015.82 -2016.82 -2017.82 -2018.82 -2019.82 -2020.82 -2021.82 -2022.82 -2023.82 -2024.82 -2025.82; -2010.32 -2011.32 -2012.32 -2013.32 -2014.32 -2015.32 -2016.32 -2017.32 -2018.32 -2019.32 -2020.32; -2004.82 -2005.82 -2006.82 -2007.82 -2008.82 -2009.82 -2010.82 -2011.82 -2012.82 -2013.82 -2014.82; -1999.32 -2000.32 -2001.32 -2002.32 -2003.32 -2004.32 -2005.32 -2006.32 -2007.32 -2008.32 -2009.32; -1993.82 -1994.82 -1995.82 -1996.82 -1997.82 -1998.82 -1999.82 -2000.82 -2001.82 -2002.82 -2003.82; -1988.32 -1989.32 -1990.32 -1991.32 -1992.32 -1993.32 -1994.32 -1995.32 -1996.32 -1997.32 -1998.32; -1982.82 -1983.82 -1984.82 -1985.82 -1986.82 -1987.82 -1988.82 -1989.82 -1990.82 -1991.82 -1992.82; -1977.32 -1978.32 -1979.32 -1980.32 -1981.32 -1982.32 -1983.32 -1984.32 -1985.32 -1986.32 -1987.32; -1971.82 -1972.82 -1973.82 -1974.82 -1975.82 -1976.82 -1977.82 -1978.82 -1979.82 -1980.82 -1981.82; -1966.32 -1967.32 -1968.32 -1969.32 -1970.32 -1971.32 -1972.32 -1973.32 -1974.32 -1975.32 -1976.32; -1960.82 -1961.82 -1962.82 -1963.82 -1964.82 -1965.82 -1966.82 -1967.82 -1968.82 -1969.82 -1970.82; -1955.32 -1956.32 -1957.32 -1958.32 -1959.32 -1960.32 -1961.32 -1962.32 -1963.32 -1964.32 -1965.32; -1949.82 -1950.82 -1951.82 -1952.82 -1953.82 -1954.82 -1955.82 -1956.82 -1957.82 -1958.82 -1959.82; -1944.32 -1945.32 -1946.32 -1947.32 -1948.32 -1949.32 -1950.32 -1951.32 -1952.32 -1953.32 -1954.32; -1938.82 -1939.82 -1940.82 -1941.82 -1942.82 -1943.82 -1944.82 -1945.82 -1946.82 -1947.82 -1948.82; -1933.32 -1934.32 -1935.32 -1936.32 -1937.32 -1938.32 -1939.32 -1940.32 -1941.32 -1942.32 -1943.32; -1927.82 -1928.82 -1929.82 -1930.82 -1931.82 -1932.82 -1933.82 -1934.82 -1935.82 -1936.82 -1937.82; -1922.32 -1923.32 -1924.32 -1925.32 -1926.32 -1927.32 -1928.32 -1929.32 -1930.32 -1931.32 -1932.32; -1916.82 -1917.82 -1918.82 -1919.82 -1920.82 -1921.82 -1922.82 -1923.82 -1924.82 -1925.82 -1926.82; -1911.32 -1912.32 -1913.32 -1914.32 -1915.32 -1916.32 -1917.32 -1918.32 -1919.32 -1920.32 -1921.32; -1905.82 -1906.82 -1907.82 -1908.82 -1909.82 -1910.82 -1911.82 -1912.82 -1913.82 -1914.82 -1915.82; -1900.32 -1901.32 -1902.32 -1903.32 -1904.32 -1905.32 -1906.32 -1907.32 -1908.32 -1909.32 -1910.32; -1894.82 -1895.82 -1896.82 -1897.82 -1898.82 -1899.82 -1900.82 -1901.82 -1902.82 -1903.82 -1904.82; -1889.32 -1890.32 -1891.32 -1892.32 -1893.32 -1894.32 -1895.32 -1896.32 -1897.32 -1898.32 -1899.32; -1883.82 -1884.82 -1885.82 -1886.82 -1887.82 -1888.82 -1889.82 -1890.82 -1891.82 -1892.82 -1893.82; -1878.32 -1879.32 -1880.32 -1881.32 -1882.32 -1883.32 -1884.32 -1885.32 -1886.32 -1887.32 -1888.32; -1872.82 -1873.82 -1874.82 -1875.82 -1876.82 -1877.82 -1878.82 -1879.82 -1880.82 -1881.82 -1882.82; -1867.32 -1868.32 -1869.32 -1870.32 -1871.32 -1872.32 -1873.32 -1874.32 -1875.32 -1876.32 -1877.32; -1861.82 -1862.82 -1863.82 -1864.82 -1865.82 -1866.82 -1867.82 -1868.82 -1869.82 -1870.82 -1871.82; -1856.32 -1857.32 -1858.32 -1859.32 -1860.32 -1861.32 -1862.32 -1863.32 -1864.32 -1865.32 -1866.32; -1850.82 -1851.82 -1852.82 -1853.82 -1854.82 -1855.82 -1856.82 -1857.82 -1858.82 -1859.82 -1860.82; -1845.32 -1846.32 -1847.32 -1848.32 -1849.32 -1850.32 -1851.32 -1852.32 -1853.32 -1854.32 -1855.32; -1839.82 -1840.82 -1841.82 -1842.82 -1843.82 -1844.82 -1845.82 -1846.82 -1847.82 -1848.82 -1849.82; -1834.32 -1835.32 -1836.32 -1837.32 -1838.32 -1839.32 -1840.32 -1841.32 -1842.32 -1843.32 -1844.32; -1828.82 -1829.82 -1830.82 -1831.82 -1832.82 -1833.82 -1834.82 -1835.82 -1836.82 -1837.82 -1838.82; -1823.32 -1824.32 -1825.32 -1826.32 -1827.32 -1828.32 -1829.32 -1830.32 -1831.32 -1832.32 -1833.32; -1817.82 -1818.82 -1819.82 -1820.82 -1821.82 -1822.82 -1823.82 -1824.82 -1825.82 -1826.82 -1827.82; -1812.32 -1813.32 -1814.32 -1815.32 -1816.32 -1817.32 -1818.32 -1819.32 -1820.32 -1821.32 -1822.32; -1806.82 -1807.82 -1808.82 -1809.82 -1810.82 -1811.82 -1812.82 -1813.82 -1814.82 -1815.82 -1816.82; -1801.32 -1802.32 -1803.32 -1804.32 -1805.32 -1806.32 -1807.32 -1808.32 -1809.32 -1810.32 -1811.32; -1795.82 -1796.82 -1797.82 -1798.82 -1799.82 -1800.82 -1801.82 -1802.82 -1803.82 -1804.82 -1805.82; -1790.32 -1791.32 -1792.32 -1793.32 -1794.32 -1795.32 -1796.32 -1797.32 -1798.32 -1799.32 -1800.32; -1784.82 -1785.82 -1786.82 -1787.82 -1788.82 -1789.82 -1790.82 -1791.82 -1792.82 -1793.82 -1794.82; -1779.32 -1780.32 -1781.32 -1782.32 -1783.32 -1784.32 -1785.32 -1786.32 -1787.32 -1788.32 -1789.32; -1773.82 -1774.82 -1775.82 -1776.82 -1777.82 -1778.82 -1779.82 -1780.82 -1781.82 -1782.82 -1783.82; -1768.32 -1769.32 -1770.32 -1771.32 -1772.32 -1773.32 -1774.32 -1775.32 -1776.32 -1777.32 -1778.32; -1762.82 -1763.82 -1764.82 -1765.82 -1766.82 -1767.82 -1768.82 -1769.82 -1770.82 -1771.82 -1772.82; -1757.32 -1758.32 -1759.32 -1760.32 -1761.32 -1762.32 -1763.32 -1764.32 -1765.32 -1766.32 -1767.32; -1751.82 -1752.82 -1753.82 -1754.82 -1755.82 -1756.82 -1757.82 -1758.82 -1759.82 -1760.82 -1761.82; -1746.32 -1747.32 -1748.32 -1749.32 -1750.32 -1751.32 -1752.32 -1753.32 -1754.32 -1755.32 -1756.32; -1740.82 -1741.82 -1742.82 -1743.82 -1744.82 -1745.82 -1746.82 -1747.82 -1748.82 -1749.82 -1750.82; -1735.32 -1736.32 -1737.32 -1738.32 -1739.32 -1740.32 -1741.32 -1742.32 -1743.32 -1744.32 -1745.32; -1729.82 -1730.82 -1731.82 -1732.82 -1733.82 -1734.82 -1735.82 -1736.82 -1737.82 -1738.82 -1739.82; -1724.32 -1725.32 -1726.32 -1727.32 -1728.32 -1729.32 -1730.32 -1731.32 -1732.32 -1733.32 -1734.32; -1718.82 -1719.82 -1720.82 -1721.82 -1722.82 -1723.82 -1724.82 -1725.82 -1726.82 -1727.82 -1728.82; -1713.32 -1714.32 -1715.32 -1716.32 -1717.32 -1718.32 -1719.32 -1720.32 -1721.32 -1722.32 -1723.32; -1707.82 -1708.82 -1709.82 -1710.82 -1711.82 -1712.82 -1713.82 -1714.82 -1715.82 -1716.82 -1717.82; -1702.32 -1703.32 -1704.32 -1705.32 -1706.32 -1707.32 -1708.32 -1709.32 -1710.32 -1711.32 -1712.32; -1696.82 -1697.82 -1698.82 -1699.82 -1700.82 -1701.82 -1702.82 -1703.82 -1704.82 -1705.82 -1706.82; -1691.32 -1692.32 -1693.32 -1694.32 -1695.32 -1696.32 -1697.32 -1698.32 -1699.32 -1700.32 -1701.32; -1685.82 -1686.82 -1687.82 -1688.82 -1689.82 -1690.82 -1691.82 -1692.82 -1693.82 -1694.82 -1695.82; -1680.32 -1681.32 -1682.32 -1683.32 -1684.32 -1685.32 -1686.32 -1687.32 -1688.32 -1689.32 -1690.32; -1674.82 -1675.82 -1676.82 -1677.82 -1678.82 -1679.82 -1680.82 -1681.82 -1682.82 -1683.82 -1684.82; -1669.32 -1670.32 -1671.32 -1672.32 -1673.32 -1674.32 -1675.32 -1676.32 -1677.32 -1678.32 -1679.32; -1663.82 -1664.82 -1665.82 -1666.82 -1667.82 -1668.82 -1669.82 -1670.82 -1671.82 -1672.82 -1673.82; -1658.32 -1659.32 -1660.32 -1661.32 -1662.32 -1663.32 -1664.32 -1665.32 -1666.32 -1667.32 -1668.32; -1652.82 -1653.82 -1654.82 -1655.82 -1656.82 -1657.82 -1658.82 -1659.82 -1660.82 -1661.82 -1662.82; -1647.32 -1648.32 -1649.32 -1650.32 -1651.32 -1652.32 -1653.32 -1654.32 -1655.32 -1656.32 -1657.32; -1641.82 -1642.82 -1643.82 -1644.82 -1645.82 -1646.82 -1647.82 -1648.82 -1649.82 -1650.82 -1651.82; -1636.32 -1637.32 -1638.32 -1639.32 -1640.32 -1641.32 -1642.32 -1643.32 -1644.32 -1645.32 -1646.32; -1630.82 -1631.82 -1632.82 -1633.82 -1634.82 -1635.82 -1636.82 -1637.82 -1638.82 -1639.82 -1640.82; -1625.32 -1626.32 -1627.32 -1628.32 -1629.32 -1630.32 -1631.32 -1632.32 -1633.32 -1634.32 -1635.32; -1619.82 -1620.82 -1621.82 -1622.82 -1623.82 -1624.82 -1625.82 -1626.82 -1627.82 -1628.82 -1629.82; -1614.32 -1615.32 -1616.32 -1617.32 -1618.32 -1619.32 -1620.32 -1621.32 -1622.32 -1623.32 -1624.32; -1608.82 -1609.82 -1610.82 -1611.82 -1612.82 -1613.82 -1614.82 -1615.82 -1616.82 -1617.82 -1618.82; -1603.32 -1604.32 -1605.32 -1606.32 -1607.32 -1608.32 -1609.32 -1610.32 -1611.32 -1612.32 -1613.32; -1597.82 -1598.82 -1599.82 -1600.82 -1601.82 -1602.82 -1603.82 -1604.82 -1605.82 -1606.82 -1607.82; -1592.32 -1593.32 -1594.32 -1595.32 -1596.32 -1597.32 -1598.32 -1599.32 -1600.32 -1601.32 -1602.32; -1586.82 -1587.82 -1588.82 -1589.82 -1590.82 -1591.82 -1592.82 -1593.82 -1594.82 -1595.82 -1596.82; -1581.32 -1582.32 -1583.32 -1584.32 -1585.32 -1586.32 -1587.32 -1588.32 -1589.32 -1590.32 -1591.32; -1575.82 -1576.82 -1577.82 -1578.82 -1579.82 -1580.82 -1581.82 -1582.82 -1583.82 -1584.82 -1585.82; -1570.32 -1571.32 -1572.32 -1573.32 -1574.32 -1575.32 -1576.32 -1577.32 -1578.32 -1579.32 -1580.32; -1564.82 -1565.82 -1566.82 -1567.82 -1568.82 -1569.82 -1570.82 -1571.82 -1572.82 -1573.82 -1574.82; -1559.32 -1560.32 -1561.32 -1562.32 -1563.32 -1564.32 -1565.32 -1566.32 -1567.32 -1568.32 -1569.32; -1553.82 -1554.82 -1555.82 -1556.82 -1557.82 -1558.82 -1559.82 -1560.82 -1561.82 -1562.82 -1563.82; -1548.32 -1549.32 -1550.32 -1551.32 -1552.32 -1553.32 -1554.32 -1555.32 -1556.32 -1557.32 -1558.32; -1542.82 -1543.82 -1544.82 -1545.82 -1546.82 -1547"
     ]
    },
    {
     "name": "stdout",
     "output_type": "stream",
     "text": [
      ".82 -1548.82 -1549.82 -1550.82 -1551.82 -1552.82; -1537.32 -1538.32 -1539.32 -1540.32 -1541.32 -1542.32 -1543.32 -1544.32 -1545.32 -1546.32 -1547.32; -1531.82 -1532.82 -1533.82 -1534.82 -1535.82 -1536.82 -1537.82 -1538.82 -1539.82 -1540.82 -1541.82; -1526.32 -1527.32 -1528.32 -1529.32 -1530.32 -1531.32 -1532.32 -1533.32 -1534.32 -1535.32 -1536.32; -1520.82 -1521.82 -1522.82 -1523.82 -1524.82 -1525.82 -1526.82 -1527.82 -1528.82 -1529.82 -1530.82; -1515.32 -1516.32 -1517.32 -1518.32 -1519.32 -1520.32 -1521.32 -1522.32 -1523.32 -1524.32 -1525.32; -1509.82 -1510.82 -1511.82 -1512.82 -1513.82 -1514.82 -1515.82 -1516.82 -1517.82 -1518.82 -1519.82; -1504.32 -1505.32 -1506.32 -1507.32 -1508.32 -1509.32 -1510.32 -1511.32 -1512.32 -1513.32 -1514.32; -1498.82 -1499.82 -1500.82 -1501.82 -1502.82 -1503.82 -1504.82 -1505.82 -1506.82 -1507.82 -1508.82; -1493.32 -1494.32 -1495.32 -1496.32 -1497.32 -1498.32 -1499.32 -1500.32 -1501.32 -1502.32 -1503.32; -1487.82 -1488.82 -1489.82 -1490.82 -1491.82 -1492.82 -1493.82 -1494.82 -1495.82 -1496.82 -1497.82; -1482.32 -1483.32 -1484.32 -1485.32 -1486.32 -1487.32 -1488.32 -1489.32 -1490.32 -1491.32 -1492.32; -1476.82 -1477.82 -1478.82 -1479.82 -1480.82 -1481.82 -1482.82 -1483.82 -1484.82 -1485.82 -1486.82; -1471.32 -1472.32 -1473.32 -1474.32 -1475.32 -1476.32 -1477.32 -1478.32 -1479.32 -1480.32 -1481.32; -1465.82 -1466.82 -1467.82 -1468.82 -1469.82 -1470.82 -1471.82 -1472.82 -1473.82 -1474.82 -1475.82; -1460.32 -1461.32 -1462.32 -1463.32 -1464.32 -1465.32 -1466.32 -1467.32 -1468.32 -1469.32 -1470.32; -1454.82 -1455.82 -1456.82 -1457.82 -1458.82 -1459.82 -1460.82 -1461.82 -1462.82 -1463.82 -1464.82; -1449.32 -1450.32 -1451.32 -1452.32 -1453.32 -1454.32 -1455.32 -1456.32 -1457.32 -1458.32 -1459.32; -1443.82 -1444.82 -1445.82 -1446.82 -1447.82 -1448.82 -1449.82 -1450.82 -1451.82 -1452.82 -1453.82; -1438.32 -1439.32 -1440.32 -1441.32 -1442.32 -1443.32 -1444.32 -1445.32 -1446.32 -1447.32 -1448.32; -1432.82 -1433.82 -1434.82 -1435.82 -1436.82 -1437.82 -1438.82 -1439.82 -1440.82 -1441.82 -1442.82; -1427.32 -1428.32 -1429.32 -1430.32 -1431.32 -1432.32 -1433.32 -1434.32 -1435.32 -1436.32 -1437.32; -1421.82 -1422.82 -1423.82 -1424.82 -1425.82 -1426.82 -1427.82 -1428.82 -1429.82 -1430.82 -1431.82; -1416.32 -1417.32 -1418.32 -1419.32 -1420.32 -1421.32 -1422.32 -1423.32 -1424.32 -1425.32 -1426.32; -1410.82 -1411.82 -1412.82 -1413.82 -1414.82 -1415.82 -1416.82 -1417.82 -1418.82 -1419.82 -1420.82; -1405.32 -1406.32 -1407.32 -1408.32 -1409.32 -1410.32 -1411.32 -1412.32 -1413.32 -1414.32 -1415.32; -1399.82 -1400.82 -1401.82 -1402.82 -1403.82 -1404.82 -1405.82 -1406.82 -1407.82 -1408.82 -1409.82; -1394.32 -1395.32 -1396.32 -1397.32 -1398.32 -1399.32 -1400.32 -1401.32 -1402.32 -1403.32 -1404.32; -1388.82 -1389.82 -1390.82 -1391.82 -1392.82 -1393.82 -1394.82 -1395.82 -1396.82 -1397.82 -1398.82; -1383.32 -1384.32 -1385.32 -1386.32 -1387.32 -1388.32 -1389.32 -1390.32 -1391.32 -1392.32 -1393.32; -1377.82 -1378.82 -1379.82 -1380.82 -1381.82 -1382.82 -1383.82 -1384.82 -1385.82 -1386.82 -1387.82; -1372.32 -1373.32 -1374.32 -1375.32 -1376.32 -1377.32 -1378.32 -1379.32 -1380.32 -1381.32 -1382.32; -1366.82 -1367.82 -1368.82 -1369.82 -1370.82 -1371.82 -1372.82 -1373.82 -1374.82 -1375.82 -1376.82; -1361.32 -1362.32 -1363.32 -1364.32 -1365.32 -1366.32 -1367.32 -1368.32 -1369.32 -1370.32 -1371.32; -1355.82 -1356.82 -1357.82 -1358.82 -1359.82 -1360.82 -1361.82 -1362.82 -1363.82 -1364.82 -1365.82; -1350.32 -1351.32 -1352.32 -1353.32 -1354.32 -1355.32 -1356.32 -1357.32 -1358.32 -1359.32 -1360.32; -1344.82 -1345.82 -1346.82 -1347.82 -1348.82 -1349.82 -1350.82 -1351.82 -1352.82 -1353.82 -1354.82; -1339.32 -1340.32 -1341.32 -1342.32 -1343.32 -1344.32 -1345.32 -1346.32 -1347.32 -1348.32 -1349.32; -1333.82 -1334.82 -1335.82 -1336.82 -1337.82 -1338.82 -1339.82 -1340.82 -1341.82 -1342.82 -1343.82; -1328.32 -1329.32 -1330.32 -1331.32 -1332.32 -1333.32 -1334.32 -1335.32 -1336.32 -1337.32 -1338.32; -1322.82 -1323.82 -1324.82 -1325.82 -1326.82 -1327.82 -1328.82 -1329.82 -1330.82 -1331.82 -1332.82; -1317.32 -1318.32 -1319.32 -1320.32 -1321.32 -1322.32 -1323.32 -1324.32 -1325.32 -1326.32 -1327.32; -1311.82 -1312.82 -1313.82 -1314.82 -1315.82 -1316.82 -1317.82 -1318.82 -1319.82 -1320.82 -1321.82; -1306.32 -1307.32 -1308.32 -1309.32 -1310.32 -1311.32 -1312.32 -1313.32 -1314.32 -1315.32 -1316.32; -1300.82 -1301.82 -1302.82 -1303.82 -1304.82 -1305.82 -1306.82 -1307.82 -1308.82 -1309.82 -1310.82; -1295.32 -1296.32 -1297.32 -1298.32 -1299.32 -1300.32 -1301.32 -1302.32 -1303.32 -1304.32 -1305.32; -1289.82 -1290.82 -1291.82 -1292.82 -1293.82 -1294.82 -1295.82 -1296.82 -1297.82 -1298.82 -1299.82; -1284.32 -1285.32 -1286.32 -1287.32 -1288.32 -1289.32 -1290.32 -1291.32 -1292.32 -1293.32 -1294.32; -1278.82 -1279.82 -1280.82 -1281.82 -1282.82 -1283.82 -1284.82 -1285.82 -1286.82 -1287.82 -1288.82; -1273.32 -1274.32 -1275.32 -1276.32 -1277.32 -1278.32 -1279.32 -1280.32 -1281.32 -1282.32 -1283.32; -1267.82 -1268.82 -1269.82 -1270.82 -1271.82 -1272.82 -1273.82 -1274.82 -1275.82 -1276.82 -1277.82; -1262.32 -1263.32 -1264.32 -1265.32 -1266.32 -1267.32 -1268.32 -1269.32 -1270.32 -1271.32 -1272.32; -1256.82 -1257.82 -1258.82 -1259.82 -1260.82 -1261.82 -1262.82 -1263.82 -1264.82 -1265.82 -1266.82; -1251.32 -1252.32 -1253.32 -1254.32 -1255.32 -1256.32 -1257.32 -1258.32 -1259.32 -1260.32 -1261.32; -1245.82 -1246.82 -1247.82 -1248.82 -1249.82 -1250.82 -1251.82 -1252.82 -1253.82 -1254.82 -1255.82; -1240.32 -1241.32 -1242.32 -1243.32 -1244.32 -1245.32 -1246.32 -1247.32 -1248.32 -1249.32 -1250.32; -1234.82 -1235.82 -1236.82 -1237.82 -1238.82 -1239.82 -1240.82 -1241.82 -1242.82 -1243.82 -1244.82; -1229.32 -1230.32 -1231.32 -1232.32 -1233.32 -1234.32 -1235.32 -1236.32 -1237.32 -1238.32 -1239.32; -1223.82 -1224.82 -1225.82 -1226.82 -1227.82 -1228.82 -1229.82 -1230.82 -1231.82 -1232.82 -1233.82; -1218.32 -1219.32 -1220.32 -1221.32 -1222.32 -1223.32 -1224.32 -1225.32 -1226.32 -1227.32 -1228.32; -1212.82 -1213.82 -1214.82 -1215.82 -1216.82 -1217.82 -1218.82 -1219.82 -1220.82 -1221.82 -1222.82; -1207.32 -1208.32 -1209.32 -1210.32 -1211.32 -1212.32 -1213.32 -1214.32 -1215.32 -1216.32 -1217.32; -1201.82 -1202.82 -1203.82 -1204.82 -1205.82 -1206.82 -1207.82 -1208.82 -1209.82 -1210.82 -1211.82; -1196.32 -1197.32 -1198.32 -1199.32 -1200.32 -1201.32 -1202.32 -1203.32 -1204.32 -1205.32 -1206.32; -1190.82 -1191.82 -1192.82 -1193.82 -1194.82 -1195.82 -1196.82 -1197.82 -1198.82 -1199.82 -1200.82; -1185.32 -1186.32 -1187.32 -1188.32 -1189.32 -1190.32 -1191.32 -1192.32 -1193.32 -1194.32 -1195.32; -1179.82 -1180.82 -1181.82 -1182.82 -1183.82 -1184.82 -1185.82 -1186.82 -1187.82 -1188.82 -1189.82; -1174.32 -1175.32 -1176.32 -1177.32 -1178.32 -1179.32 -1180.32 -1181.32 -1182.32 -1183.32 -1184.32; -1168.82 -1169.82 -1170.82 -1171.82 -1172.82 -1173.82 -1174.82 -1175.82 -1176.82 -1177.82 -1178.82; -1163.32 -1164.32 -1165.32 -1166.32 -1167.32 -1168.32 -1169.32 -1170.32 -1171.32 -1172.32 -1173.32; -1157.82 -1158.82 -1159.82 -1160.82 -1161.82 -1162.82 -1163.82 -1164.82 -1165.82 -1166.82 -1167.82; -1152.32 -1153.32 -1154.32 -1155.32 -1156.32 -1157.32 -1158.32 -1159.32 -1160.32 -1161.32 -1162.32; -1146.82 -1147.82 -1148.82 -1149.82 -1150.82 -1151.82 -1152.82 -1153.82 -1154.82 -1155.82 -1156.82; -1141.32 -1142.32 -1143.32 -1144.32 -1145.32 -1146.32 -1147.32 -1148.32 -1149.32 -1150.32 -1151.32; -1135.82 -1136.82 -1137.82 -1138.82 -1139.82 -1140.82 -1141.82 -1142.82 -1143.82 -1144.82 -1145.82; -1130.32 -1131.32 -1132.32 -1133.32 -1134.32 -1135.32 -1136.32 -1137.32 -1138.32 -1139.32 -1140.32; -1124.82 -1125.82 -1126.82 -1127.82 -1128.82 -1129.82 -1130.82 -1131.82 -1132.82 -1133.82 -1134.82; -1119.32 -1120.32 -1121.32 -1122.32 -1123.32 -1124.32 -1125.32 -1126.32 -1127.32 -1128.32 -1129.32; -1113.82 -1114.82 -1115.82 -1116.82 -1117.82 -1118.82 -1119.82 -1120.82 -1121.82 -1122.82 -1123.82; -1108.32 -1109.32 -1110.32 -1111.32 -1112.32 -1113.32 -1114.32 -1115.32 -1116.32 -1117.32 -1118.32; -1102.82 -1103.82 -1104.82 -1105.82 -1106.82 -1107.82 -1108.82 -1109.82 -1110.82 -1111.82 -1112.82; -1097.32 -1098.32 -1099.32 -1100.32 -1101.32 -1102.32 -1103.32 -1104.32 -1105.32 -1106.32 -1107.32; -1091.82 -1092.82 -1093.82 -1094.82 -1095.82 -1096.82 -1097.82 -1098.82 -1099.82 -1100.82 -1101.82; -1086.32 -1087.32 -1088.32 -1089.32 -1090.32 -1091.32 -1092.32 -1093.32 -1094.32 -1095.32 -1096.32; -1080.82 -1081.82 -1082.82 -1083.82 -1084.82 -1085.82 -1086.82 -1087.82 -1088.82 -1089.82 -1090.82; -1075.32 -1076.32 -1077.32 -1078.32 -1079.32 -1080.32 -1081.32 -1082.32 -1083.32 -1084.32 -1085.32; -1069.82 -1070.82 -1071.82 -1072.82 -1073.82 -1074.82 -1075.82 -1076.82 -1077.82 -1078.82 -1079.82; -1064.32 -1065.32 -1066.32 -1067.32 -1068.32 -1069.32 -1070.32 -1071.32 -1072.32 -1073.32 -1074.32; -1058.82 -1059.82 -1060.82 -1061.82 -1062.82 -1063.82 -1064.82 -1065.82 -1066.82 -1067.82 -1068.82; -1053.32 -1054.32 -1055.32 -1056.32 -1057.32 -1058.32 -1059.32 -1060.32 -1061.32 -1062.32 -1063.32; -1047.82 -1048.82 -1049.82 -1050.82 -1051.82 -1052.82 -1053.82 -1054.82 -1055.82 -1056.82 -1057.82; -1042.32 -1043.32 -1044.32 -1045.32 -1046.32 -1047.32 -1048.32 -1049.32 -1050.32 -1051.32 -1052.32; -1036.82 -1037.82 -1038.82 -1039.82 -1040.82 -1041.82 -1042.82 -1043.82 -1044.82 -1045.82 -1046.82; -1031.32 -1032.32 -1033.32 -1034.32 -1035.32 -1036.32 -1037.32 -1038.32 -1039.32 -1040.32 -1041.32; -1025.82 -1026.82 -1027.82 -1028.82 -1029.82 -1030.82 -1031.82 -1032.82 -1033.82 -1034.82 -1035.82; -1020.32 -1021.32 -1022.32 -1023.32 -1024.32 -1025.32 -1026.32 -1027.32 -1028.32 -1029.32 -1030.32; -1014.82 -1015.82 -1016.82 -1017.82 -1018.82 -1019.82 -1020.82 -1021.82 -1022.82 -1023.82 -1024.82; -1009.32 -1010.32 -1011.32 -1012.32 -1013.32 -1014.32 -1015.32 -1016.32 -1017.32 -1018.32 -1019.32; -1003.82 -1004.82 -1005.82 -1006.82 -1007.82 -1008.82 -1009.82 -1010.82 -1011.82 -1012.82 -1013.82; -998.32 -999.32 -1000.32 -1001.32 -1002.32 -1003.32 -1004.32 -1005.32 -1006.32 -1007.32 -1008.32; -992.82 -993.82 -994.82 -995.82 -996.82 -997.82 -998.82 -999.82 -1000.82 -1001.82 -1002.82; -987.32 -988.32 -989.32 -990.32 -991.32 -992.32 -993.32 -994.32 -995.32 -996.32 -997.32; -981.82 -982.82 -983.82 -984.82 -985.82 -986.82 -987.82 -988.82 -989.82 -990.82 -991.82; -976.32 -977.32 -978.32"
     ]
    },
    {
     "name": "stdout",
     "output_type": "stream",
     "text": [
      " -979.32 -980.32 -981.32 -982.32 -983.32 -984.32 -985.32 -986.32; -970.82 -971.82 -972.82 -973.82 -974.82 -975.82 -976.82 -977.82 -978.82 -979.82 -980.82; -965.32 -966.32 -967.32 -968.32 -969.32 -970.32 -971.32 -972.32 -973.32 -974.32 -975.32; -959.82 -960.82 -961.82 -962.82 -963.82 -964.82 -965.82 -966.82 -967.82 -968.82 -969.82; -954.32 -955.32 -956.32 -957.32 -958.32 -959.32 -960.32 -961.32 -962.32 -963.32 -964.32; -948.82 -949.82 -950.82 -951.82 -952.82 -953.82 -954.82 -955.82 -956.82 -957.82 -958.82; -943.32 -944.32 -945.32 -946.32 -947.32 -948.32 -949.32 -950.32 -951.32 -952.32 -953.32; -937.82 -938.82 -939.82 -940.82 -941.82 -942.82 -943.82 -944.82 -945.82 -946.82 -947.82; -932.32 -933.32 -934.32 -935.32 -936.32 -937.32 -938.32 -939.32 -940.32 -941.32 -942.32; -926.82 -927.82 -928.82 -929.82 -930.82 -931.82 -932.82 -933.82 -934.82 -935.82 -936.82; -921.32 -922.32 -923.32 -924.32 -925.32 -926.32 -927.32 -928.32 -929.32 -930.32 -931.32; -915.82 -916.82 -917.82 -918.82 -919.82 -920.82 -921.82 -922.82 -923.82 -924.82 -925.82; -910.32 -911.32 -912.32 -913.32 -914.32 -915.32 -916.32 -917.32 -918.32 -919.32 -920.32; -904.82 -905.82 -906.82 -907.82 -908.82 -909.82 -910.82 -911.82 -912.82 -913.82 -914.82; -899.32 -900.32 -901.32 -902.32 -903.32 -904.32 -905.32 -906.32 -907.32 -908.32 -909.32; -893.82 -894.82 -895.82 -896.82 -897.82 -898.82 -899.82 -900.82 -901.82 -902.82 -903.82; -888.32 -889.32 -890.32 -891.32 -892.32 -893.32 -894.32 -895.32 -896.32 -897.32 -898.32; -882.82 -883.82 -884.82 -885.82 -886.82 -887.82 -888.82 -889.82 -890.82 -891.82 -892.82; -877.32 -878.32 -879.32 -880.32 -881.32 -882.32 -883.32 -884.32 -885.32 -886.32 -887.32; -871.82 -872.82 -873.82 -874.82 -875.82 -876.82 -877.82 -878.82 -879.82 -880.82 -881.82; -866.32 -867.32 -868.32 -869.32 -870.32 -871.32 -872.32 -873.32 -874.32 -875.32 -876.32; -860.82 -861.82 -862.82 -863.82 -864.82 -865.82 -866.82 -867.82 -868.82 -869.82 -870.82; -855.32 -856.32 -857.32 -858.32 -859.32 -860.32 -861.32 -862.32 -863.32 -864.32 -865.32; -849.82 -850.82 -851.82 -852.82 -853.82 -854.82 -855.82 -856.82 -857.82 -858.82 -859.82; -844.32 -845.32 -846.32 -847.32 -848.32 -849.32 -850.32 -851.32 -852.32 -853.32 -854.32; -838.82 -839.82 -840.82 -841.82 -842.82 -843.82 -844.82 -845.82 -846.82 -847.82 -848.82; -833.32 -834.32 -835.32 -836.32 -837.32 -838.32 -839.32 -840.32 -841.32 -842.32 -843.32; -827.82 -828.82 -829.82 -830.82 -831.82 -832.82 -833.82 -834.82 -835.82 -836.82 -837.82; -822.32 -823.32 -824.32 -825.32 -826.32 -827.32 -828.32 -829.32 -830.32 -831.32 -832.32; -816.82 -817.82 -818.82 -819.82 -820.82 -821.82 -822.82 -823.82 -824.82 -825.82 -826.82; -811.32 -812.32 -813.32 -814.32 -815.32 -816.32 -817.32 -818.32 -819.32 -820.32 -821.32; -805.82 -806.82 -807.82 -808.82 -809.82 -810.82 -811.82 -812.82 -813.82 -814.82 -815.82; -800.32 -801.32 -802.32 -803.32 -804.32 -805.32 -806.32 -807.32 -808.32 -809.32 -810.32; -794.82 -795.82 -796.82 -797.82 -798.82 -799.82 -800.82 -801.82 -802.82 -803.82 -804.82; -789.32 -790.32 -791.32 -792.32 -793.32 -794.32 -795.32 -796.32 -797.32 -798.32 -799.32; -783.82 -784.82 -785.82 -786.82 -787.82 -788.82 -789.82 -790.82 -791.82 -792.82 -793.82; -778.32 -779.32 -780.32 -781.32 -782.32 -783.32 -784.32 -785.32 -786.32 -787.32 -788.32; -772.82 -773.82 -774.82 -775.82 -776.82 -777.82 -778.82 -779.82 -780.82 -781.82 -782.82; -767.32 -768.32 -769.32 -770.32 -771.32 -772.32 -773.32 -774.32 -775.32 -776.32 -777.32; -761.82 -762.82 -763.82 -764.82 -765.82 -766.82 -767.82 -768.82 -769.82 -770.82 -771.82; -756.32 -757.32 -758.32 -759.32 -760.32 -761.32 -762.32 -763.32 -764.32 -765.32 -766.32; -750.82 -751.82 -752.82 -753.82 -754.82 -755.82 -756.82 -757.82 -758.82 -759.82 -760.82; -745.32 -746.32 -747.32 -748.32 -749.32 -750.32 -751.32 -752.32 -753.32 -754.32 -755.32; -739.82 -740.82 -741.82 -742.82 -743.82 -744.82 -745.82 -746.82 -747.82 -748.82 -749.82; -734.32 -735.32 -736.32 -737.32 -738.32 -739.32 -740.32 -741.32 -742.32 -743.32 -744.32; -728.82 -729.82 -730.82 -731.82 -732.82 -733.82 -734.82 -735.82 -736.82 -737.82 -738.82; -723.32 -724.32 -725.32 -726.32 -727.32 -728.32 -729.32 -730.32 -731.32 -732.32 -733.32; -717.82 -718.82 -719.82 -720.82 -721.82 -722.82 -723.82 -724.82 -725.82 -726.82 -727.82; -712.32 -713.32 -714.32 -715.32 -716.32 -717.32 -718.32 -719.32 -720.32 -721.32 -722.32; -706.82 -707.82 -708.82 -709.82 -710.82 -711.82 -712.82 -713.82 -714.82 -715.82 -716.82; -701.32 -702.32 -703.32 -704.32 -705.32 -706.32 -707.32 -708.32 -709.32 -710.32 -711.32; -695.82 -696.82 -697.82 -698.82 -699.82 -700.82 -701.82 -702.82 -703.82 -704.82 -705.82; -690.32 -691.32 -692.32 -693.32 -694.32 -695.32 -696.32 -697.32 -698.32 -699.32 -700.32; -684.82 -685.82 -686.82 -687.82 -688.82 -689.82 -690.82 -691.82 -692.82 -693.82 -694.82; -679.32 -680.32 -681.32 -682.32 -683.32 -684.32 -685.32 -686.32 -687.32 -688.32 -689.32; -673.82 -674.82 -675.82 -676.82 -677.82 -678.82 -679.82 -680.82 -681.82 -682.82 -683.82; -668.32 -669.32 -670.32 -671.32 -672.32 -673.32 -674.32 -675.32 -676.32 -677.32 -678.32; -662.82 -663.82 -664.82 -665.82 -666.82 -667.82 -668.82 -669.82 -670.82 -671.82 -672.82; -657.32 -658.32 -659.32 -660.32 -661.32 -662.32 -663.32 -664.32 -665.32 -666.32 -667.32; -651.82 -652.82 -653.82 -654.82 -655.82 -656.82 -657.82 -658.82 -659.82 -660.82 -661.82; -646.32 -647.32 -648.32 -649.32 -650.32 -651.32 -652.32 -653.32 -654.32 -655.32 -656.32; -640.82 -641.82 -642.82 -643.82 -644.82 -645.82 -646.82 -647.82 -648.82 -649.82 -650.82; -635.32 -636.32 -637.32 -638.32 -639.32 -640.32 -641.32 -642.32 -643.32 -644.32 -645.32; -629.82 -630.82 -631.82 -632.82 -633.82 -634.82 -635.82 -636.82 -637.82 -638.82 -639.82; -624.32 -625.32 -626.32 -627.32 -628.32 -629.32 -630.32 -631.32 -632.32 -633.32 -634.32; -618.82 -619.82 -620.82 -621.82 -622.82 -623.82 -624.82 -625.82 -626.82 -627.82 -628.82; -613.32 -614.32 -615.32 -616.32 -617.32 -618.32 -619.32 -620.32 -621.32 -622.32 -623.32; -607.82 -608.82 -609.82 -610.82 -611.82 -612.82 -613.82 -614.82 -615.82 -616.82 -617.82; -602.32 -603.32 -604.32 -605.32 -606.32 -607.32 -608.32 -609.32 -610.32 -611.32 -612.32; -596.82 -597.82 -598.82 -599.82 -600.82 -601.82 -602.82 -603.82 -604.82 -605.82 -606.82; -591.32 -592.32 -593.32 -594.32 -595.32 -596.32 -597.32 -598.32 -599.32 -600.32 -601.32; -585.82 -586.82 -587.82 -588.82 -589.82 -590.82 -591.82 -592.82 -593.82 -594.82 -595.82; -580.32 -581.32 -582.32 -583.32 -584.32 -585.32 -586.32 -587.32 -588.32 -589.32 -590.32; -574.82 -575.82 -576.82 -577.82 -578.82 -579.82 -580.82 -581.82 -582.82 -583.82 -584.82; -569.32 -570.32 -571.32 -572.32 -573.32 -574.32 -575.32 -576.32 -577.32 -578.32 -579.32; -563.82 -564.82 -565.82 -566.82 -567.82 -568.82 -569.82 -570.82 -571.82 -572.82 -573.82; -558.32 -559.32 -560.32 -561.32 -562.32 -563.32 -564.32 -565.32 -566.32 -567.32 -568.32; -552.82 -553.82 -554.82 -555.82 -556.82 -557.82 -558.82 -559.82 -560.82 -561.82 -562.82; -547.32 -548.32 -549.32 -550.32 -551.32 -552.32 -553.32 -554.32 -555.32 -556.32 -557.32; -541.82 -542.82 -543.82 -544.82 -545.82 -546.82 -547.82 -548.82 -549.82 -550.82 -551.82; -536.32 -537.32 -538.32 -539.32 -540.32 -541.32 -542.32 -543.32 -544.32 -545.32 -546.32; -530.82 -531.82 -532.82 -533.82 -534.82 -535.82 -536.82 -537.82 -538.82 -539.82 -540.82; -525.32 -526.32 -527.32 -528.32 -529.32 -530.32 -531.32 -532.32 -533.32 -534.32 -535.32; -519.82 -520.82 -521.82 -522.82 -523.82 -524.82 -525.82 -526.82 -527.82 -528.82 -529.82; -514.32 -515.32 -516.32 -517.32 -518.32 -519.32 -520.32 -521.32 -522.32 -523.32 -524.32; -508.82 -509.82 -510.82 -511.82 -512.82 -513.82 -514.82 -515.82 -516.82 -517.82 -518.82; -503.32 -504.32 -505.32 -506.32 -507.32 -508.32 -509.32 -510.32 -511.32 -512.32 -513.32; -497.82 -498.82 -499.82 -500.82 -501.82 -502.82 -503.82 -504.82 -505.82 -506.82 -507.82; -492.32 -493.32 -494.32 -495.32 -496.32 -497.32 -498.32 -499.32 -500.32 -501.32 -502.32; -486.82 -487.82 -488.82 -489.82 -490.82 -491.82 -492.82 -493.82 -494.82 -495.82 -496.82; -481.32 -482.32 -483.32 -484.32 -485.32 -486.32 -487.32 -488.32 -489.32 -490.32 -491.32; -475.82 -476.82 -477.82 -478.82 -479.82 -480.82 -481.82 -482.82 -483.82 -484.82 -485.82; -470.32 -471.32 -472.32 -473.32 -474.32 -475.32 -476.32 -477.32 -478.32 -479.32 -480.32; -464.82 -465.82 -466.82 -467.82 -468.82 -469.82 -470.82 -471.82 -472.82 -473.82 -474.82; -459.32 -460.32 -461.32 -462.32 -463.32 -464.32 -465.32 -466.32 -467.32 -468.32 -469.32; -453.82 -454.82 -455.82 -456.82 -457.82 -458.82 -459.82 -460.82 -461.82 -462.82 -463.82; -448.32 -449.32 -450.32 -451.32 -452.32 -453.32 -454.32 -455.32 -456.32 -457.32 -458.32; -442.82 -443.82 -444.82 -445.82 -446.82 -447.82 -448.82 -449.82 -450.82 -451.82 -452.82; -437.32 -438.32 -439.32 -440.32 -441.32 -442.32 -443.32 -444.32 -445.32 -446.32 -447.32; -431.82 -432.82 -433.82 -434.82 -435.82 -436.82 -437.82 -438.82 -439.82 -440.82 -441.82; -426.32 -427.32 -428.32 -429.32 -430.32 -431.32 -432.32 -433.32 -434.32 -435.32 -436.32; -420.82 -421.82 -422.82 -423.82 -424.82 -425.82 -426.82 -427.82 -428.82 -429.82 -430.82; -415.32 -416.32 -417.32 -418.32 -419.32 -420.32 -421.32 -422.32 -423.32 -424.32 -425.32; -409.82 -410.82 -411.82 -412.82 -413.82 -414.82 -415.82 -416.82 -417.82 -418.82 -419.82; -404.32 -405.32 -406.32 -407.32 -408.32 -409.32 -410.32 -411.32 -412.32 -413.32 -414.32; -398.82 -399.82 -400.82 -401.82 -402.82 -403.82 -404.82 -405.82 -406.82 -407.82 -408.82; -393.32 -394.32 -395.32 -396.32 -397.32 -398.32 -399.32 -400.32 -401.32 -402.32 -403.32; -387.82 -388.82 -389.82 -390.82 -391.82 -392.82 -393.82 -394.82 -395.82 -396.82 -397.82; -382.32 -383.32 -384.32 -385.32 -386.32 -387.32 -388.32 -389.32 -390.32 -391.32 -392.32; -376.82 -377.82 -378.82 -379.82 -380.82 -381.82 -382.82 -383.82 -384.82 -385.82 -386.82; -371.32 -372.32 -373.32 -374.32 -375.32 -376.32 -377.32 -378.32 -379.32 -380.32 -381.32; -365.82 -366.82 -367.82 -368.82 -369.82 -370.82 -371.82 -372.82 -373.82 -374.82 -375.82; -360.32 -361.32 -362.32 -363.32 -364.32 -365.32 -366.32 -367.32 -368.32 -369.32 -370.32; -354.82 -355.82 -356.82 -357.82 -358.82 -359.82 -360.82 -361.82 -362.82 -363.82 -364.82; -349.32 -350.32 -351.32 -352.32 -353.32 -354.32 -355.32 -356.32 -357.32 -358.32 -359.32; -343.82 -344.82 -345.82 -346.82 -347.82 -348.82 -349.82 -350.82 -351.82 -352.82 -353.82; -338.32 -339.32 -340.32 -341.32 -342.32 -343.32 -344.32 -345.32 -346.32 -347.32 -348.32; -332.82 -333.82 -334.82 -335.82 -336.82 -337.82 -338.82 -339.82 -340.82 -341.82 -342.82; -327.32 -328.32 -329.32 -330.32 -331.32 -332.32 -333.32 -334.32 -335.32 -336.32 -337.32; -321.82 -322.82 -323.82 -324.82 -325.82 -326.82 -327.82 -328.82 -329.82 -330.82 -331.82; -316.32 -317.32 -318.32 -319.32 -320.32 -321.32 -322.32 -323.32 -324.32 -325.32 -326.32; -310.82 -311.82 -312.82 -313.82 -314.82 -315.82 -316.82 -317.82 -318.82 -319.82 -320.82; -305.32 -306.32 -307.32 -308.32 -309.32 -310.32 -311.32 -312.32 -313.32 -314.32 -315.32; -299.82 -300.82 -301.82 -302.82 -303.82 -304.82 -305.82 -306.82 -307.82 -308.82 -309.82; -294.32 -295.32 -296.32 -297.32 -298.32 -299.32 -300.32 -301.32 -302.32 -303.32 -304.32; -288.82 -289.82 -290.82 -291.82 -292.82 -293.82 -294.82 -295.82 -296.82 -297.82 -298.82; -283.32 -284.32 -285.32 -286.32 -287.32 -288.32 -289.32 -290.32 -291.32 -292.32 -293.32; -277.82 -278.82 -279.82 -280.82 -281.82 -282.82 -283.82 -284.82 -285.82 -286.82 -287.82; -272.32 -273.32 -274.32 -275.32 -276.32 -277.32 -278.32 -279.32 -280.32 -281.32 -282.32; -266.82 -267.82 -268.82 -269.82 -270.82 -271.82 -272.82 -273.82 -274.82 -275.82 -276.82; -261.32 -262.32 -263.32 -264.32 -265.32 -266.32 -267.32 -268.32 -269.32 -270.32 -271.32; -255.82 -256.82 -257.82 -258.82 -259.82 -260.82 -261.82 -262.82 -263.82 -264.82 -265.82; -250.32 -251.32 -252.32 -253.32 -254.32 -255.32 -256.32 -257.32 -258.32 -259.32 -260.32; -244.82 -245.82 -246.82 -247.82 -248.82 -249.82 -250.82 -251.82 -252.82 -253.82 -254.82; -239.32 -240.32 -241.32 -242.32 -243.32 -244.32 -245.32 -246.32 -247.32 -248.32 -249.32; -233.82 -234.82 -235.82 -236.82 -237.82 -238.82 -239.82 -240.82 -241.82 -242.82 -243.82; -228.32 -229.32 -230.32 -231.32 -232.32 -233.32 -234.32 -235.32 -236.32 -237.32 -238.32; -222.82 -223.82 -224.82 -225.82 -226.82 -227.82 -228.82 -229.82 -230.82 -231.82 -232.82; -217.32 -218.32 -219.32 -220.32 -221.32 -222.32 -223.32 -224.32 -225.32 -226.32 -227.32; -211.82 -212.82 -213.82 -214.82 -215.82 -216.82 -217.82 -218.82 -219.82 -220.82 -221.82; -206.32 -207.32 -208.32 -209.32 -210.32 -211.32 -212.32 -213.32 -214.32 -215.32 -216.32; -200.82 -201.82 -202.82 -203.82 -204.82 -205.82 -206.82 -207.82 -208.82 -209.82 -210.82; -195.32 -196.32 -197.32 -198.32 -199.32 -200.32 -201.32 -202.32 -203.32 -204.32 -205.32; -189.82 -190.82 -191.82 -192.82 -193.82 -194.82 -195.82 -196.82 -197.82 -198.82 -199.82; -184.32 -185.32 -186.32 -187.32 -188.32 -189.32 -190.32 -191.32 -192.32 -193.32 -194.32; -178.82 -179.82 -180.82 -181.82 -182.82 -183.82 -184.82 -185.82 -186.82 -187.82 -188.82; -173.32 -174.32 -175.32 -176.32 -177.32 -178.32 -179.32 -180.32 -181.32 -182.32 -183.32; -167.82 -168.82 -169.82 -170.82 -171.82 -172.82 -173.82 -174.82 -175.82 -176.82 -177.82; -162.32 -163.32 -164.32 -165.32 -166.32 -167.32 -168.32 -169.32 -170.32 -171.32 -172.32; -156.82 -157.82 -158.82 -159.82 -160.82 -161.82 -162.82 -163.82 -164.82 -165.82 -166.82; -151.32 -152.32 -153.32 -154.32 -155.32 -156.32 -157.32 -158.32 -159.32 -160.32 -161.32; -145.82 -146.82 -147.82 -148.82 -149.82 -150.82 -151.82 -152.82 -153.82 -154.82 -155.82; -140.32 -141.32 -142.32 -143.32 -144.32 -145.32 -146.32 -147.32 -148.32 -149.32 -150.32; -134.82 -135.82 -136.82 -137.82 -138.82 -139.82 -140.82 -141.82 -142.82 -143.82 -144.82; -129.32 -130.32 -131.32 -132.32 -133.32 -134.32 -135.32 -136.32 -137.32 -138.32 -139.32; -123.82 -124.82 -125.82 -126.82 -127.82 -128.82 -129.82 -130.82 -131.82 -132.82 -133.82; -118.32 -119.32 -120.32 -121.32 -122.32 -123.32 -124.32 -125.32 -126.32 -127.32 -128.32; -112.82 -113.82 -114.82 -115.82 -116.82 -117.82 -118.82 -119.82 -120.82 -121.82 -122.82; -107.32 -108.32 -109.32 -110.32 -111.32 -112.32 -113.32 -114.32 -115.32 -116.32 -117.32; -101.82 -102.82 -103.82 -104.82 -105.82 -106.82 -107.82 -108.82 -109.82 -110.82 -111.82; -96.32 -97.32 -98.32 -99.32 -100.32 -101.32 -102.32 -103.32 -104.32 -105.32 -106.32; -90.82 -91.82 -92.82 -93.82 -94.82 -95.82 -96.82 -97.82 -98.82 -99.82 -100.82; -85.32 -86.32 -87.32 -88.32 -89.32 -90.32 -91.32 -92.32 -93.32 -94.32 -95.32; -79.82 -80.82 -81.82 -82.82 -83.82 -84.82 -85.82 -86.82 -87.82 -88.82 -89.82; -74.32 -75.32 -76.32 -77.32 -78.32 -79.32 -80.32 -81.32 -82.32 -83.32 -84.32; -68.82 -69.82 -70.82 -71.82 -72.82 -73.82 -74.82 -75.82 -76.82 -77.82 -78.82; -63.32 -64.32 -65.32 -66.32 -67.32 -68.32 -69.32 -70.32 -71.32 -72.32 -73.32; -57.82 -58.82 -59.82 -60.82 -61.82 -62.82 -63.82 -64.82 -65.82 -66.82 -67.82; -52.32 -53.32 -54.32 -55.32 -56.32 -57.32 -58.32 -59.32 -60.32 -61.32 -62.32; -46.82 -47.82 -48.82 -49.82 -50.82 -51.82 -52.82 -53.82 -54.82 -55.82 -56.82; -41.32 -42.32 -43.32 -44.32 -45.32 -46.32 -47.32 -48.32 -49.32 -50.32 -51.32; -35.82 -36.82 -37.82 -38.82 -39.82 -40.82 -41.82 -42.82 -43.82 -44.82 -45.82; -30.32 -31.32 -32.32 -33.32 -34.32 -35.32 -36.32 -37.32 -38.32 -39.32 -40.32; -24.82 -25.82 -26.82 -27.82 -28.82 -29.82 -30.82 -31.82 -32.82 -33.82 -34.82; -19.32 -20.32 -21.32 -22.32 -23.32 -24.32 -25.32 -26.32 -27.32 -28.32 -29.32; -13.82 -14.82 -15.82 -16.82 -17.82 -18.82 -19.82 -20.82 -21.82 -22.82 -23.82; -8.32 -9.32 -10.32 -11.32 -12.32 -13.32 -14.32 -15.32 -16.32 -17.32 -18.3; -3.0 -4.0 -5.0 -6.0 -7.0 -8.0 -9.0 -9.8 -10.4 -10.8 -11.0; 0.0 0.0 0.0 0.0 0.0 0.0 0.0 0.0 0.0 0.0 0.0]\n"
     ]
    }
   ],
   "source": [
    "DP(1000)"
   ]
  },
  {
   "cell_type": "markdown",
   "metadata": {},
   "source": [
    "Daily income ~5.5\n",
    "Overall, as the number on timesteps increase, the average daily gain converges toward 5.5, which totally makes sense as it is the average demand in flowers ( and $p=2$ and $c=1$)"
   ]
  },
  {
   "cell_type": "code",
   "execution_count": null,
   "metadata": {},
   "outputs": [],
   "source": []
  }
 ],
 "metadata": {
  "kernelspec": {
   "display_name": "Julia 0.6.0",
   "language": "julia",
   "name": "julia-0.6"
  },
  "language_info": {
   "file_extension": ".jl",
   "mimetype": "application/julia",
   "name": "julia",
   "version": "0.6.0"
  }
 },
 "nbformat": 4,
 "nbformat_minor": 1
}
