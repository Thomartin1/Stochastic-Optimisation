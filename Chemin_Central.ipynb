{
 "cells": [
  {
   "cell_type": "code",
   "execution_count": 2,
   "metadata": {},
   "outputs": [
    {
     "name": "stderr",
     "output_type": "stream",
     "text": [
      "\u001b[1m\u001b[36mINFO: \u001b[39m\u001b[22m\u001b[36mInitializing package repository /home/juser/.julia/v0.6\n",
      "\u001b[39m\u001b[1m\u001b[36mINFO: \u001b[39m\u001b[22m\u001b[36mCloning METADATA from https://github.com/JuliaLang/METADATA.jl\n",
      "\u001b[39m\u001b[1m\u001b[36mINFO: \u001b[39m\u001b[22m\u001b[36mCloning cache of BinDeps from https://github.com/JuliaLang/BinDeps.jl.git\n",
      "\u001b[39m\u001b[1m\u001b[36mINFO: \u001b[39m\u001b[22m\u001b[36mCloning cache of Cbc from https://github.com/JuliaOpt/Cbc.jl.git\n",
      "\u001b[39m\u001b[1m\u001b[36mINFO: \u001b[39m\u001b[22m\u001b[36mCloning cache of Clp from https://github.com/JuliaOpt/Clp.jl.git\n",
      "\u001b[39m\u001b[1m\u001b[36mINFO: \u001b[39m\u001b[22m\u001b[36mCloning cache of Compat from https://github.com/JuliaLang/Compat.jl.git\n",
      "\u001b[39m\u001b[1m\u001b[36mINFO: \u001b[39m\u001b[22m\u001b[36mCloning cache of MathProgBase from https://github.com/JuliaOpt/MathProgBase.jl.git\n",
      "\u001b[39m\u001b[1m\u001b[36mINFO: \u001b[39m\u001b[22m\u001b[36mCloning cache of SHA from https://github.com/staticfloat/SHA.jl.git\n",
      "\u001b[39m\u001b[1m\u001b[36mINFO: \u001b[39m\u001b[22m\u001b[36mCloning cache of URIParser from https://github.com/JuliaWeb/URIParser.jl.git\n",
      "\u001b[39m\u001b[1m\u001b[36mINFO: \u001b[39m\u001b[22m\u001b[36mInstalling BinDeps v0.6.0\n",
      "\u001b[39m\u001b[1m\u001b[36mINFO: \u001b[39m\u001b[22m\u001b[36mInstalling Cbc v0.3.2\n",
      "\u001b[39m\u001b[1m\u001b[36mINFO: \u001b[39m\u001b[22m\u001b[36mInstalling Clp v0.3.1\n",
      "\u001b[39m\u001b[1m\u001b[36mINFO: \u001b[39m\u001b[22m\u001b[36mInstalling Compat v0.34.0\n",
      "\u001b[39m\u001b[1m\u001b[36mINFO: \u001b[39m\u001b[22m\u001b[36mInstalling MathProgBase v0.6.4\n",
      "\u001b[39m\u001b[1m\u001b[36mINFO: \u001b[39m\u001b[22m\u001b[36mInstalling SHA v0.5.1\n",
      "\u001b[39m\u001b[1m\u001b[36mINFO: \u001b[39m\u001b[22m\u001b[36mInstalling URIParser v0.2.0\n",
      "\u001b[39m\u001b[1m\u001b[36mINFO: \u001b[39m\u001b[22m\u001b[36mBuilding Cbc\n",
      "\u001b[39m\u001b[1m\u001b[36mINFO: \u001b[39m\u001b[22m\u001b[36mPackage database updated\n",
      "\u001b[39m\u001b[1m\u001b[36mINFO: \u001b[39m\u001b[22m\u001b[36mPrecompiling module Clp.\n",
      "\u001b[39m"
     ]
    }
   ],
   "source": [
    "Pkg.add(\"Clp\")\n",
    "using JuMP, Clp"
   ]
  },
  {
   "cell_type": "code",
   "execution_count": null,
   "metadata": {},
   "outputs": [],
   "source": [
    "m = Model(solver = ClpSolver())\n",
    "\n",
    "@variable(m,0<= x[1:3])\n",
    "@constraint(m, sum(x[i] for i=1:3)=8)"
   ]
  },
  {
   "cell_type": "code",
   "execution_count": 14,
   "metadata": {},
   "outputs": [
    {
     "name": "stdout",
     "output_type": "stream",
     "text": [
      "-----------\n",
      "0.49180327868852464\n",
      "[0.965574, 1.78197, 5.25246]\n",
      "1.05\n",
      "[1.05, 0.05, 1.05]\n",
      "-----------\n",
      "-----------\n",
      "0.6559989485616651\n",
      "[0.560922, 4.93852, 2.50056]\n",
      "1.0050000000000001\n",
      "[1.005, 0.005, 1.005]\n",
      "-----------\n",
      "-----------\n",
      "1\n",
      "[0.142142, 7.54434, 0.313521]\n",
      "1.0167022906378493\n",
      "[1.0167, 0.0167023, 1.0167]\n",
      "-----------\n",
      "-----------\n",
      "1\n",
      "[0.0334905, 7.9136, 0.052905]\n",
      "1.0031959863562476\n",
      "[1.0032, 0.00319599, 1.0032]\n",
      "-----------\n",
      "-----------\n",
      "1\n",
      "[0.00678007, 7.98445, 0.00876952]\n",
      "1.0007154335141686\n",
      "[1.00072, 0.000715434, 1.00072]\n",
      "-----------\n"
     ]
    },
    {
     "data": {
      "text/plain": [
       "([0.00678007, 7.98445, 0.00876952], 1.0007154335141686, [1.00072, 0.000715434, 1.00072])"
      ]
     },
     "execution_count": 14,
     "metadata": {},
     "output_type": "execute_result"
    }
   ],
   "source": [
    "x0 = [1, 1, 6]\n",
    "y0 = 1.5\n",
    "z0 = [1.5, 0.5, 1.5]\n",
    "k = 0\n",
    "sigma = 0.1\n",
    "r = 0.9\n",
    "A = [1, 1, 1]\n",
    "b = 8\n",
    "c = [0, 1, 0]\n",
    "\n",
    "\n",
    "x = x0\n",
    "z = z0\n",
    "y = y0\n",
    "for i in 1:5\n",
    "    mu = 1/3 * dot(x, z)\n",
    "    \n",
    "    m = Model(solver = ClpSolver())\n",
    "    @variable(m,Dx[1:3])\n",
    "    @variable(m,Dy)\n",
    "    @variable(m,Dz[1:3])\n",
    "    @constraint(m, sum(A[i]*Dx[i] for i=1:3) == b - sum(A[i]*x[i] for i=1:3))\n",
    "    for i in 1:3\n",
    "        @constraint(m, Dy * A[i] - Dz[i] == c[i] - y * A[i] + z[i])\n",
    "        @constraint(m, z[i] * Dx[i] + x[i] * Dz[i] == sigma * mu - x[i]*z[i])\n",
    "    end\n",
    "    solve(m)\n",
    "    Dx = getvalue(Dx)\n",
    "    Dy = getvalue(Dy)\n",
    "    Dz = getvalue(Dz)\n",
    "    \n",
    "    alpha=ones(6)\n",
    "    for i in 1:3\n",
    "        if Dx[i] != 0\n",
    "            alpha[i] = -1*x[i]/Dx[i]\n",
    "        else\n",
    "            alpha[i] = 0 \n",
    "        end\n",
    "        if Dz[i] != 0\n",
    "            alpha[i + 3] = -z[i]/Dz[i]\n",
    "        else\n",
    "            alpha[i + 3] = 0\n",
    "            end\n",
    "    end\n",
    "    truealpha = 1\n",
    "    for i in 1:6\n",
    "        if alpha[i]<=truealpha && alpha[i]>0\n",
    "            truealpha = alpha[i]\n",
    "        end\n",
    "    end\n",
    "    x += r * truealpha * Dx\n",
    "    y += r * truealpha * Dy\n",
    "    z += r * truealpha * Dz\n",
    "    k += 1\n",
    "println(\"-----------\")\n",
    "println(truealpha)\n",
    "println(x)\n",
    "println(y)\n",
    "println(z)\n",
    "println(\"-----------\")\n",
    "end\n",
    "\n",
    "\n",
    "return(x, y, z)\n",
    "    "
   ]
  }
 ],
 "metadata": {
  "kernelspec": {
   "display_name": "Julia 0.6.0",
   "language": "julia",
   "name": "julia-0.6"
  },
  "language_info": {
   "file_extension": ".jl",
   "mimetype": "application/julia",
   "name": "julia",
   "version": "0.6.0"
  }
 },
 "nbformat": 4,
 "nbformat_minor": 2
}
